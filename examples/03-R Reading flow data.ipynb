{
 "cells": [
  {
   "cell_type": "markdown",
   "metadata": {},
   "source": [
    "## Reading Flow Cytometry data into R\n",
    "\n",
    "v1.0 (2021-03-29)  \n",
    "Lucas Graybuck  \n",
    "\n",
    "### Purpose\n",
    "\n",
    "In this notebook, we'll see how to read gating counts and flow cytometry .fcs files into R for analysis.\n",
    "\n",
    "This notebook was generated using the `R` language, running in the Jupyter Notebook environment on a HISE IDE instance. See the end of the document for the [Session Info](#Session-Info) for additional software version details.\n",
    "\n",
    "<a name = \"contents\"></a>\n",
    "\n",
    "### Contents\n",
    "\n",
    "- [Importing packages](#Importing-packages)\n",
    "- [Reading gating counts](#Reading-gating-counts)\n",
    "    - [Counts from hise](#Counts-from-hise)\n",
    "- [Reading .fcs files](#Reading-.fcs-files)\n",
    "- [Session Info](#Session-Info)"
   ]
  },
  {
   "cell_type": "markdown",
   "metadata": {},
   "source": [
    "### Importing packages\n",
    "\n",
    "Gating counts are simply stored as .csv files, so we can process those using base R packages. We'll load the `hise` package to demonstrate direct loading of these results.\n",
    "\n",
    "For .fcs files, we'll use the `flowCore` package to read data."
   ]
  },
  {
   "cell_type": "code",
   "execution_count": 1,
   "metadata": {},
   "outputs": [],
   "source": [
    "library(hise)\n",
    "library(flowCore)"
   ]
  },
  {
   "cell_type": "markdown",
   "metadata": {},
   "source": [
    "### Reading gating counts\n",
    "\n",
    "As part of our automated flow cytometry pipelines, we count cells that are found in a set of predefined gates. These can be read in directly using `hise`."
   ]
  },
  {
   "cell_type": "markdown",
   "metadata": {},
   "source": [
    "#### Counts from `hise`\n",
    "\n",
    "As shown in the notebook, `01-R Retrieving data from HISE.ipynb`, we can use the `getFileDescriptors()` function to locate gating counts:"
   ]
  },
  {
   "cell_type": "code",
   "execution_count": 2,
   "metadata": {},
   "outputs": [],
   "source": [
    "cu1_filter_list <- list(\n",
    "    cohort.cohortGuid = \"CU1\",\n",
    "    file.panel = \"PS1\"\n",
    ")\n",
    "\n",
    "cu1_count_desc <- getFileDescriptors(\n",
    "    fileType = \"FlowCytometry-supervised-stats\", \n",
    "    filter = cu1_filter_list)"
   ]
  },
  {
   "cell_type": "code",
   "execution_count": 3,
   "metadata": {},
   "outputs": [
    {
     "data": {
      "text/html": [
       "31"
      ],
      "text/latex": [
       "31"
      ],
      "text/markdown": [
       "31"
      ],
      "text/plain": [
       "[1] 31"
      ]
     },
     "metadata": {},
     "output_type": "display_data"
    }
   ],
   "source": [
    "length(cu1_count_desc)"
   ]
  },
  {
   "cell_type": "markdown",
   "metadata": {},
   "source": [
    "We can then read in these files using `readCytometryFile()`:"
   ]
  },
  {
   "cell_type": "code",
   "execution_count": 4,
   "metadata": {
    "scrolled": true
   },
   "outputs": [],
   "source": [
    "cu1_count_list <- lapply(\n",
    "    cu1_count_desc,\n",
    "    function(desc) {\n",
    "        readCytometryFile(desc$file$id,\n",
    "                          format = \"values\")\n",
    "    }\n",
    ")"
   ]
  },
  {
   "cell_type": "markdown",
   "metadata": {},
   "source": [
    "We now have a list where every entry is a data.frame of gate counts."
   ]
  },
  {
   "cell_type": "code",
   "execution_count": 5,
   "metadata": {},
   "outputs": [
    {
     "data": {
      "text/html": [
       "<table class=\"dataframe\">\n",
       "<caption>A data.frame: 6 × 5</caption>\n",
       "<thead>\n",
       "\t<tr><th></th><th scope=col>name</th><th scope=col>Population</th><th scope=col>Parent</th><th scope=col>Count</th><th scope=col>ParentCount</th></tr>\n",
       "\t<tr><th></th><th scope=col>&lt;chr&gt;</th><th scope=col>&lt;chr&gt;</th><th scope=col>&lt;chr&gt;</th><th scope=col>&lt;int&gt;</th><th scope=col>&lt;int&gt;</th></tr>\n",
       "</thead>\n",
       "<tbody>\n",
       "\t<tr><th scope=row>1</th><td>B006_PS1_PB00068-01_QC.fcs</td><td>/Cells                                         </td><td>root                                </td><td>392441</td><td>418976</td></tr>\n",
       "\t<tr><th scope=row>2</th><td>B006_PS1_PB00068-01_QC.fcs</td><td>/Cells/Singlets-H                              </td><td>/Cells                              </td><td>366205</td><td>392441</td></tr>\n",
       "\t<tr><th scope=row>3</th><td>B006_PS1_PB00068-01_QC.fcs</td><td>/Cells/Singlets-H/Singlets-W                   </td><td>/Cells/Singlets-H                   </td><td>344261</td><td>366205</td></tr>\n",
       "\t<tr><th scope=row>4</th><td>B006_PS1_PB00068-01_QC.fcs</td><td>/Cells/Singlets-H/Singlets-W/Cleanup           </td><td>/Cells/Singlets-H/Singlets-W        </td><td>343465</td><td>344261</td></tr>\n",
       "\t<tr><th scope=row>5</th><td>B006_PS1_PB00068-01_QC.fcs</td><td>/Cells/Singlets-H/Singlets-W/Cleanup/Non-viable</td><td>/Cells/Singlets-H/Singlets-W/Cleanup</td><td> 15480</td><td>343465</td></tr>\n",
       "\t<tr><th scope=row>6</th><td>B006_PS1_PB00068-01_QC.fcs</td><td>/Cells/Singlets-H/Singlets-W/Cleanup/Viable    </td><td>/Cells/Singlets-H/Singlets-W/Cleanup</td><td>327985</td><td>343465</td></tr>\n",
       "</tbody>\n",
       "</table>\n"
      ],
      "text/latex": [
       "A data.frame: 6 × 5\n",
       "\\begin{tabular}{r|lllll}\n",
       "  & name & Population & Parent & Count & ParentCount\\\\\n",
       "  & <chr> & <chr> & <chr> & <int> & <int>\\\\\n",
       "\\hline\n",
       "\t1 & B006\\_PS1\\_PB00068-01\\_QC.fcs & /Cells                                          & root                                 & 392441 & 418976\\\\\n",
       "\t2 & B006\\_PS1\\_PB00068-01\\_QC.fcs & /Cells/Singlets-H                               & /Cells                               & 366205 & 392441\\\\\n",
       "\t3 & B006\\_PS1\\_PB00068-01\\_QC.fcs & /Cells/Singlets-H/Singlets-W                    & /Cells/Singlets-H                    & 344261 & 366205\\\\\n",
       "\t4 & B006\\_PS1\\_PB00068-01\\_QC.fcs & /Cells/Singlets-H/Singlets-W/Cleanup            & /Cells/Singlets-H/Singlets-W         & 343465 & 344261\\\\\n",
       "\t5 & B006\\_PS1\\_PB00068-01\\_QC.fcs & /Cells/Singlets-H/Singlets-W/Cleanup/Non-viable & /Cells/Singlets-H/Singlets-W/Cleanup &  15480 & 343465\\\\\n",
       "\t6 & B006\\_PS1\\_PB00068-01\\_QC.fcs & /Cells/Singlets-H/Singlets-W/Cleanup/Viable     & /Cells/Singlets-H/Singlets-W/Cleanup & 327985 & 343465\\\\\n",
       "\\end{tabular}\n"
      ],
      "text/markdown": [
       "\n",
       "A data.frame: 6 × 5\n",
       "\n",
       "| <!--/--> | name &lt;chr&gt; | Population &lt;chr&gt; | Parent &lt;chr&gt; | Count &lt;int&gt; | ParentCount &lt;int&gt; |\n",
       "|---|---|---|---|---|---|\n",
       "| 1 | B006_PS1_PB00068-01_QC.fcs | /Cells                                          | root                                 | 392441 | 418976 |\n",
       "| 2 | B006_PS1_PB00068-01_QC.fcs | /Cells/Singlets-H                               | /Cells                               | 366205 | 392441 |\n",
       "| 3 | B006_PS1_PB00068-01_QC.fcs | /Cells/Singlets-H/Singlets-W                    | /Cells/Singlets-H                    | 344261 | 366205 |\n",
       "| 4 | B006_PS1_PB00068-01_QC.fcs | /Cells/Singlets-H/Singlets-W/Cleanup            | /Cells/Singlets-H/Singlets-W         | 343465 | 344261 |\n",
       "| 5 | B006_PS1_PB00068-01_QC.fcs | /Cells/Singlets-H/Singlets-W/Cleanup/Non-viable | /Cells/Singlets-H/Singlets-W/Cleanup |  15480 | 343465 |\n",
       "| 6 | B006_PS1_PB00068-01_QC.fcs | /Cells/Singlets-H/Singlets-W/Cleanup/Viable     | /Cells/Singlets-H/Singlets-W/Cleanup | 327985 | 343465 |\n",
       "\n"
      ],
      "text/plain": [
       "  name                       Population                                     \n",
       "1 B006_PS1_PB00068-01_QC.fcs /Cells                                         \n",
       "2 B006_PS1_PB00068-01_QC.fcs /Cells/Singlets-H                              \n",
       "3 B006_PS1_PB00068-01_QC.fcs /Cells/Singlets-H/Singlets-W                   \n",
       "4 B006_PS1_PB00068-01_QC.fcs /Cells/Singlets-H/Singlets-W/Cleanup           \n",
       "5 B006_PS1_PB00068-01_QC.fcs /Cells/Singlets-H/Singlets-W/Cleanup/Non-viable\n",
       "6 B006_PS1_PB00068-01_QC.fcs /Cells/Singlets-H/Singlets-W/Cleanup/Viable    \n",
       "  Parent                               Count  ParentCount\n",
       "1 root                                 392441 418976     \n",
       "2 /Cells                               366205 392441     \n",
       "3 /Cells/Singlets-H                    344261 366205     \n",
       "4 /Cells/Singlets-H/Singlets-W         343465 344261     \n",
       "5 /Cells/Singlets-H/Singlets-W/Cleanup  15480 343465     \n",
       "6 /Cells/Singlets-H/Singlets-W/Cleanup 327985 343465     "
      ]
     },
     "metadata": {},
     "output_type": "display_data"
    }
   ],
   "source": [
    "head(cu1_count_list[[3]])"
   ]
  },
  {
   "cell_type": "markdown",
   "metadata": {},
   "source": [
    "For downstream analysis, we may want to convert these results to a matrix:"
   ]
  },
  {
   "cell_type": "code",
   "execution_count": 6,
   "metadata": {},
   "outputs": [],
   "source": [
    "cu1_count_matrix <- matrix(nrow = length(cu1_count_list),\n",
    "                           ncol = nrow(cu1_count_list[[1]]))\n",
    "colnames(cu1_count_matrix) <- sub(\".+/\",\"\",cu1_count_list[[1]]$Population)\n",
    "rownames(cu1_count_matrix) <- unlist(lapply(cu1_count_list, function(counts) { counts$name[1] }))\n",
    "\n",
    "for (i in 1:length(cu1_count_list)) {\n",
    "    cu1_count_matrix[i,] <- cu1_count_list[[i]]$Count\n",
    "}"
   ]
  },
  {
   "cell_type": "code",
   "execution_count": 7,
   "metadata": {},
   "outputs": [
    {
     "data": {
      "text/html": [
       "<table class=\"dataframe\">\n",
       "<caption>A matrix: 5 × 10 of type int</caption>\n",
       "<thead>\n",
       "\t<tr><th></th><th scope=col>/Cells</th><th scope=col>Singlets-H</th><th scope=col>Singlets-W</th><th scope=col>Cleanup</th><th scope=col>Non-viable</th><th scope=col>Viable</th><th scope=col>Leukocytes</th><th scope=col>CD19+ Cells</th><th scope=col>B Cells</th><th scope=col>CD11c+ B Cells</th></tr>\n",
       "</thead>\n",
       "<tbody>\n",
       "\t<tr><th scope=row>B006_PS1_PB00067-01_QC.fcs</th><td>233728</td><td>216385</td><td>206407</td><td>205398</td><td>19726</td><td>185672</td><td>184902</td><td>27261</td><td>26436</td><td> 549</td></tr>\n",
       "\t<tr><th scope=row>B006_PS1_PB00090-01_QC.fcs</th><td>321007</td><td>299096</td><td>278908</td><td>278638</td><td>12633</td><td>266005</td><td>265576</td><td>14251</td><td>13773</td><td> 517</td></tr>\n",
       "\t<tr><th scope=row>B006_PS1_PB00068-01_QC.fcs</th><td>392441</td><td>366205</td><td>344261</td><td>343465</td><td>15480</td><td>327985</td><td>325936</td><td>16697</td><td>15756</td><td>1098</td></tr>\n",
       "\t<tr><th scope=row>B006_PS1_PB00073-01_QC.fcs</th><td>366031</td><td>346260</td><td>318704</td><td>317998</td><td>15387</td><td>302611</td><td>301891</td><td>23191</td><td>22303</td><td> 508</td></tr>\n",
       "\t<tr><th scope=row>B009_PS1_PB00095-01_QC.fcs</th><td>242446</td><td>227653</td><td>217468</td><td>217115</td><td>14102</td><td>203013</td><td>201182</td><td> 7293</td><td> 6996</td><td> 598</td></tr>\n",
       "</tbody>\n",
       "</table>\n"
      ],
      "text/latex": [
       "A matrix: 5 × 10 of type int\n",
       "\\begin{tabular}{r|llllllllll}\n",
       "  & /Cells & Singlets-H & Singlets-W & Cleanup & Non-viable & Viable & Leukocytes & CD19+ Cells & B Cells & CD11c+ B Cells\\\\\n",
       "\\hline\n",
       "\tB006\\_PS1\\_PB00067-01\\_QC.fcs & 233728 & 216385 & 206407 & 205398 & 19726 & 185672 & 184902 & 27261 & 26436 &  549\\\\\n",
       "\tB006\\_PS1\\_PB00090-01\\_QC.fcs & 321007 & 299096 & 278908 & 278638 & 12633 & 266005 & 265576 & 14251 & 13773 &  517\\\\\n",
       "\tB006\\_PS1\\_PB00068-01\\_QC.fcs & 392441 & 366205 & 344261 & 343465 & 15480 & 327985 & 325936 & 16697 & 15756 & 1098\\\\\n",
       "\tB006\\_PS1\\_PB00073-01\\_QC.fcs & 366031 & 346260 & 318704 & 317998 & 15387 & 302611 & 301891 & 23191 & 22303 &  508\\\\\n",
       "\tB009\\_PS1\\_PB00095-01\\_QC.fcs & 242446 & 227653 & 217468 & 217115 & 14102 & 203013 & 201182 &  7293 &  6996 &  598\\\\\n",
       "\\end{tabular}\n"
      ],
      "text/markdown": [
       "\n",
       "A matrix: 5 × 10 of type int\n",
       "\n",
       "| <!--/--> | /Cells | Singlets-H | Singlets-W | Cleanup | Non-viable | Viable | Leukocytes | CD19+ Cells | B Cells | CD11c+ B Cells |\n",
       "|---|---|---|---|---|---|---|---|---|---|---|\n",
       "| B006_PS1_PB00067-01_QC.fcs | 233728 | 216385 | 206407 | 205398 | 19726 | 185672 | 184902 | 27261 | 26436 |  549 |\n",
       "| B006_PS1_PB00090-01_QC.fcs | 321007 | 299096 | 278908 | 278638 | 12633 | 266005 | 265576 | 14251 | 13773 |  517 |\n",
       "| B006_PS1_PB00068-01_QC.fcs | 392441 | 366205 | 344261 | 343465 | 15480 | 327985 | 325936 | 16697 | 15756 | 1098 |\n",
       "| B006_PS1_PB00073-01_QC.fcs | 366031 | 346260 | 318704 | 317998 | 15387 | 302611 | 301891 | 23191 | 22303 |  508 |\n",
       "| B009_PS1_PB00095-01_QC.fcs | 242446 | 227653 | 217468 | 217115 | 14102 | 203013 | 201182 |  7293 |  6996 |  598 |\n",
       "\n"
      ],
      "text/plain": [
       "                           /Cells Singlets-H Singlets-W Cleanup Non-viable\n",
       "B006_PS1_PB00067-01_QC.fcs 233728 216385     206407     205398  19726     \n",
       "B006_PS1_PB00090-01_QC.fcs 321007 299096     278908     278638  12633     \n",
       "B006_PS1_PB00068-01_QC.fcs 392441 366205     344261     343465  15480     \n",
       "B006_PS1_PB00073-01_QC.fcs 366031 346260     318704     317998  15387     \n",
       "B009_PS1_PB00095-01_QC.fcs 242446 227653     217468     217115  14102     \n",
       "                           Viable Leukocytes CD19+ Cells B Cells CD11c+ B Cells\n",
       "B006_PS1_PB00067-01_QC.fcs 185672 184902     27261       26436    549          \n",
       "B006_PS1_PB00090-01_QC.fcs 266005 265576     14251       13773    517          \n",
       "B006_PS1_PB00068-01_QC.fcs 327985 325936     16697       15756   1098          \n",
       "B006_PS1_PB00073-01_QC.fcs 302611 301891     23191       22303    508          \n",
       "B009_PS1_PB00095-01_QC.fcs 203013 201182      7293        6996    598          "
      ]
     },
     "metadata": {},
     "output_type": "display_data"
    }
   ],
   "source": [
    "cu1_count_matrix[1:5,1:10]"
   ]
  },
  {
   "cell_type": "markdown",
   "metadata": {},
   "source": [
    "We could then quickly normalize this data to the fraction of the \"Leukocytes\" gate, and drop the QC columns:"
   ]
  },
  {
   "cell_type": "code",
   "execution_count": 8,
   "metadata": {},
   "outputs": [],
   "source": [
    "cu1_norm_matrix <- apply(\n",
    "    cu1_count_matrix,\n",
    "    1, # 1 for Row-wise analysis\n",
    "    function(counts) {\n",
    "        counts / counts[colnames(cu1_count_matrix) == \"Leukocytes\"]\n",
    "    }\n",
    ")\n",
    "# apply transposes the data, so we need to switch back\n",
    "cu1_norm_matrix <- t(cu1_norm_matrix)\n",
    "cu1_norm_matrix <- cu1_norm_matrix[,7:ncol(cu1_norm_matrix)]"
   ]
  },
  {
   "cell_type": "code",
   "execution_count": 9,
   "metadata": {},
   "outputs": [
    {
     "data": {
      "text/html": [
       "<table class=\"dataframe\">\n",
       "<caption>A matrix: 5 × 10 of type dbl</caption>\n",
       "<thead>\n",
       "\t<tr><th></th><th scope=col>Leukocytes</th><th scope=col>CD19+ Cells</th><th scope=col>B Cells</th><th scope=col>CD11c+ B Cells</th><th scope=col>CD123+ B Cells</th><th scope=col>CD27-IgD- B Cells</th><th scope=col>Naive B Cells</th><th scope=col>Plasmablasts</th><th scope=col>Post Switch Memory B Cells</th><th scope=col>Pre Switch Memory B Cells</th></tr>\n",
       "</thead>\n",
       "<tbody>\n",
       "\t<tr><th scope=row>B006_PS1_PB00067-01_QC.fcs</th><td>1</td><td>0.14743486</td><td>0.14297303</td><td>0.002969140</td><td>0.0027852592</td><td>0.002055143</td><td>0.12781365</td><td>0.0010708375</td><td>0.007019935</td><td>0.006084304</td></tr>\n",
       "\t<tr><th scope=row>B006_PS1_PB00090-01_QC.fcs</th><td>1</td><td>0.05366072</td><td>0.05186086</td><td>0.001946712</td><td>0.0114204597</td><td>0.002180167</td><td>0.02237778</td><td>0.0003351206</td><td>0.012956743</td><td>0.014346176</td></tr>\n",
       "\t<tr><th scope=row>B006_PS1_PB00068-01_QC.fcs</th><td>1</td><td>0.05122785</td><td>0.04834078</td><td>0.003368760</td><td>0.0011321241</td><td>0.002055618</td><td>0.02379608</td><td>0.0011229198</td><td>0.013005621</td><td>0.009483457</td></tr>\n",
       "\t<tr><th scope=row>B006_PS1_PB00073-01_QC.fcs</th><td>1</td><td>0.07681912</td><td>0.07387766</td><td>0.001682727</td><td>0.0115372767</td><td>0.001835099</td><td>0.04389995</td><td>0.0007850516</td><td>0.022726746</td><td>0.005415862</td></tr>\n",
       "\t<tr><th scope=row>B009_PS1_PB00095-01_QC.fcs</th><td>1</td><td>0.03625076</td><td>0.03477448</td><td>0.002972433</td><td>0.0005964748</td><td>0.001451422</td><td>0.01934567</td><td>0.0007704467</td><td>0.006581106</td><td>0.007396288</td></tr>\n",
       "</tbody>\n",
       "</table>\n"
      ],
      "text/latex": [
       "A matrix: 5 × 10 of type dbl\n",
       "\\begin{tabular}{r|llllllllll}\n",
       "  & Leukocytes & CD19+ Cells & B Cells & CD11c+ B Cells & CD123+ B Cells & CD27-IgD- B Cells & Naive B Cells & Plasmablasts & Post Switch Memory B Cells & Pre Switch Memory B Cells\\\\\n",
       "\\hline\n",
       "\tB006\\_PS1\\_PB00067-01\\_QC.fcs & 1 & 0.14743486 & 0.14297303 & 0.002969140 & 0.0027852592 & 0.002055143 & 0.12781365 & 0.0010708375 & 0.007019935 & 0.006084304\\\\\n",
       "\tB006\\_PS1\\_PB00090-01\\_QC.fcs & 1 & 0.05366072 & 0.05186086 & 0.001946712 & 0.0114204597 & 0.002180167 & 0.02237778 & 0.0003351206 & 0.012956743 & 0.014346176\\\\\n",
       "\tB006\\_PS1\\_PB00068-01\\_QC.fcs & 1 & 0.05122785 & 0.04834078 & 0.003368760 & 0.0011321241 & 0.002055618 & 0.02379608 & 0.0011229198 & 0.013005621 & 0.009483457\\\\\n",
       "\tB006\\_PS1\\_PB00073-01\\_QC.fcs & 1 & 0.07681912 & 0.07387766 & 0.001682727 & 0.0115372767 & 0.001835099 & 0.04389995 & 0.0007850516 & 0.022726746 & 0.005415862\\\\\n",
       "\tB009\\_PS1\\_PB00095-01\\_QC.fcs & 1 & 0.03625076 & 0.03477448 & 0.002972433 & 0.0005964748 & 0.001451422 & 0.01934567 & 0.0007704467 & 0.006581106 & 0.007396288\\\\\n",
       "\\end{tabular}\n"
      ],
      "text/markdown": [
       "\n",
       "A matrix: 5 × 10 of type dbl\n",
       "\n",
       "| <!--/--> | Leukocytes | CD19+ Cells | B Cells | CD11c+ B Cells | CD123+ B Cells | CD27-IgD- B Cells | Naive B Cells | Plasmablasts | Post Switch Memory B Cells | Pre Switch Memory B Cells |\n",
       "|---|---|---|---|---|---|---|---|---|---|---|\n",
       "| B006_PS1_PB00067-01_QC.fcs | 1 | 0.14743486 | 0.14297303 | 0.002969140 | 0.0027852592 | 0.002055143 | 0.12781365 | 0.0010708375 | 0.007019935 | 0.006084304 |\n",
       "| B006_PS1_PB00090-01_QC.fcs | 1 | 0.05366072 | 0.05186086 | 0.001946712 | 0.0114204597 | 0.002180167 | 0.02237778 | 0.0003351206 | 0.012956743 | 0.014346176 |\n",
       "| B006_PS1_PB00068-01_QC.fcs | 1 | 0.05122785 | 0.04834078 | 0.003368760 | 0.0011321241 | 0.002055618 | 0.02379608 | 0.0011229198 | 0.013005621 | 0.009483457 |\n",
       "| B006_PS1_PB00073-01_QC.fcs | 1 | 0.07681912 | 0.07387766 | 0.001682727 | 0.0115372767 | 0.001835099 | 0.04389995 | 0.0007850516 | 0.022726746 | 0.005415862 |\n",
       "| B009_PS1_PB00095-01_QC.fcs | 1 | 0.03625076 | 0.03477448 | 0.002972433 | 0.0005964748 | 0.001451422 | 0.01934567 | 0.0007704467 | 0.006581106 | 0.007396288 |\n",
       "\n"
      ],
      "text/plain": [
       "                           Leukocytes CD19+ Cells B Cells    CD11c+ B Cells\n",
       "B006_PS1_PB00067-01_QC.fcs 1          0.14743486  0.14297303 0.002969140   \n",
       "B006_PS1_PB00090-01_QC.fcs 1          0.05366072  0.05186086 0.001946712   \n",
       "B006_PS1_PB00068-01_QC.fcs 1          0.05122785  0.04834078 0.003368760   \n",
       "B006_PS1_PB00073-01_QC.fcs 1          0.07681912  0.07387766 0.001682727   \n",
       "B009_PS1_PB00095-01_QC.fcs 1          0.03625076  0.03477448 0.002972433   \n",
       "                           CD123+ B Cells CD27-IgD- B Cells Naive B Cells\n",
       "B006_PS1_PB00067-01_QC.fcs 0.0027852592   0.002055143       0.12781365   \n",
       "B006_PS1_PB00090-01_QC.fcs 0.0114204597   0.002180167       0.02237778   \n",
       "B006_PS1_PB00068-01_QC.fcs 0.0011321241   0.002055618       0.02379608   \n",
       "B006_PS1_PB00073-01_QC.fcs 0.0115372767   0.001835099       0.04389995   \n",
       "B009_PS1_PB00095-01_QC.fcs 0.0005964748   0.001451422       0.01934567   \n",
       "                           Plasmablasts Post Switch Memory B Cells\n",
       "B006_PS1_PB00067-01_QC.fcs 0.0010708375 0.007019935               \n",
       "B006_PS1_PB00090-01_QC.fcs 0.0003351206 0.012956743               \n",
       "B006_PS1_PB00068-01_QC.fcs 0.0011229198 0.013005621               \n",
       "B006_PS1_PB00073-01_QC.fcs 0.0007850516 0.022726746               \n",
       "B009_PS1_PB00095-01_QC.fcs 0.0007704467 0.006581106               \n",
       "                           Pre Switch Memory B Cells\n",
       "B006_PS1_PB00067-01_QC.fcs 0.006084304              \n",
       "B006_PS1_PB00090-01_QC.fcs 0.014346176              \n",
       "B006_PS1_PB00068-01_QC.fcs 0.009483457              \n",
       "B006_PS1_PB00073-01_QC.fcs 0.005415862              \n",
       "B009_PS1_PB00095-01_QC.fcs 0.007396288              "
      ]
     },
     "metadata": {},
     "output_type": "display_data"
    }
   ],
   "source": [
    "cu1_norm_matrix[1:5,1:10]"
   ]
  },
  {
   "cell_type": "markdown",
   "metadata": {},
   "source": [
    "### Reading .fcs files\n",
    "\n",
    "In the notebook `01-R Retrieving data from HISE.ipynb`, we searched for and retrieved some .fcs data to the cache.\n",
    "\n",
    "Here, we'll load this dataset into R using `flowCore` for analysis"
   ]
  },
  {
   "cell_type": "code",
   "execution_count": 10,
   "metadata": {},
   "outputs": [],
   "source": [
    "cache_file_info <- read.csv(\"cache_info.csv\")"
   ]
  },
  {
   "cell_type": "code",
   "execution_count": 11,
   "metadata": {},
   "outputs": [],
   "source": [
    "fcs_file_ids <- cache_file_info$file.id[cache_file_info$file.fileType == \"FlowCytometry\"]"
   ]
  },
  {
   "cell_type": "code",
   "execution_count": 12,
   "metadata": {},
   "outputs": [
    {
     "data": {
      "text/html": [
       "'886b5851-f1d7-47fb-a52c-10abec6311d3'"
      ],
      "text/latex": [
       "'886b5851-f1d7-47fb-a52c-10abec6311d3'"
      ],
      "text/markdown": [
       "'886b5851-f1d7-47fb-a52c-10abec6311d3'"
      ],
      "text/plain": [
       "[1] \"886b5851-f1d7-47fb-a52c-10abec6311d3\""
      ]
     },
     "metadata": {},
     "output_type": "display_data"
    }
   ],
   "source": [
    "fcs_file_ids"
   ]
  },
  {
   "cell_type": "code",
   "execution_count": 13,
   "metadata": {},
   "outputs": [
    {
     "data": {
      "text/html": [
       "'cache/886b5851-f1d7-47fb-a52c-10abec6311d3/B001_PS1_PB00007-01_D01_011_QC.fcs'"
      ],
      "text/latex": [
       "'cache/886b5851-f1d7-47fb-a52c-10abec6311d3/B001\\_PS1\\_PB00007-01\\_D01\\_011\\_QC.fcs'"
      ],
      "text/markdown": [
       "'cache/886b5851-f1d7-47fb-a52c-10abec6311d3/B001_PS1_PB00007-01_D01_011_QC.fcs'"
      ],
      "text/plain": [
       "[1] \"cache/886b5851-f1d7-47fb-a52c-10abec6311d3/B001_PS1_PB00007-01_D01_011_QC.fcs\""
      ]
     },
     "metadata": {},
     "output_type": "display_data"
    }
   ],
   "source": [
    "fcs_file <- list.files(paste0(\"cache/\", fcs_file_ids[1]), full.names = TRUE)\n",
    "fcs_file"
   ]
  },
  {
   "cell_type": "code",
   "execution_count": 14,
   "metadata": {},
   "outputs": [],
   "source": [
    "fcs_data <- read.FCS(fcs_file)"
   ]
  },
  {
   "cell_type": "code",
   "execution_count": 15,
   "metadata": {},
   "outputs": [
    {
     "data": {
      "text/plain": [
       "flowFrame object 'd967c76b-60be-434c-9f46-734f8357c7e4'\n",
       "with 381484 cells and 32 observables:\n",
       "                  name      desc  range minRange maxRange\n",
       "$P1              FSC-A      <NA> 262144        0   262144\n",
       "$P2              FSC-H      <NA> 262144        0   262144\n",
       "$P3              FSC-W      <NA> 262144        0   262144\n",
       "$P4              SSC-A      <NA> 262144        0   262144\n",
       "$P5              SSC-H      <NA> 262144        0   262144\n",
       "$P6              SSC-W      <NA> 262144        0   262144\n",
       "$P7           BUV395-A       CD3 262144     -111   262144\n",
       "$P8           BUV496-A      CD45 262144     -111   262144\n",
       "$P9           BUV563-A      CD15 262144     -111   262144\n",
       "$P10          BUV615-A    CD45RA 262144     -111   262144\n",
       "$P11          BUV661-A      CD14 262144     -111   262144\n",
       "$P12          BUV737-A       CD8 262144     -111   262144\n",
       "$P13          BUV805-A     CD11c 262144     -111   262144\n",
       "$P14           BV421-A      CD25 262144     -111   262144\n",
       "$P15           BV480-A       CD4 262144     -111   262144\n",
       "$P16           BV510-A Live/Dead 262144     -111   262144\n",
       "$P17           BV605-A      CD16 262144     -111   262144\n",
       "$P18           BV650-A     CD123 262144     -111   262144\n",
       "$P19           BV711-A     CD127 262144     -111   262144\n",
       "$P20         BV750-P-A       IgD 262144     -111   262144\n",
       "$P21           BV786-A     CD304 262144     -111   262144\n",
       "$P22 Alexa Fluor 488-A     CD141 262144     -111   262144\n",
       "$P23           PerCP-A     CD11b 262144     -111   262144\n",
       "$P24         BB790-P-A      CD19 262144     -111   262144\n",
       "$P25              PE-A      CD27 262144     -111   262144\n",
       "$P26        PE/CF594-A     abTCR 262144     -111   262144\n",
       "$P27          PE-Cy5-A      CD34 262144     -111   262144\n",
       "$P28          PE-Cy7-A     CD197 262144     -111   262144\n",
       "$P29             APC-A      CD38 262144     -111   262144\n",
       "$P30   APC-Alexa 700-A      CD56 262144     -111   262144\n",
       "$P31         APC-Cy7-A    HLA-DR 262144     -111   262144\n",
       "$P32              Time      <NA> 262144        0   262144\n",
       "440 keywords are stored in the 'description' slot"
      ]
     },
     "metadata": {},
     "output_type": "display_data"
    }
   ],
   "source": [
    "fcs_data"
   ]
  },
  {
   "cell_type": "markdown",
   "metadata": {},
   "source": [
    "### Session Info"
   ]
  },
  {
   "cell_type": "code",
   "execution_count": 16,
   "metadata": {},
   "outputs": [
    {
     "data": {
      "text/plain": [
       "R version 4.0.2 (2020-06-22)\n",
       "Platform: x86_64-pc-linux-gnu (64-bit)\n",
       "Running under: Ubuntu 20.04 LTS\n",
       "\n",
       "Matrix products: default\n",
       "BLAS:   /usr/lib/x86_64-linux-gnu/openblas-pthread/libblas.so.3\n",
       "LAPACK: /usr/lib/x86_64-linux-gnu/openblas-pthread/liblapack.so.3\n",
       "\n",
       "locale:\n",
       " [1] LC_CTYPE=C.UTF-8       LC_NUMERIC=C           LC_TIME=C.UTF-8       \n",
       " [4] LC_COLLATE=C.UTF-8     LC_MONETARY=C.UTF-8    LC_MESSAGES=C.UTF-8   \n",
       " [7] LC_PAPER=C.UTF-8       LC_NAME=C              LC_ADDRESS=C          \n",
       "[10] LC_TELEPHONE=C         LC_MEASUREMENT=C.UTF-8 LC_IDENTIFICATION=C   \n",
       "\n",
       "attached base packages:\n",
       "[1] stats     graphics  grDevices utils     datasets  methods   base     \n",
       "\n",
       "other attached packages:\n",
       "[1] flowCore_2.0.1 hise_1.0.3    \n",
       "\n",
       "loaded via a namespace (and not attached):\n",
       " [1] Rcpp_1.0.6          BiocGenerics_0.36.0 uuid_0.1-4         \n",
       " [4] R6_2.5.0            rlang_0.4.10        fansi_0.4.2        \n",
       " [7] httr_1.4.2          tools_4.0.2         parallel_4.0.2     \n",
       "[10] Biobase_2.50.0      utf8_1.2.1          htmltools_0.5.1.1  \n",
       "[13] ellipsis_0.3.1      matrixStats_0.58.0  assertthat_0.2.1   \n",
       "[16] RcppParallel_5.0.3  digest_0.6.27       lifecycle_1.0.0    \n",
       "[19] crayon_1.4.1        IRdisplay_1.0       cytolib_2.0.3      \n",
       "[22] repr_1.1.3          RProtoBufLib_2.0.0  vctrs_0.3.6        \n",
       "[25] bitops_1.0-6        base64enc_0.1-3     RCurl_1.98-1.2     \n",
       "[28] curl_4.3            IRkernel_1.1.1      evaluate_0.14      \n",
       "[31] pbdZMQ_0.3-5        compiler_4.0.2      pillar_1.5.1       \n",
       "[34] stats4_4.0.2        jsonlite_1.7.2     "
      ]
     },
     "metadata": {},
     "output_type": "display_data"
    }
   ],
   "source": [
    "sessionInfo()"
   ]
  },
  {
   "cell_type": "code",
   "execution_count": null,
   "metadata": {},
   "outputs": [],
   "source": []
  }
 ],
 "metadata": {
  "kernelspec": {
   "display_name": "R",
   "language": "R",
   "name": "ir"
  },
  "language_info": {
   "codemirror_mode": "r",
   "file_extension": ".r",
   "mimetype": "text/x-r-source",
   "name": "R",
   "pygments_lexer": "r",
   "version": "4.0.2"
  }
 },
 "nbformat": 4,
 "nbformat_minor": 4
}
