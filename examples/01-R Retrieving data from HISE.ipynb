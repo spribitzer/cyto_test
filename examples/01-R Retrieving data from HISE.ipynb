{
 "cells": [
  {
   "cell_type": "markdown",
   "metadata": {},
   "source": [
    "## Retrieving data from HISE in R\n",
    "\n",
    "v1.0 (2021-03-24)  \n",
    "Lucas Graybuck  \n",
    "\n",
    "### Purpose\n",
    "\n",
    "In this notebook, we'll examine how to use the `hise` package in our IDE environment to locate and download datasets related to our cohorts.\n",
    "\n",
    "This notebook was generated using the `R` language, running in the Jupyter Notebook environment on a HISE IDE instance. See the end of the document for the [Session Info](aSession-Info) for additional software version details.\n",
    "\n",
    "<a name = \"contents\"></a>\n",
    "\n",
    "### Contents\n",
    "\n",
    "- [Loading hise](#Loading-hise)\n",
    "- [Querying datasets](#Querying-datasets)\n",
    "    - [Example 1: scRNA-seq files from the FH1 cohort](#Example-1)\n",
    "    - [Example 2: Survey Panel fllow counts from BR1 7 days post-vaccination](#Example-2)\n",
    "    - [Example 3: scATAC-seq .arrow files from CU1 donors](#Example-3)\n",
    "- [Downloading datasets](#Downloading-datasets)\n",
    "    - [Downloading to the local file cache](#Downloading-to-the-local-file-cache)\n",
    "    - [Reading scRNA data directly into R](#Reading-scRNA-data-directly-into-R)\n",
    "    - [Reading flow data directly into R](#Reading-flow-data-directly-into-R)\n",
    "    - [Reading scATAC data directly into R](#Reading-scATAC-data-directly-into-R)\n",
    "- [Saving cache info for downstream steps](#Saving-cache-info-for-downstream-steps)\n",
    "- [Session Info](#Session-Info)"
   ]
  },
  {
   "cell_type": "markdown",
   "metadata": {},
   "source": [
    "### Loading `hise`\n",
    "\n",
    "Functions used to interact with the HISE SDK are stored in the `hise` package for R, which is installed by default on our IDE instances. It can be loaded with the `library()` function:"
   ]
  },
  {
   "cell_type": "code",
   "execution_count": 1,
   "metadata": {},
   "outputs": [],
   "source": [
    "library(hise)"
   ]
  },
  {
   "cell_type": "markdown",
   "metadata": {},
   "source": [
    "We'll also use this helper function to make it a bit easier to navigate the file description results we obtain:"
   ]
  },
  {
   "cell_type": "code",
   "execution_count": 2,
   "metadata": {},
   "outputs": [],
   "source": [
    "fileDescToDataframe <- function(descriptors,\n",
    "                                keep_labs = FALSE) {\n",
    "  \n",
    "  assertthat::assert_that(typeof(descriptors) == \"list\")\n",
    "  assertthat::assert_that(typeof(keep_labs) == \"logical\")\n",
    "  \n",
    "  do.call(\n",
    "    rbind,\n",
    "    lapply(\n",
    "      descriptors,\n",
    "      function(desc) {\n",
    "        desc <- unlist(desc)\n",
    "        desc <- desc[!grepl(\"scheme\", names(desc))]\n",
    "        names(desc) <- sub(\"^descriptors.\",\"\",names(desc))\n",
    "        if(!keep_labs) {\n",
    "          desc <- desc[!grepl(\"^lab\", names(desc))]\n",
    "        }\n",
    "        desc <- as.list(desc)\n",
    "        df <- as.data.frame(desc)\n",
    "        df\n",
    "      }\n",
    "    )\n",
    "  )\n",
    "}"
   ]
  },
  {
   "cell_type": "markdown",
   "metadata": {},
   "source": [
    "[Return to contents](#Contents)\n",
    "\n",
    "### Querying datasets\n",
    "\n",
    "To obtain file information we use the `getFileDescriptors` function along with a `fileType` parameter and a `filter` list object to perform more specific filtering.\n",
    "\n",
    "A few key filters are described below: \n",
    "- `cohort.cohortGuid`: Cohort Globally Unique ID (GUID)\n",
    "    - \"BR1\": Benaroya Research Institute Healthy Adult cohort 25-35 years old\n",
    "    - \"BR2\": Benaroya Research Institute Healthy Adult cohort 55-65 years old\n",
    "    - \"CU1\": University of Colorado Rheumatoid Arthritis cohort\n",
    "    - \"FH1\": Fred Hutch Newly Diagnosed Multiple Myeloma cohort\n",
    "    - \"FH2\": Fred Hutch Refractory Multiple Myeloma cohort\n",
    "    - \"SD1\": University of California San Diego Rheumatoid Arthritis cohort\n",
    "    - \"UP1\": University of Pennsylvania Healthy Pediatric cohort\n",
    "    - \"UP2\": University of Pennsylvania Melanoma anti-PD1 Immunotherapy cohort\n",
    "    - \"UP3\": University of Pennsylvania Inflammatory Bowel Disease cohort\n",
    "- `file.id`: File Globally Unique ID (e.g. \"a14dc9a1-0a48-40fe-9f3f-7ec570d46bd3\")\n",
    "- `file.fileType`: The file type to search for.\n",
    "    - \"FlowCytometry\": Flow Cytometry .fcs files (see the `file.panel` option for panel selection)\n",
    "    - \"FlowCytometry-supervised-stats\": Flow Cytometry supervised gating population counts (see the `file.panel` option for panel selection)\n",
    "    - \"scRNA-seq-labeled\": Labeled scRNA-seq .h5 dataset\n",
    "    - \"atac-assembly-archr-arrow\": scATAC-seq .arrow file for use with the ArchR framework\n",
    "    - \"atac-assembly-filtered-fragments-tsv-gz\": scATAC-seq fragments.tsv.gz file for use with other analysis frameworks\n",
    "    - \"atac-assembly-read-counts-per-windows-h5\": scATAC-seq fragment counts per genomic 5kb window\n",
    "    - \"atac-assembly-read-counts-gene-bodies-h5\": scATAC-seq fragment counts per gene body\n",
    "    - \"atac-assembly-read-counts-per-region-h5\": scATAC-seq fragment counts per TSS (+/-2kb)\n",
    "    - \"Olink\": Olink data matrix (cross-project)\n",
    "- `file.panel`: Used to select a flow cytometry panel. No applicable to other data types.\n",
    "    - \"PS1\": Survey Panel\n",
    "    - \"PB1\": B Cell Panel\n",
    "    - \"PM1\": Monocyte Panel\n",
    "    - \"PT1\": T Cell Panel\n",
    "- `sample.visitName`: Visit Name for the sample blood draw. \"Flu Year 1\" examples shown below. Year 2 is also becoming available for the 2021 flu shot season.\n",
    "    - \"Other - Non-Flu\": Samples unrelated to flu shot time courses\n",
    "    - \"Flu Year 1 Day 0\": Samples drawn on the same day as a flu vaccine\n",
    "    - \"Flu Year 1 Day 7\": Samples drawn near 7 days post-vaccination\n",
    "    - \"Flu Year 1 Day 90\": Samples drawn near 90 days post-vaccination\n",
    "    - \"Flu Year 1 Stand-Alone\": Free-standing samples not timed relative to vaccination\n",
    "- `sample.sampleKitGuid`: Sample submission kit Globally Unique ID (e.g. \"KT00134\")\n",
    "- `subject.biologicalSex`: Biological sex of donors (\"Female\" or \"Male\")\n",
    "- `subject.birthYear`: Birth year of the donors, in YYYY format as a character object (e.g. \"1958\")\n",
    "- `subject.race`: Subject self-described race\n",
    "- `subject.ethnicity`: Subject self-described ethnicity\n",
    "- `subject.subjectGuid`: A subject Globally Unique ID (e.g. \"FH1002\")"
   ]
  },
  {
   "cell_type": "markdown",
   "metadata": {},
   "source": [
    "[Return to contents](#Contents)\n",
    "\n",
    "#### Example 1  \n",
    "#### scRNA-seq files from the FH1 cohort"
   ]
  },
  {
   "cell_type": "code",
   "execution_count": 3,
   "metadata": {},
   "outputs": [],
   "source": [
    "fh1_filter_list <- list(\n",
    "    cohort.cohortGuid = \"FH1\"\n",
    ")\n",
    "\n",
    "fh1_rna_desc <- getFileDescriptors(\n",
    "    fileType = \"scRNA-seq-labeled\", \n",
    "    filter = fh1_filter_list)"
   ]
  },
  {
   "cell_type": "code",
   "execution_count": 4,
   "metadata": {},
   "outputs": [],
   "source": [
    "fh1_rna_desc <- fileDescToDataframe(fh1_rna_desc)"
   ]
  },
  {
   "cell_type": "markdown",
   "metadata": {},
   "source": [
    "How many files did we find?"
   ]
  },
  {
   "cell_type": "code",
   "execution_count": 5,
   "metadata": {},
   "outputs": [
    {
     "data": {
      "text/html": [
       "30"
      ],
      "text/latex": [
       "30"
      ],
      "text/markdown": [
       "30"
      ],
      "text/plain": [
       "[1] 30"
      ]
     },
     "metadata": {},
     "output_type": "display_data"
    }
   ],
   "source": [
    "nrow(fh1_rna_desc)"
   ]
  },
  {
   "cell_type": "markdown",
   "metadata": {},
   "source": [
    "What information do we have available for these files?"
   ]
  },
  {
   "cell_type": "code",
   "execution_count": 6,
   "metadata": {},
   "outputs": [
    {
     "name": "stdout",
     "output_type": "stream",
     "text": [
      "'data.frame':\t30 obs. of  21 variables:\n",
      " $ lastUpdated               : chr  \"2021-03-19T18:00:54.396Z\" \"2021-03-19T18:00:54.396Z\" \"2021-03-19T18:00:54.396Z\" \"2021-03-19T18:00:54.396Z\" ...\n",
      " $ sample.id                 : chr  \"990f590a-83ab-4c31-95bc-f8bec685e96a\" \"a43d2542-b590-476a-bc19-3d07d3df59de\" \"687aa7ab-7cc3-4a8f-8c2c-6d94e24c5804\" \"7fcef0d1-1a4c-4d59-ba3a-7fbbad731fa4\" ...\n",
      " $ sample.bridgingControl    : chr  \"false\" \"false\" \"false\" \"false\" ...\n",
      " $ sample.sampleKitGuid      : chr  \"KT00132\" \"KT00134\" \"KT00135\" \"KT00136\" ...\n",
      " $ sample.visitName          : chr  \"Other - Non-Flu\" \"Other - Non-Flu\" \"Other - Non-Flu\" \"Other - Non-Flu\" ...\n",
      " $ sample.drawDate           : chr  \"2020-01-01T00:00:00Z\" \"2020-03-01T00:00:00Z\" \"2020-04-01T00:00:00Z\" \"2020-04-01T00:00:00Z\" ...\n",
      " $ sample.daysSinceFirstVisit: chr  \"0\" \"0\" \"67\" \"0\" ...\n",
      " $ file.id                   : chr  \"7d3a8295-402e-47ab-80c2-e51b1a2a6c59\" \"58687b56-b0d6-4d0b-a46e-da57f7cf4665\" \"2716b9e4-38f3-4225-bfbe-1fef010e1926\" \"8f8de5fb-16b2-4e9a-acc3-eaf060fc2591\" ...\n",
      " $ file.name                 : chr  \"automated/merged/2020-09-15T19:35:44.423205814Z/B017/labeled/B017-P1_PB00132-01_2020-09-15T19:35:44.423205814Z_labeled.h5\" \"automated/merged/2020-09-15T19:35:44.423205814Z/B017/labeled/B017-P1_PB00134-01_2020-09-15T19:35:44.423205814Z_labeled.h5\" \"automated/merged/2020-09-15T19:35:44.423205814Z/B017/labeled/B017-P1_PB00135-01_2020-09-15T19:35:44.423205814Z_labeled.h5\" \"automated/merged/2020-09-15T19:35:44.423205814Z/B017/labeled/B017-P1_PB00136-01_2020-09-15T19:35:44.423205814Z_labeled.h5\" ...\n",
      " $ file.batchID              : chr  \"B017\" \"B017\" \"B017\" \"B017\" ...\n",
      " $ file.panel                : chr  \"\" \"\" \"\" \"\" ...\n",
      " $ file.pool                 : chr  \"\" \"\" \"\" \"\" ...\n",
      " $ file.fileType             : chr  \"scRNA-seq-labeled\" \"scRNA-seq-labeled\" \"scRNA-seq-labeled\" \"scRNA-seq-labeled\" ...\n",
      " $ subject.id                : chr  \"46607e6b-2665-4b73-b5c2-7a771ff1f023\" \"5fffe7b1-da27-479e-9a09-038fdef9709c\" \"46607e6b-2665-4b73-b5c2-7a771ff1f023\" \"edd5cfbc-f56d-4c50-9bb0-9da9aad4aa79\" ...\n",
      " $ subject.biologicalSex     : chr  \"Female\" \"Male\" \"Female\" \"Male\" ...\n",
      " $ subject.birthYear         : chr  \"1957\" \"1958\" \"1957\" \"1972\" ...\n",
      " $ subject.ethnicity         : chr  \"non-Hispanic origin\" \"non-Hispanic origin\" \"non-Hispanic origin\" \"non-Hispanic origin\" ...\n",
      " $ subject.partnerCode       : chr  \"FH\" \"FH\" \"FH\" \"FH\" ...\n",
      " $ subject.race              : chr  \"Caucasian\" \"Caucasian\" \"Caucasian\" \"Caucasian\" ...\n",
      " $ subject.subjectGuid       : chr  \"FH1002\" \"FH1003\" \"FH1002\" \"FH1004\" ...\n",
      " $ cohort.cohortGuid         : chr  \"FH1\" \"FH1\" \"FH1\" \"FH1\" ...\n"
     ]
    }
   ],
   "source": [
    "str(fh1_rna_desc)"
   ]
  },
  {
   "cell_type": "markdown",
   "metadata": {},
   "source": [
    "Let's take a look at the first few:"
   ]
  },
  {
   "cell_type": "code",
   "execution_count": 7,
   "metadata": {},
   "outputs": [
    {
     "data": {
      "text/html": [
       "<table class=\"dataframe\">\n",
       "<caption>A data.frame: 6 × 21</caption>\n",
       "<thead>\n",
       "\t<tr><th></th><th scope=col>lastUpdated</th><th scope=col>sample.id</th><th scope=col>sample.bridgingControl</th><th scope=col>sample.sampleKitGuid</th><th scope=col>sample.visitName</th><th scope=col>sample.drawDate</th><th scope=col>sample.daysSinceFirstVisit</th><th scope=col>file.id</th><th scope=col>file.name</th><th scope=col>file.batchID</th><th scope=col>⋯</th><th scope=col>file.pool</th><th scope=col>file.fileType</th><th scope=col>subject.id</th><th scope=col>subject.biologicalSex</th><th scope=col>subject.birthYear</th><th scope=col>subject.ethnicity</th><th scope=col>subject.partnerCode</th><th scope=col>subject.race</th><th scope=col>subject.subjectGuid</th><th scope=col>cohort.cohortGuid</th></tr>\n",
       "\t<tr><th></th><th scope=col>&lt;chr&gt;</th><th scope=col>&lt;chr&gt;</th><th scope=col>&lt;chr&gt;</th><th scope=col>&lt;chr&gt;</th><th scope=col>&lt;chr&gt;</th><th scope=col>&lt;chr&gt;</th><th scope=col>&lt;chr&gt;</th><th scope=col>&lt;chr&gt;</th><th scope=col>&lt;chr&gt;</th><th scope=col>&lt;chr&gt;</th><th scope=col>⋯</th><th scope=col>&lt;chr&gt;</th><th scope=col>&lt;chr&gt;</th><th scope=col>&lt;chr&gt;</th><th scope=col>&lt;chr&gt;</th><th scope=col>&lt;chr&gt;</th><th scope=col>&lt;chr&gt;</th><th scope=col>&lt;chr&gt;</th><th scope=col>&lt;chr&gt;</th><th scope=col>&lt;chr&gt;</th><th scope=col>&lt;chr&gt;</th></tr>\n",
       "</thead>\n",
       "<tbody>\n",
       "\t<tr><th scope=row>1</th><td>2021-03-19T18:00:54.396Z</td><td>990f590a-83ab-4c31-95bc-f8bec685e96a</td><td>false</td><td>KT00132</td><td>Other - Non-Flu</td><td>2020-01-01T00:00:00Z</td><td>0 </td><td>7d3a8295-402e-47ab-80c2-e51b1a2a6c59</td><td>automated/merged/2020-09-15T19:35:44.423205814Z/B017/labeled/B017-P1_PB00132-01_2020-09-15T19:35:44.423205814Z_labeled.h5</td><td>B017</td><td>⋯</td><td></td><td>scRNA-seq-labeled</td><td>46607e6b-2665-4b73-b5c2-7a771ff1f023</td><td>Female</td><td>1957</td><td>non-Hispanic origin</td><td>FH</td><td>Caucasian</td><td>FH1002</td><td>FH1</td></tr>\n",
       "\t<tr><th scope=row>2</th><td>2021-03-19T18:00:54.396Z</td><td>a43d2542-b590-476a-bc19-3d07d3df59de</td><td>false</td><td>KT00134</td><td>Other - Non-Flu</td><td>2020-03-01T00:00:00Z</td><td>0 </td><td>58687b56-b0d6-4d0b-a46e-da57f7cf4665</td><td>automated/merged/2020-09-15T19:35:44.423205814Z/B017/labeled/B017-P1_PB00134-01_2020-09-15T19:35:44.423205814Z_labeled.h5</td><td>B017</td><td>⋯</td><td></td><td>scRNA-seq-labeled</td><td>5fffe7b1-da27-479e-9a09-038fdef9709c</td><td>Male  </td><td>1958</td><td>non-Hispanic origin</td><td>FH</td><td>Caucasian</td><td>FH1003</td><td>FH1</td></tr>\n",
       "\t<tr><th scope=row>3</th><td>2021-03-19T18:00:54.396Z</td><td>687aa7ab-7cc3-4a8f-8c2c-6d94e24c5804</td><td>false</td><td>KT00135</td><td>Other - Non-Flu</td><td>2020-04-01T00:00:00Z</td><td>67</td><td>2716b9e4-38f3-4225-bfbe-1fef010e1926</td><td>automated/merged/2020-09-15T19:35:44.423205814Z/B017/labeled/B017-P1_PB00135-01_2020-09-15T19:35:44.423205814Z_labeled.h5</td><td>B017</td><td>⋯</td><td></td><td>scRNA-seq-labeled</td><td>46607e6b-2665-4b73-b5c2-7a771ff1f023</td><td>Female</td><td>1957</td><td>non-Hispanic origin</td><td>FH</td><td>Caucasian</td><td>FH1002</td><td>FH1</td></tr>\n",
       "\t<tr><th scope=row>4</th><td>2021-03-19T18:00:54.396Z</td><td>7fcef0d1-1a4c-4d59-ba3a-7fbbad731fa4</td><td>false</td><td>KT00136</td><td>Other - Non-Flu</td><td>2020-04-01T00:00:00Z</td><td>0 </td><td>8f8de5fb-16b2-4e9a-acc3-eaf060fc2591</td><td>automated/merged/2020-09-15T19:35:44.423205814Z/B017/labeled/B017-P1_PB00136-01_2020-09-15T19:35:44.423205814Z_labeled.h5</td><td>B017</td><td>⋯</td><td></td><td>scRNA-seq-labeled</td><td>edd5cfbc-f56d-4c50-9bb0-9da9aad4aa79</td><td>Male  </td><td>1972</td><td>non-Hispanic origin</td><td>FH</td><td>Caucasian</td><td>FH1004</td><td>FH1</td></tr>\n",
       "\t<tr><th scope=row>5</th><td>2021-03-19T18:00:54.396Z</td><td>1cf38bae-2a87-41f9-9330-29a627eecb82</td><td>false</td><td>KT00137</td><td>Other - Non-Flu</td><td>0001-01-01T00:00:00Z</td><td>0 </td><td>b29c2b7d-8d3e-436e-bc4a-10548e752248</td><td>automated/merged/2020-09-15T19:35:44.423205814Z/B017/labeled/B017-P1_PB00137-01_2020-09-15T19:35:44.423205814Z_labeled.h5</td><td>B017</td><td>⋯</td><td></td><td>scRNA-seq-labeled</td><td>5fffe7b1-da27-479e-9a09-038fdef9709c</td><td>Male  </td><td>1958</td><td>non-Hispanic origin</td><td>FH</td><td>Caucasian</td><td>FH1003</td><td>FH1</td></tr>\n",
       "\t<tr><th scope=row>6</th><td>2021-03-19T18:00:54.396Z</td><td>c903c635-b5f2-4afe-a103-72d7537d9caf</td><td>false</td><td>KT00138</td><td>Other - Non-Flu</td><td>0001-01-01T00:00:00Z</td><td>0 </td><td>eaebab13-1531-42e4-958b-78184a65d68c</td><td>automated/merged/2020-09-15T19:35:44.423205814Z/B017/labeled/B017-P1_PB00138-01_2020-09-15T19:35:44.423205814Z_labeled.h5</td><td>B017</td><td>⋯</td><td></td><td>scRNA-seq-labeled</td><td>edd5cfbc-f56d-4c50-9bb0-9da9aad4aa79</td><td>Male  </td><td>1972</td><td>non-Hispanic origin</td><td>FH</td><td>Caucasian</td><td>FH1004</td><td>FH1</td></tr>\n",
       "</tbody>\n",
       "</table>\n"
      ],
      "text/latex": [
       "A data.frame: 6 × 21\n",
       "\\begin{tabular}{r|lllllllllllllllllllll}\n",
       "  & lastUpdated & sample.id & sample.bridgingControl & sample.sampleKitGuid & sample.visitName & sample.drawDate & sample.daysSinceFirstVisit & file.id & file.name & file.batchID & ⋯ & file.pool & file.fileType & subject.id & subject.biologicalSex & subject.birthYear & subject.ethnicity & subject.partnerCode & subject.race & subject.subjectGuid & cohort.cohortGuid\\\\\n",
       "  & <chr> & <chr> & <chr> & <chr> & <chr> & <chr> & <chr> & <chr> & <chr> & <chr> & ⋯ & <chr> & <chr> & <chr> & <chr> & <chr> & <chr> & <chr> & <chr> & <chr> & <chr>\\\\\n",
       "\\hline\n",
       "\t1 & 2021-03-19T18:00:54.396Z & 990f590a-83ab-4c31-95bc-f8bec685e96a & false & KT00132 & Other - Non-Flu & 2020-01-01T00:00:00Z & 0  & 7d3a8295-402e-47ab-80c2-e51b1a2a6c59 & automated/merged/2020-09-15T19:35:44.423205814Z/B017/labeled/B017-P1\\_PB00132-01\\_2020-09-15T19:35:44.423205814Z\\_labeled.h5 & B017 & ⋯ &  & scRNA-seq-labeled & 46607e6b-2665-4b73-b5c2-7a771ff1f023 & Female & 1957 & non-Hispanic origin & FH & Caucasian & FH1002 & FH1\\\\\n",
       "\t2 & 2021-03-19T18:00:54.396Z & a43d2542-b590-476a-bc19-3d07d3df59de & false & KT00134 & Other - Non-Flu & 2020-03-01T00:00:00Z & 0  & 58687b56-b0d6-4d0b-a46e-da57f7cf4665 & automated/merged/2020-09-15T19:35:44.423205814Z/B017/labeled/B017-P1\\_PB00134-01\\_2020-09-15T19:35:44.423205814Z\\_labeled.h5 & B017 & ⋯ &  & scRNA-seq-labeled & 5fffe7b1-da27-479e-9a09-038fdef9709c & Male   & 1958 & non-Hispanic origin & FH & Caucasian & FH1003 & FH1\\\\\n",
       "\t3 & 2021-03-19T18:00:54.396Z & 687aa7ab-7cc3-4a8f-8c2c-6d94e24c5804 & false & KT00135 & Other - Non-Flu & 2020-04-01T00:00:00Z & 67 & 2716b9e4-38f3-4225-bfbe-1fef010e1926 & automated/merged/2020-09-15T19:35:44.423205814Z/B017/labeled/B017-P1\\_PB00135-01\\_2020-09-15T19:35:44.423205814Z\\_labeled.h5 & B017 & ⋯ &  & scRNA-seq-labeled & 46607e6b-2665-4b73-b5c2-7a771ff1f023 & Female & 1957 & non-Hispanic origin & FH & Caucasian & FH1002 & FH1\\\\\n",
       "\t4 & 2021-03-19T18:00:54.396Z & 7fcef0d1-1a4c-4d59-ba3a-7fbbad731fa4 & false & KT00136 & Other - Non-Flu & 2020-04-01T00:00:00Z & 0  & 8f8de5fb-16b2-4e9a-acc3-eaf060fc2591 & automated/merged/2020-09-15T19:35:44.423205814Z/B017/labeled/B017-P1\\_PB00136-01\\_2020-09-15T19:35:44.423205814Z\\_labeled.h5 & B017 & ⋯ &  & scRNA-seq-labeled & edd5cfbc-f56d-4c50-9bb0-9da9aad4aa79 & Male   & 1972 & non-Hispanic origin & FH & Caucasian & FH1004 & FH1\\\\\n",
       "\t5 & 2021-03-19T18:00:54.396Z & 1cf38bae-2a87-41f9-9330-29a627eecb82 & false & KT00137 & Other - Non-Flu & 0001-01-01T00:00:00Z & 0  & b29c2b7d-8d3e-436e-bc4a-10548e752248 & automated/merged/2020-09-15T19:35:44.423205814Z/B017/labeled/B017-P1\\_PB00137-01\\_2020-09-15T19:35:44.423205814Z\\_labeled.h5 & B017 & ⋯ &  & scRNA-seq-labeled & 5fffe7b1-da27-479e-9a09-038fdef9709c & Male   & 1958 & non-Hispanic origin & FH & Caucasian & FH1003 & FH1\\\\\n",
       "\t6 & 2021-03-19T18:00:54.396Z & c903c635-b5f2-4afe-a103-72d7537d9caf & false & KT00138 & Other - Non-Flu & 0001-01-01T00:00:00Z & 0  & eaebab13-1531-42e4-958b-78184a65d68c & automated/merged/2020-09-15T19:35:44.423205814Z/B017/labeled/B017-P1\\_PB00138-01\\_2020-09-15T19:35:44.423205814Z\\_labeled.h5 & B017 & ⋯ &  & scRNA-seq-labeled & edd5cfbc-f56d-4c50-9bb0-9da9aad4aa79 & Male   & 1972 & non-Hispanic origin & FH & Caucasian & FH1004 & FH1\\\\\n",
       "\\end{tabular}\n"
      ],
      "text/markdown": [
       "\n",
       "A data.frame: 6 × 21\n",
       "\n",
       "| <!--/--> | lastUpdated &lt;chr&gt; | sample.id &lt;chr&gt; | sample.bridgingControl &lt;chr&gt; | sample.sampleKitGuid &lt;chr&gt; | sample.visitName &lt;chr&gt; | sample.drawDate &lt;chr&gt; | sample.daysSinceFirstVisit &lt;chr&gt; | file.id &lt;chr&gt; | file.name &lt;chr&gt; | file.batchID &lt;chr&gt; | ⋯ ⋯ | file.pool &lt;chr&gt; | file.fileType &lt;chr&gt; | subject.id &lt;chr&gt; | subject.biologicalSex &lt;chr&gt; | subject.birthYear &lt;chr&gt; | subject.ethnicity &lt;chr&gt; | subject.partnerCode &lt;chr&gt; | subject.race &lt;chr&gt; | subject.subjectGuid &lt;chr&gt; | cohort.cohortGuid &lt;chr&gt; |\n",
       "|---|---|---|---|---|---|---|---|---|---|---|---|---|---|---|---|---|---|---|---|---|---|\n",
       "| 1 | 2021-03-19T18:00:54.396Z | 990f590a-83ab-4c31-95bc-f8bec685e96a | false | KT00132 | Other - Non-Flu | 2020-01-01T00:00:00Z | 0  | 7d3a8295-402e-47ab-80c2-e51b1a2a6c59 | automated/merged/2020-09-15T19:35:44.423205814Z/B017/labeled/B017-P1_PB00132-01_2020-09-15T19:35:44.423205814Z_labeled.h5 | B017 | ⋯ | <!----> | scRNA-seq-labeled | 46607e6b-2665-4b73-b5c2-7a771ff1f023 | Female | 1957 | non-Hispanic origin | FH | Caucasian | FH1002 | FH1 |\n",
       "| 2 | 2021-03-19T18:00:54.396Z | a43d2542-b590-476a-bc19-3d07d3df59de | false | KT00134 | Other - Non-Flu | 2020-03-01T00:00:00Z | 0  | 58687b56-b0d6-4d0b-a46e-da57f7cf4665 | automated/merged/2020-09-15T19:35:44.423205814Z/B017/labeled/B017-P1_PB00134-01_2020-09-15T19:35:44.423205814Z_labeled.h5 | B017 | ⋯ | <!----> | scRNA-seq-labeled | 5fffe7b1-da27-479e-9a09-038fdef9709c | Male   | 1958 | non-Hispanic origin | FH | Caucasian | FH1003 | FH1 |\n",
       "| 3 | 2021-03-19T18:00:54.396Z | 687aa7ab-7cc3-4a8f-8c2c-6d94e24c5804 | false | KT00135 | Other - Non-Flu | 2020-04-01T00:00:00Z | 67 | 2716b9e4-38f3-4225-bfbe-1fef010e1926 | automated/merged/2020-09-15T19:35:44.423205814Z/B017/labeled/B017-P1_PB00135-01_2020-09-15T19:35:44.423205814Z_labeled.h5 | B017 | ⋯ | <!----> | scRNA-seq-labeled | 46607e6b-2665-4b73-b5c2-7a771ff1f023 | Female | 1957 | non-Hispanic origin | FH | Caucasian | FH1002 | FH1 |\n",
       "| 4 | 2021-03-19T18:00:54.396Z | 7fcef0d1-1a4c-4d59-ba3a-7fbbad731fa4 | false | KT00136 | Other - Non-Flu | 2020-04-01T00:00:00Z | 0  | 8f8de5fb-16b2-4e9a-acc3-eaf060fc2591 | automated/merged/2020-09-15T19:35:44.423205814Z/B017/labeled/B017-P1_PB00136-01_2020-09-15T19:35:44.423205814Z_labeled.h5 | B017 | ⋯ | <!----> | scRNA-seq-labeled | edd5cfbc-f56d-4c50-9bb0-9da9aad4aa79 | Male   | 1972 | non-Hispanic origin | FH | Caucasian | FH1004 | FH1 |\n",
       "| 5 | 2021-03-19T18:00:54.396Z | 1cf38bae-2a87-41f9-9330-29a627eecb82 | false | KT00137 | Other - Non-Flu | 0001-01-01T00:00:00Z | 0  | b29c2b7d-8d3e-436e-bc4a-10548e752248 | automated/merged/2020-09-15T19:35:44.423205814Z/B017/labeled/B017-P1_PB00137-01_2020-09-15T19:35:44.423205814Z_labeled.h5 | B017 | ⋯ | <!----> | scRNA-seq-labeled | 5fffe7b1-da27-479e-9a09-038fdef9709c | Male   | 1958 | non-Hispanic origin | FH | Caucasian | FH1003 | FH1 |\n",
       "| 6 | 2021-03-19T18:00:54.396Z | c903c635-b5f2-4afe-a103-72d7537d9caf | false | KT00138 | Other - Non-Flu | 0001-01-01T00:00:00Z | 0  | eaebab13-1531-42e4-958b-78184a65d68c | automated/merged/2020-09-15T19:35:44.423205814Z/B017/labeled/B017-P1_PB00138-01_2020-09-15T19:35:44.423205814Z_labeled.h5 | B017 | ⋯ | <!----> | scRNA-seq-labeled | edd5cfbc-f56d-4c50-9bb0-9da9aad4aa79 | Male   | 1972 | non-Hispanic origin | FH | Caucasian | FH1004 | FH1 |\n",
       "\n"
      ],
      "text/plain": [
       "  lastUpdated              sample.id                           \n",
       "1 2021-03-19T18:00:54.396Z 990f590a-83ab-4c31-95bc-f8bec685e96a\n",
       "2 2021-03-19T18:00:54.396Z a43d2542-b590-476a-bc19-3d07d3df59de\n",
       "3 2021-03-19T18:00:54.396Z 687aa7ab-7cc3-4a8f-8c2c-6d94e24c5804\n",
       "4 2021-03-19T18:00:54.396Z 7fcef0d1-1a4c-4d59-ba3a-7fbbad731fa4\n",
       "5 2021-03-19T18:00:54.396Z 1cf38bae-2a87-41f9-9330-29a627eecb82\n",
       "6 2021-03-19T18:00:54.396Z c903c635-b5f2-4afe-a103-72d7537d9caf\n",
       "  sample.bridgingControl sample.sampleKitGuid sample.visitName\n",
       "1 false                  KT00132              Other - Non-Flu \n",
       "2 false                  KT00134              Other - Non-Flu \n",
       "3 false                  KT00135              Other - Non-Flu \n",
       "4 false                  KT00136              Other - Non-Flu \n",
       "5 false                  KT00137              Other - Non-Flu \n",
       "6 false                  KT00138              Other - Non-Flu \n",
       "  sample.drawDate      sample.daysSinceFirstVisit\n",
       "1 2020-01-01T00:00:00Z 0                         \n",
       "2 2020-03-01T00:00:00Z 0                         \n",
       "3 2020-04-01T00:00:00Z 67                        \n",
       "4 2020-04-01T00:00:00Z 0                         \n",
       "5 0001-01-01T00:00:00Z 0                         \n",
       "6 0001-01-01T00:00:00Z 0                         \n",
       "  file.id                             \n",
       "1 7d3a8295-402e-47ab-80c2-e51b1a2a6c59\n",
       "2 58687b56-b0d6-4d0b-a46e-da57f7cf4665\n",
       "3 2716b9e4-38f3-4225-bfbe-1fef010e1926\n",
       "4 8f8de5fb-16b2-4e9a-acc3-eaf060fc2591\n",
       "5 b29c2b7d-8d3e-436e-bc4a-10548e752248\n",
       "6 eaebab13-1531-42e4-958b-78184a65d68c\n",
       "  file.name                                                                                                                \n",
       "1 automated/merged/2020-09-15T19:35:44.423205814Z/B017/labeled/B017-P1_PB00132-01_2020-09-15T19:35:44.423205814Z_labeled.h5\n",
       "2 automated/merged/2020-09-15T19:35:44.423205814Z/B017/labeled/B017-P1_PB00134-01_2020-09-15T19:35:44.423205814Z_labeled.h5\n",
       "3 automated/merged/2020-09-15T19:35:44.423205814Z/B017/labeled/B017-P1_PB00135-01_2020-09-15T19:35:44.423205814Z_labeled.h5\n",
       "4 automated/merged/2020-09-15T19:35:44.423205814Z/B017/labeled/B017-P1_PB00136-01_2020-09-15T19:35:44.423205814Z_labeled.h5\n",
       "5 automated/merged/2020-09-15T19:35:44.423205814Z/B017/labeled/B017-P1_PB00137-01_2020-09-15T19:35:44.423205814Z_labeled.h5\n",
       "6 automated/merged/2020-09-15T19:35:44.423205814Z/B017/labeled/B017-P1_PB00138-01_2020-09-15T19:35:44.423205814Z_labeled.h5\n",
       "  file.batchID ⋯ file.pool file.fileType    \n",
       "1 B017         ⋯           scRNA-seq-labeled\n",
       "2 B017         ⋯           scRNA-seq-labeled\n",
       "3 B017         ⋯           scRNA-seq-labeled\n",
       "4 B017         ⋯           scRNA-seq-labeled\n",
       "5 B017         ⋯           scRNA-seq-labeled\n",
       "6 B017         ⋯           scRNA-seq-labeled\n",
       "  subject.id                           subject.biologicalSex subject.birthYear\n",
       "1 46607e6b-2665-4b73-b5c2-7a771ff1f023 Female                1957             \n",
       "2 5fffe7b1-da27-479e-9a09-038fdef9709c Male                  1958             \n",
       "3 46607e6b-2665-4b73-b5c2-7a771ff1f023 Female                1957             \n",
       "4 edd5cfbc-f56d-4c50-9bb0-9da9aad4aa79 Male                  1972             \n",
       "5 5fffe7b1-da27-479e-9a09-038fdef9709c Male                  1958             \n",
       "6 edd5cfbc-f56d-4c50-9bb0-9da9aad4aa79 Male                  1972             \n",
       "  subject.ethnicity   subject.partnerCode subject.race subject.subjectGuid\n",
       "1 non-Hispanic origin FH                  Caucasian    FH1002             \n",
       "2 non-Hispanic origin FH                  Caucasian    FH1003             \n",
       "3 non-Hispanic origin FH                  Caucasian    FH1002             \n",
       "4 non-Hispanic origin FH                  Caucasian    FH1004             \n",
       "5 non-Hispanic origin FH                  Caucasian    FH1003             \n",
       "6 non-Hispanic origin FH                  Caucasian    FH1004             \n",
       "  cohort.cohortGuid\n",
       "1 FH1              \n",
       "2 FH1              \n",
       "3 FH1              \n",
       "4 FH1              \n",
       "5 FH1              \n",
       "6 FH1              "
      ]
     },
     "metadata": {},
     "output_type": "display_data"
    }
   ],
   "source": [
    "head(fh1_rna_desc)"
   ]
  },
  {
   "cell_type": "markdown",
   "metadata": {},
   "source": [
    "How many did we get from each donor?"
   ]
  },
  {
   "cell_type": "code",
   "execution_count": 8,
   "metadata": {},
   "outputs": [
    {
     "data": {
      "text/plain": [
       "\n",
       "FH1002 FH1003 FH1004 FH1005 FH1006 FH1007 \n",
       "     6      6      6      4      4      4 "
      ]
     },
     "metadata": {},
     "output_type": "display_data"
    }
   ],
   "source": [
    "table(fh1_rna_desc$subject.subjectGuid)"
   ]
  },
  {
   "cell_type": "markdown",
   "metadata": {},
   "source": [
    "[Return to contents](#Contents)\n",
    "\n",
    "#### Example 2\n",
    "#### Flow Cytometry Survey Panel .fcs files and gating counts from BR1 7 days post-vaccination"
   ]
  },
  {
   "cell_type": "code",
   "execution_count": 9,
   "metadata": {},
   "outputs": [],
   "source": [
    "br1_filter_list <- list(\n",
    "    cohort.cohortGuid = \"BR1\",\n",
    "    file.panel = \"PS1\",\n",
    "    sample.visitName = \"Flu Year 1 Day 7\"\n",
    ")\n",
    "\n",
    "br1_flow_desc <- getFileDescriptors(\n",
    "    fileType = \"FlowCytometry\", \n",
    "    filter = br1_filter_list)"
   ]
  },
  {
   "cell_type": "code",
   "execution_count": 10,
   "metadata": {},
   "outputs": [],
   "source": [
    "br1_flow_desc <- fileDescToDataframe(br1_flow_desc)"
   ]
  },
  {
   "cell_type": "markdown",
   "metadata": {},
   "source": [
    "How many available?"
   ]
  },
  {
   "cell_type": "code",
   "execution_count": 11,
   "metadata": {},
   "outputs": [
    {
     "data": {
      "text/html": [
       "26"
      ],
      "text/latex": [
       "26"
      ],
      "text/markdown": [
       "26"
      ],
      "text/plain": [
       "[1] 26"
      ]
     },
     "metadata": {},
     "output_type": "display_data"
    }
   ],
   "source": [
    "nrow(br1_flow_desc)"
   ]
  },
  {
   "cell_type": "markdown",
   "metadata": {},
   "source": [
    "What's the basic demographic breakdown of these samples?"
   ]
  },
  {
   "cell_type": "code",
   "execution_count": 12,
   "metadata": {},
   "outputs": [
    {
     "data": {
      "text/plain": [
       "           \n",
       "            Female Male\n",
       "  Asian          2    1\n",
       "  Caucasian     10   12\n",
       "  Other          0    1"
      ]
     },
     "metadata": {},
     "output_type": "display_data"
    }
   ],
   "source": [
    "table(br1_flow_desc$subject.race, br1_flow_desc$subject.biologicalSex)"
   ]
  },
  {
   "cell_type": "markdown",
   "metadata": {},
   "source": [
    "We can obtain matching gating counts for each of these samples as well:"
   ]
  },
  {
   "cell_type": "code",
   "execution_count": 13,
   "metadata": {},
   "outputs": [],
   "source": [
    "br1_count_desc <- getFileDescriptors(\n",
    "    fileType = \"FlowCytometry-supervised-stats\", \n",
    "    filter = br1_filter_list)"
   ]
  },
  {
   "cell_type": "code",
   "execution_count": 14,
   "metadata": {},
   "outputs": [],
   "source": [
    "br1_count_desc <- fileDescToDataframe(br1_count_desc)"
   ]
  },
  {
   "cell_type": "code",
   "execution_count": 15,
   "metadata": {},
   "outputs": [
    {
     "data": {
      "text/html": [
       "8"
      ],
      "text/latex": [
       "8"
      ],
      "text/markdown": [
       "8"
      ],
      "text/plain": [
       "[1] 8"
      ]
     },
     "metadata": {},
     "output_type": "display_data"
    }
   ],
   "source": [
    "nrow(br1_count_desc)"
   ]
  },
  {
   "cell_type": "markdown",
   "metadata": {},
   "source": [
    "Looks like we don't have counts for everything. We can match these up to the .fcs files above using the `sample.sampleKitGuid` (which corresponds to the blood draw for the samples)."
   ]
  },
  {
   "cell_type": "code",
   "execution_count": 16,
   "metadata": {},
   "outputs": [],
   "source": [
    "matching_br1_flow_desc <- br1_flow_desc[match(br1_count_desc$sample.sampleKitGuid, br1_flow_desc$sample.sampleKitGuid),]"
   ]
  },
  {
   "cell_type": "code",
   "execution_count": 17,
   "metadata": {},
   "outputs": [
    {
     "data": {
      "text/html": [
       "8"
      ],
      "text/latex": [
       "8"
      ],
      "text/markdown": [
       "8"
      ],
      "text/plain": [
       "[1] 8"
      ]
     },
     "metadata": {},
     "output_type": "display_data"
    }
   ],
   "source": [
    "nrow(matching_br1_flow_desc)"
   ]
  },
  {
   "cell_type": "markdown",
   "metadata": {},
   "source": [
    "[Return to contents](#Contents)\n",
    "\n",
    "#### Example 3\n",
    "#### scATAC-seq .arrow files from CU1 donors"
   ]
  },
  {
   "cell_type": "code",
   "execution_count": 18,
   "metadata": {},
   "outputs": [],
   "source": [
    "cu1_filter_list <- list(\n",
    "    cohort.cohortGuid = \"CU1\"\n",
    ")\n",
    "\n",
    "cu1_atac_desc <- getFileDescriptors(\n",
    "    fileType = \"atac-assembly-archr-arrow\", \n",
    "    filter = cu1_filter_list)"
   ]
  },
  {
   "cell_type": "code",
   "execution_count": 19,
   "metadata": {},
   "outputs": [],
   "source": [
    "cu1_atac_desc <- fileDescToDataframe(cu1_atac_desc)"
   ]
  },
  {
   "cell_type": "code",
   "execution_count": 20,
   "metadata": {},
   "outputs": [
    {
     "data": {
      "text/html": [
       "16"
      ],
      "text/latex": [
       "16"
      ],
      "text/markdown": [
       "16"
      ],
      "text/plain": [
       "[1] 16"
      ]
     },
     "metadata": {},
     "output_type": "display_data"
    }
   ],
   "source": [
    "nrow(cu1_atac_desc)"
   ]
  },
  {
   "cell_type": "code",
   "execution_count": 21,
   "metadata": {},
   "outputs": [
    {
     "data": {
      "text/plain": [
       "        \n",
       "         Flu Year 1 Day 90 Flu Year 1 Stand-Alone Flu Year 2 Day 0\n",
       "  CU1001                 1                      0                0\n",
       "  CU1002                 1                      0                1\n",
       "  CU1003                 1                      0                1\n",
       "  CU1004                 1                      0                1\n",
       "  CU1005                 0                      0                1\n",
       "  CU1019                 0                      1                0\n",
       "  CU1020                 0                      1                0\n",
       "  CU1021                 0                      1                0\n",
       "  CU1022                 0                      1                0\n",
       "        \n",
       "         Flu Year 2 Day 7\n",
       "  CU1001                0\n",
       "  CU1002                1\n",
       "  CU1003                1\n",
       "  CU1004                1\n",
       "  CU1005                1\n",
       "  CU1019                0\n",
       "  CU1020                0\n",
       "  CU1021                0\n",
       "  CU1022                0"
      ]
     },
     "metadata": {},
     "output_type": "display_data"
    }
   ],
   "source": [
    "table(cu1_atac_desc$subject.subjectGuid, cu1_atac_desc$sample.visitName)"
   ]
  },
  {
   "cell_type": "markdown",
   "metadata": {},
   "source": [
    "[Return to contents](#Contents)\n",
    "\n",
    "### Downloading datasets\n",
    "\n",
    "Once we've found the data we want to use, there are multiple ways to download these datasets for analysis.\n",
    "\n",
    "The key piece of information we need to retrieve data is the `file.id` column we retrieved, above."
   ]
  },
  {
   "cell_type": "markdown",
   "metadata": {},
   "source": [
    "#### Downloading to the local file cache\n",
    "\n",
    "The simplest is to simply download the files to our locale cache using the `cacheFiles()` function.\n",
    "\n",
    "`cacheFiles()` will pull data out of HISE and into a local directory (\"cache/\" within the current working directory).\n",
    "\n",
    "To demonstrate, let's cache the first file from each of the 3 examples above\n",
    "\n",
    "Each call to cacheFiles returns a `list` object, which contains both the `filePath` to the file, as well as the same descriptors retrieved using `getFileDescriptors()`. We'll convert these to data.frame objects using `fileDescToDataframe()`."
   ]
  },
  {
   "cell_type": "code",
   "execution_count": 22,
   "metadata": {},
   "outputs": [],
   "source": [
    "fh1_rna_file_1 <- cacheFiles(list(fh1_rna_desc$file.id[1]))\n",
    "fh1_rna_file_1 <- fileDescToDataframe(fh1_rna_file_1)"
   ]
  },
  {
   "cell_type": "code",
   "execution_count": 23,
   "metadata": {},
   "outputs": [],
   "source": [
    "br1_flow_file_1 <- cacheFiles(list(br1_flow_desc$file.id[1]))\n",
    "br1_flow_file_1 <- fileDescToDataframe(br1_flow_file_1)"
   ]
  },
  {
   "cell_type": "code",
   "execution_count": 24,
   "metadata": {},
   "outputs": [],
   "source": [
    "cu1_atac_file_1 <- cacheFiles(list(cu1_atac_desc$file.id[1]))\n",
    "cu1_atac_file_1 <- fileDescToDataframe(cu1_atac_file_1)"
   ]
  },
  {
   "cell_type": "markdown",
   "metadata": {},
   "source": [
    "If we cache multiple files, we'll get an entry for each one:"
   ]
  },
  {
   "cell_type": "code",
   "execution_count": 25,
   "metadata": {},
   "outputs": [],
   "source": [
    "fh1_rna_files_2_to_5 <- cacheFiles(list(fh1_rna_desc$file.id[2:5]))\n",
    "fh1_rna_files_2_to_5 <- fileDescToDataframe(fh1_rna_files_2_to_5)"
   ]
  },
  {
   "cell_type": "code",
   "execution_count": 26,
   "metadata": {},
   "outputs": [
    {
     "name": "stdout",
     "output_type": "stream",
     "text": [
      "[1] \"Initiating file download for population-stats.csv\"\n",
      "[1] \"Download successful.\"\n",
      "[1] \"Initiating file download for population-stats.csv\"\n",
      "[1] \"Download successful.\"\n",
      "[1] \"Initiating file download for population-stats.csv\"\n",
      "[1] \"Download successful.\"\n",
      "[1] \"Initiating file download for population-stats.csv\"\n",
      "[1] \"Download successful.\"\n",
      "[1] \"Initiating file download for population-stats.csv\"\n",
      "[1] \"Download successful.\"\n",
      "[1] \"Initiating file download for population-stats.csv\"\n",
      "[1] \"Download successful.\"\n",
      "[1] \"Initiating file download for population-stats.csv\"\n",
      "[1] \"Download successful.\"\n",
      "[1] \"Initiating file download for population-stats.csv\"\n",
      "[1] \"Download successful.\"\n"
     ]
    }
   ],
   "source": [
    "br1_count_files <- cacheFiles(list(br1_count_desc$file.id))\n",
    "br1_count_files <- fileDescToDataframe(br1_count_files)"
   ]
  },
  {
   "cell_type": "markdown",
   "metadata": {},
   "source": [
    "In each case, the file location is in the `filePath` column:"
   ]
  },
  {
   "cell_type": "code",
   "execution_count": 27,
   "metadata": {},
   "outputs": [
    {
     "data": {
      "text/html": [
       "'cache/7d3a8295-402e-47ab-80c2-e51b1a2a6c59/B017-P1_PB00132-01_2020-09-15T19:35:44.423205814Z_labeled.h5'"
      ],
      "text/latex": [
       "'cache/7d3a8295-402e-47ab-80c2-e51b1a2a6c59/B017-P1\\_PB00132-01\\_2020-09-15T19:35:44.423205814Z\\_labeled.h5'"
      ],
      "text/markdown": [
       "'cache/7d3a8295-402e-47ab-80c2-e51b1a2a6c59/B017-P1_PB00132-01_2020-09-15T19:35:44.423205814Z_labeled.h5'"
      ],
      "text/plain": [
       "[1] \"cache/7d3a8295-402e-47ab-80c2-e51b1a2a6c59/B017-P1_PB00132-01_2020-09-15T19:35:44.423205814Z_labeled.h5\""
      ]
     },
     "metadata": {},
     "output_type": "display_data"
    }
   ],
   "source": [
    "fh1_rna_file_1$filePath"
   ]
  },
  {
   "cell_type": "code",
   "execution_count": 28,
   "metadata": {},
   "outputs": [
    {
     "data": {
      "text/html": [
       "<style>\n",
       ".list-inline {list-style: none; margin:0; padding: 0}\n",
       ".list-inline>li {display: inline-block}\n",
       ".list-inline>li:not(:last-child)::after {content: \"\\00b7\"; padding: 0 .5ex}\n",
       "</style>\n",
       "<ol class=list-inline><li>'cache/58687b56-b0d6-4d0b-a46e-da57f7cf4665/B017-P1_PB00134-01_2020-09-15T19:35:44.423205814Z_labeled.h5'</li><li>'cache/2716b9e4-38f3-4225-bfbe-1fef010e1926/B017-P1_PB00135-01_2020-09-15T19:35:44.423205814Z_labeled.h5'</li><li>'cache/8f8de5fb-16b2-4e9a-acc3-eaf060fc2591/B017-P1_PB00136-01_2020-09-15T19:35:44.423205814Z_labeled.h5'</li><li>'cache/b29c2b7d-8d3e-436e-bc4a-10548e752248/B017-P1_PB00137-01_2020-09-15T19:35:44.423205814Z_labeled.h5'</li></ol>\n"
      ],
      "text/latex": [
       "\\begin{enumerate*}\n",
       "\\item 'cache/58687b56-b0d6-4d0b-a46e-da57f7cf4665/B017-P1\\_PB00134-01\\_2020-09-15T19:35:44.423205814Z\\_labeled.h5'\n",
       "\\item 'cache/2716b9e4-38f3-4225-bfbe-1fef010e1926/B017-P1\\_PB00135-01\\_2020-09-15T19:35:44.423205814Z\\_labeled.h5'\n",
       "\\item 'cache/8f8de5fb-16b2-4e9a-acc3-eaf060fc2591/B017-P1\\_PB00136-01\\_2020-09-15T19:35:44.423205814Z\\_labeled.h5'\n",
       "\\item 'cache/b29c2b7d-8d3e-436e-bc4a-10548e752248/B017-P1\\_PB00137-01\\_2020-09-15T19:35:44.423205814Z\\_labeled.h5'\n",
       "\\end{enumerate*}\n"
      ],
      "text/markdown": [
       "1. 'cache/58687b56-b0d6-4d0b-a46e-da57f7cf4665/B017-P1_PB00134-01_2020-09-15T19:35:44.423205814Z_labeled.h5'\n",
       "2. 'cache/2716b9e4-38f3-4225-bfbe-1fef010e1926/B017-P1_PB00135-01_2020-09-15T19:35:44.423205814Z_labeled.h5'\n",
       "3. 'cache/8f8de5fb-16b2-4e9a-acc3-eaf060fc2591/B017-P1_PB00136-01_2020-09-15T19:35:44.423205814Z_labeled.h5'\n",
       "4. 'cache/b29c2b7d-8d3e-436e-bc4a-10548e752248/B017-P1_PB00137-01_2020-09-15T19:35:44.423205814Z_labeled.h5'\n",
       "\n",
       "\n"
      ],
      "text/plain": [
       "[1] \"cache/58687b56-b0d6-4d0b-a46e-da57f7cf4665/B017-P1_PB00134-01_2020-09-15T19:35:44.423205814Z_labeled.h5\"\n",
       "[2] \"cache/2716b9e4-38f3-4225-bfbe-1fef010e1926/B017-P1_PB00135-01_2020-09-15T19:35:44.423205814Z_labeled.h5\"\n",
       "[3] \"cache/8f8de5fb-16b2-4e9a-acc3-eaf060fc2591/B017-P1_PB00136-01_2020-09-15T19:35:44.423205814Z_labeled.h5\"\n",
       "[4] \"cache/b29c2b7d-8d3e-436e-bc4a-10548e752248/B017-P1_PB00137-01_2020-09-15T19:35:44.423205814Z_labeled.h5\""
      ]
     },
     "metadata": {},
     "output_type": "display_data"
    }
   ],
   "source": [
    "fh1_rna_files_2_to_5$filePath"
   ]
  },
  {
   "cell_type": "markdown",
   "metadata": {},
   "source": [
    "#### Reading scRNA data directly into R\n",
    "\n",
    "Helper functions are available to directly read scRNA-seq files for use with Seurat, BioConductor (SingleCellExperiment), and Monocle (cell_data_set):"
   ]
  },
  {
   "cell_type": "code",
   "execution_count": 29,
   "metadata": {},
   "outputs": [
    {
     "name": "stderr",
     "output_type": "stream",
     "text": [
      "Loading required namespace: Seurat\n",
      "\n"
     ]
    },
    {
     "data": {
      "text/plain": [
       "An object of class Seurat \n",
       "33538 features across 17791 samples within 1 assay \n",
       "Active assay: RNA (33538 features, 0 variable features)"
      ]
     },
     "metadata": {},
     "output_type": "display_data"
    }
   ],
   "source": [
    "fh1_rna_so <- readSCRNAFileSeurat(fh1_rna_desc$file.id[1])\n",
    "fh1_rna_so"
   ]
  },
  {
   "cell_type": "code",
   "execution_count": 30,
   "metadata": {},
   "outputs": [
    {
     "name": "stderr",
     "output_type": "stream",
     "text": [
      "Loading required namespace: SingleCellExperiment\n",
      "\n"
     ]
    },
    {
     "data": {
      "text/plain": [
       "class: SingleCellExperiment \n",
       "dim: 33538 17791 \n",
       "metadata(0):\n",
       "assays(1): counts\n",
       "rownames(33538): ENSG00000243485 ENSG00000237613 ... ENSG00000277475\n",
       "  ENSG00000268674\n",
       "rowData names(4): id name type i\n",
       "colnames(17791): 75464c00fa4d11ea81509e49704367d9\n",
       "  75464e4efa4d11ea81509e49704367d9 ... e144c3f0fa5211ea8383e6a022d3c9e0\n",
       "  e144c918fa5211ea8383e6a022d3c9e0\n",
       "colData names(19): barcodes batch_id ... umap_2 well_id\n",
       "reducedDimNames(0):\n",
       "altExpNames(0):"
      ]
     },
     "metadata": {},
     "output_type": "display_data"
    }
   ],
   "source": [
    "fh1_rna_se <- readSCRNAFileSCE(fh1_rna_desc$file.id[1])\n",
    "fh1_rna_se"
   ]
  },
  {
   "cell_type": "markdown",
   "metadata": {},
   "source": [
    "You may need to run the following from a terminal to install `monocle3`:\n",
    "```\n",
    "apt-get update\n",
    "apt-get install libudunits2-dev libpq-dev libgdal-dev\n",
    "Rscript --vanilla -e \"devtools::install_github('cole-trapnell-lab/monocle3', ref='develop')\"\n",
    "```"
   ]
  },
  {
   "cell_type": "raw",
   "metadata": {},
   "source": [
    "fh1_rna_cds <- readSCRNAFileCDS(fh1_rna_desc$file.id[1])"
   ]
  },
  {
   "cell_type": "raw",
   "metadata": {},
   "source": [
    "fh1_rna_cds"
   ]
  },
  {
   "cell_type": "markdown",
   "metadata": {},
   "source": [
    "#### Reading flow data directly into R\n",
    "\n",
    "Flow cytometry data can be directly loaded into R as a `flowFrame` object using the `readCytometryFile()` function for use with `flowCore` and related packages:"
   ]
  },
  {
   "cell_type": "code",
   "execution_count": 32,
   "metadata": {},
   "outputs": [],
   "source": [
    "br1_flow_data <- readCytometryFile(br1_flow_desc$file.id[1])"
   ]
  },
  {
   "cell_type": "code",
   "execution_count": 33,
   "metadata": {},
   "outputs": [
    {
     "data": {
      "text/plain": [
       "flowFrame object 'd967c76b-60be-434c-9f46-734f8357c7e4'\n",
       "with 381484 cells and 32 observables:\n",
       "                  name      desc  range minRange maxRange\n",
       "$P1              FSC-A      <NA> 262144        0   262144\n",
       "$P2              FSC-H      <NA> 262144        0   262144\n",
       "$P3              FSC-W      <NA> 262144        0   262144\n",
       "$P4              SSC-A      <NA> 262144        0   262144\n",
       "$P5              SSC-H      <NA> 262144        0   262144\n",
       "$P6              SSC-W      <NA> 262144        0   262144\n",
       "$P7           BUV395-A       CD3 262144     -111   262144\n",
       "$P8           BUV496-A      CD45 262144     -111   262144\n",
       "$P9           BUV563-A      CD15 262144     -111   262144\n",
       "$P10          BUV615-A    CD45RA 262144     -111   262144\n",
       "$P11          BUV661-A      CD14 262144     -111   262144\n",
       "$P12          BUV737-A       CD8 262144     -111   262144\n",
       "$P13          BUV805-A     CD11c 262144     -111   262144\n",
       "$P14           BV421-A      CD25 262144     -111   262144\n",
       "$P15           BV480-A       CD4 262144     -111   262144\n",
       "$P16           BV510-A Live/Dead 262144     -111   262144\n",
       "$P17           BV605-A      CD16 262144     -111   262144\n",
       "$P18           BV650-A     CD123 262144     -111   262144\n",
       "$P19           BV711-A     CD127 262144     -111   262144\n",
       "$P20         BV750-P-A       IgD 262144     -111   262144\n",
       "$P21           BV786-A     CD304 262144     -111   262144\n",
       "$P22 Alexa Fluor 488-A     CD141 262144     -111   262144\n",
       "$P23           PerCP-A     CD11b 262144     -111   262144\n",
       "$P24         BB790-P-A      CD19 262144     -111   262144\n",
       "$P25              PE-A      CD27 262144     -111   262144\n",
       "$P26        PE/CF594-A     abTCR 262144     -111   262144\n",
       "$P27          PE-Cy5-A      CD34 262144     -111   262144\n",
       "$P28          PE-Cy7-A     CD197 262144     -111   262144\n",
       "$P29             APC-A      CD38 262144     -111   262144\n",
       "$P30   APC-Alexa 700-A      CD56 262144     -111   262144\n",
       "$P31         APC-Cy7-A    HLA-DR 262144     -111   262144\n",
       "$P32              Time      <NA> 262144        0   262144\n",
       "440 keywords are stored in the 'description' slot"
      ]
     },
     "metadata": {},
     "output_type": "display_data"
    }
   ],
   "source": [
    "br1_flow_data[[1]]"
   ]
  },
  {
   "cell_type": "markdown",
   "metadata": {},
   "source": [
    "#### Reading scATAC data directly into R\n",
    "\n",
    "We currently don't have methods to immediately load scATAC-seq data into R.\n",
    "\n",
    "See the scATAC-seq analysis demo notebook for additional details about loading cached scATAC-seq data."
   ]
  },
  {
   "cell_type": "markdown",
   "metadata": {},
   "source": [
    "### Saving cache info for downstream steps\n",
    "\n",
    "For use with other scripts in this notebook, we'll save the file descriptor tables we've generated as a .csv file that we can read in later."
   ]
  },
  {
   "cell_type": "code",
   "execution_count": 34,
   "metadata": {},
   "outputs": [],
   "source": [
    "cache_info_list <- list(\n",
    "    fh1_rna_file_1,\n",
    "    fh1_rna_files_2_to_5,\n",
    "    br1_flow_file_1,\n",
    "    br1_count_files,\n",
    "    cu1_atac_file_1\n",
    ")\n",
    "\n",
    "all_cache_info <- do.call(rbind, cache_info_list)\n",
    "\n",
    "write.csv(all_cache_info, \"cache_info.csv\")"
   ]
  },
  {
   "cell_type": "markdown",
   "metadata": {},
   "source": [
    "### Session Info"
   ]
  },
  {
   "cell_type": "code",
   "execution_count": 35,
   "metadata": {},
   "outputs": [
    {
     "data": {
      "text/plain": [
       "R version 4.0.2 (2020-06-22)\n",
       "Platform: x86_64-pc-linux-gnu (64-bit)\n",
       "Running under: Ubuntu 20.04 LTS\n",
       "\n",
       "Matrix products: default\n",
       "BLAS:   /usr/lib/x86_64-linux-gnu/openblas-pthread/libblas.so.3\n",
       "LAPACK: /usr/lib/x86_64-linux-gnu/openblas-pthread/liblapack.so.3\n",
       "\n",
       "locale:\n",
       " [1] LC_CTYPE=C.UTF-8       LC_NUMERIC=C           LC_TIME=C.UTF-8       \n",
       " [4] LC_COLLATE=C.UTF-8     LC_MONETARY=C.UTF-8    LC_MESSAGES=C.UTF-8   \n",
       " [7] LC_PAPER=C.UTF-8       LC_NAME=C              LC_ADDRESS=C          \n",
       "[10] LC_TELEPHONE=C         LC_MEASUREMENT=C.UTF-8 LC_IDENTIFICATION=C   \n",
       "\n",
       "attached base packages:\n",
       "[1] stats     graphics  grDevices utils     datasets  methods   base     \n",
       "\n",
       "other attached packages:\n",
       "[1] hise_1.0.3\n",
       "\n",
       "loaded via a namespace (and not attached):\n",
       "  [1] Seurat_4.0.1                Rtsne_0.15                 \n",
       "  [3] colorspace_2.0-0            deldir_0.2-10              \n",
       "  [5] ellipsis_0.3.1              ggridges_0.5.3             \n",
       "  [7] IRdisplay_1.0               cytolib_2.0.3              \n",
       "  [9] XVector_0.30.0              GenomicRanges_1.42.0       \n",
       " [11] base64enc_0.1-3             spatstat.data_2.0-0        \n",
       " [13] leiden_0.3.7                listenv_0.8.0              \n",
       " [15] ggrepel_0.9.1               fansi_0.4.2                \n",
       " [17] codetools_0.2-18            splines_4.0.2              \n",
       " [19] polyclip_1.10-0             IRkernel_1.1.1             \n",
       " [21] jsonlite_1.7.2              ica_1.0-2                  \n",
       " [23] cluster_2.1.1               png_0.1-7                  \n",
       " [25] uwot_0.1.10                 shiny_1.6.0                \n",
       " [27] sctransform_0.3.2           spatstat.sparse_2.0-0      \n",
       " [29] compiler_4.0.2              httr_1.4.2                 \n",
       " [31] assertthat_0.2.1            SeuratObject_4.0.0         \n",
       " [33] Matrix_1.3-2                fastmap_1.1.0              \n",
       " [35] lazyeval_0.2.2              later_1.1.0.1              \n",
       " [37] htmltools_0.5.1.1           tools_4.0.2                \n",
       " [39] igraph_1.2.6                GenomeInfoDbData_1.2.4     \n",
       " [41] gtable_0.3.0                glue_1.4.2                 \n",
       " [43] RANN_2.6.1                  reshape2_1.4.4             \n",
       " [45] dplyr_1.0.4                 Rcpp_1.0.6                 \n",
       " [47] Biobase_2.50.0              scattermore_0.7            \n",
       " [49] vctrs_0.3.6                 nlme_3.1-152               \n",
       " [51] lmtest_0.9-38               stringr_1.4.0              \n",
       " [53] globals_0.14.0              mime_0.10                  \n",
       " [55] miniUI_0.1.1.1              lifecycle_1.0.0            \n",
       " [57] irlba_2.3.3                 goftest_1.2-2              \n",
       " [59] future_1.21.0               zlibbioc_1.36.0            \n",
       " [61] MASS_7.3-53.1               zoo_1.8-8                  \n",
       " [63] scales_1.1.1                spatstat.core_1.65-5       \n",
       " [65] RProtoBufLib_2.0.0          MatrixGenerics_1.2.1       \n",
       " [67] promises_1.2.0.1            spatstat.utils_2.1-0       \n",
       " [69] SummarizedExperiment_1.20.0 parallel_4.0.2             \n",
       " [71] rhdf5_2.32.4                RColorBrewer_1.1-2         \n",
       " [73] SingleCellExperiment_1.12.0 curl_4.3                   \n",
       " [75] reticulate_1.18             pbapply_1.4-3              \n",
       " [77] gridExtra_2.3               ggplot2_3.3.3              \n",
       " [79] rpart_4.1-15                stringi_1.5.3              \n",
       " [81] H5weaver_1.0.20             S4Vectors_0.28.1           \n",
       " [83] flowCore_2.0.1              BiocGenerics_0.36.0        \n",
       " [85] GenomeInfoDb_1.26.2         repr_1.1.3                 \n",
       " [87] rlang_0.4.10                pkgconfig_2.0.3            \n",
       " [89] matrixStats_0.58.0          bitops_1.0-6               \n",
       " [91] evaluate_0.14               lattice_0.20-41            \n",
       " [93] ROCR_1.0-11                 purrr_0.3.4                \n",
       " [95] tensor_1.5                  Rhdf5lib_1.10.1            \n",
       " [97] patchwork_1.1.1             htmlwidgets_1.5.3          \n",
       " [99] cowplot_1.1.1               tidyselect_1.1.0           \n",
       "[101] parallelly_1.23.0           RcppAnnoy_0.0.18           \n",
       "[103] plyr_1.8.6                  magrittr_2.0.1             \n",
       "[105] R6_2.5.0                    IRanges_2.24.1             \n",
       "[107] generics_0.1.0              DelayedArray_0.16.1        \n",
       "[109] pbdZMQ_0.3-5                DBI_1.1.1                  \n",
       "[111] pillar_1.5.1                mgcv_1.8-34                \n",
       "[113] fitdistrplus_1.1-3          survival_3.2-7             \n",
       "[115] abind_1.4-5                 RCurl_1.98-1.2             \n",
       "[117] tibble_3.1.0                future.apply_1.7.0         \n",
       "[119] crayon_1.4.1                uuid_0.1-4                 \n",
       "[121] KernSmooth_2.23-18          utf8_1.2.1                 \n",
       "[123] spatstat.geom_1.65-5        plotly_4.9.3               \n",
       "[125] grid_4.0.2                  data.table_1.14.0          \n",
       "[127] digest_0.6.27               xtable_1.8-4               \n",
       "[129] tidyr_1.1.2                 httpuv_1.5.5               \n",
       "[131] RcppParallel_5.0.3          stats4_4.0.2               \n",
       "[133] munsell_0.5.0               viridisLite_0.3.0          "
      ]
     },
     "metadata": {},
     "output_type": "display_data"
    }
   ],
   "source": [
    "sessionInfo()"
   ]
  },
  {
   "cell_type": "code",
   "execution_count": null,
   "metadata": {},
   "outputs": [],
   "source": []
  }
 ],
 "metadata": {
  "kernelspec": {
   "display_name": "R",
   "language": "R",
   "name": "ir"
  },
  "language_info": {
   "codemirror_mode": "r",
   "file_extension": ".r",
   "mimetype": "text/x-r-source",
   "name": "R",
   "pygments_lexer": "r",
   "version": "4.0.2"
  }
 },
 "nbformat": 4,
 "nbformat_minor": 4
}
