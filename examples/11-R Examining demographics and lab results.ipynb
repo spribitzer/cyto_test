{
 "cells": [
  {
   "cell_type": "markdown",
   "metadata": {},
   "source": [
    "## Examining CU1/SD1 demographics and lab results\n",
    "\n",
    "Allen Institute for Immunology  \n",
    "Lucas T. Graybuck  \n",
    "2021-04-09  \n",
    "\n",
    "### Purpose\n",
    "\n",
    "In this notebook, we'll demonstrate how to retrieve stored donor demographics and lab results from HISE for summaries and to answer some questions about lab results.\n",
    "\n",
    "At this time, our HISE queries are file-centric. This means that any samples that haven't been processed through our data collection and analysis pipelines won't appear in our searches. We hope to have searches in the future that will include all donors. For this demonstration, we'll look for donors that have Flow Cytometry Supervised Statistics results (\"FlowCytometry-supervised-stats\"), which are gate counts from our supervised gating pipelines.\n",
    "\n",
    "First, we'll load in a few packages:\n",
    "- `hise`: Our package for the HISE SDK that connects us to our datasets\n",
    "- `dplyr`: A package for tabular data manipulation\n",
    "- `purrr`: A package for manipulating list-structured data\n",
    "- `ggplot2`: A plotting package which we'll use at the end of the notebook."
   ]
  },
  {
   "cell_type": "code",
   "execution_count": 1,
   "metadata": {},
   "outputs": [
    {
     "name": "stderr",
     "output_type": "stream",
     "text": [
      "\n",
      "Attaching package: ‘dplyr’\n",
      "\n",
      "\n",
      "The following objects are masked from ‘package:stats’:\n",
      "\n",
      "    filter, lag\n",
      "\n",
      "\n",
      "The following objects are masked from ‘package:base’:\n",
      "\n",
      "    intersect, setdiff, setequal, union\n",
      "\n",
      "\n"
     ]
    }
   ],
   "source": [
    "library(hise)\n",
    "library(dplyr)\n",
    "library(purrr)\n",
    "library(ggplot2)"
   ]
  },
  {
   "cell_type": "markdown",
   "metadata": {},
   "source": [
    "We'll also add this helper function, which will soon be integrated into `hise`:"
   ]
  },
  {
   "cell_type": "code",
   "execution_count": 2,
   "metadata": {},
   "outputs": [],
   "source": [
    "fileDescToDataframe <- function(descriptors,\n",
    "                                keep_labs = FALSE) {\n",
    "  \n",
    "  assertthat::assert_that(typeof(descriptors) == \"list\")\n",
    "  assertthat::assert_that(typeof(keep_labs) == \"logical\")\n",
    "  \n",
    "  do.call(\n",
    "    rbind,\n",
    "    lapply(\n",
    "      descriptors,\n",
    "      function(desc) {\n",
    "        desc <- unlist(desc)\n",
    "        desc <- desc[!grepl(\"scheme\", names(desc))]\n",
    "        names(desc) <- sub(\"^descriptors.\",\"\",names(desc))\n",
    "        if(!keep_labs) {\n",
    "          desc <- desc[!grepl(\"^lab\", names(desc))]\n",
    "        }\n",
    "        desc <- as.list(desc)\n",
    "        df <- as.data.frame(desc)\n",
    "        df\n",
    "      }\n",
    "    )\n",
    "  )\n",
    "}"
   ]
  },
  {
   "cell_type": "markdown",
   "metadata": {},
   "source": [
    "### Querying HISE\n",
    "\n",
    "Next, we'll query HISE using a couple of filters, which we provide as a `list` object:\n",
    "- `cohort.cohortGuid`: The cohort Globally Unique Identifier (\"CU1\" for Colorado samples, and \"SD1\" for San Diego samples)\n",
    "- `file.panel`: The Flow cytometry panel. Today, we'll look for \"PS1\" = Panel Survey 1\n",
    "\n",
    "Once we've specified these filters, we'll pass this to the `getFileDescriptors` function from `hise`, and simplify the results with the `fileDescToDataframe` function:"
   ]
  },
  {
   "cell_type": "code",
   "execution_count": 3,
   "metadata": {},
   "outputs": [],
   "source": [
    "cu1_filter_list <- list(\n",
    "    cohort.cohortGuid = \"CU1\",\n",
    "    file.panel = \"PS1\"\n",
    ")\n",
    "\n",
    "cu1_desc <- getFileDescriptors(\n",
    "    fileType = \"FlowCytometry-supervised-stats\", \n",
    "    filter = cu1_filter_list)\n",
    "\n",
    "cu1_desc_df <- fileDescToDataframe(cu1_desc)"
   ]
  },
  {
   "cell_type": "code",
   "execution_count": 4,
   "metadata": {},
   "outputs": [],
   "source": [
    "sd1_filter_list <- list(\n",
    "    cohort.cohortGuid = \"SD1\",\n",
    "    file.panel = \"PS1\"\n",
    ")\n",
    "\n",
    "sd1_desc <- getFileDescriptors(\n",
    "    fileType = \"FlowCytometry-supervised-stats\", \n",
    "    filter = sd1_filter_list)\n",
    "\n",
    "sd1_desc_df <- fileDescToDataframe(sd1_desc)"
   ]
  },
  {
   "cell_type": "markdown",
   "metadata": {},
   "source": [
    "We can then join both of these tables together with `rbind`"
   ]
  },
  {
   "cell_type": "code",
   "execution_count": 5,
   "metadata": {},
   "outputs": [],
   "source": [
    "desc <- rbind(cu1_desc_df, sd1_desc_df)"
   ]
  },
  {
   "cell_type": "markdown",
   "metadata": {},
   "source": [
    "and see what columns are available with `names`"
   ]
  },
  {
   "cell_type": "code",
   "execution_count": 6,
   "metadata": {},
   "outputs": [
    {
     "data": {
      "text/html": [
       "<style>\n",
       ".list-inline {list-style: none; margin:0; padding: 0}\n",
       ".list-inline>li {display: inline-block}\n",
       ".list-inline>li:not(:last-child)::after {content: \"\\00b7\"; padding: 0 .5ex}\n",
       "</style>\n",
       "<ol class=list-inline><li>'lastUpdated'</li><li>'sample.id'</li><li>'sample.bridgingControl'</li><li>'sample.sampleKitGuid'</li><li>'sample.visitName'</li><li>'sample.drawDate'</li><li>'sample.daysSinceFirstVisit'</li><li>'file.id'</li><li>'file.name'</li><li>'file.batchID'</li><li>'file.panel'</li><li>'file.pool'</li><li>'file.fileType'</li><li>'subject.id'</li><li>'subject.biologicalSex'</li><li>'subject.birthYear'</li><li>'subject.ethnicity'</li><li>'subject.partnerCode'</li><li>'subject.race'</li><li>'subject.subjectGuid'</li><li>'cohort.cohortGuid'</li></ol>\n"
      ],
      "text/latex": [
       "\\begin{enumerate*}\n",
       "\\item 'lastUpdated'\n",
       "\\item 'sample.id'\n",
       "\\item 'sample.bridgingControl'\n",
       "\\item 'sample.sampleKitGuid'\n",
       "\\item 'sample.visitName'\n",
       "\\item 'sample.drawDate'\n",
       "\\item 'sample.daysSinceFirstVisit'\n",
       "\\item 'file.id'\n",
       "\\item 'file.name'\n",
       "\\item 'file.batchID'\n",
       "\\item 'file.panel'\n",
       "\\item 'file.pool'\n",
       "\\item 'file.fileType'\n",
       "\\item 'subject.id'\n",
       "\\item 'subject.biologicalSex'\n",
       "\\item 'subject.birthYear'\n",
       "\\item 'subject.ethnicity'\n",
       "\\item 'subject.partnerCode'\n",
       "\\item 'subject.race'\n",
       "\\item 'subject.subjectGuid'\n",
       "\\item 'cohort.cohortGuid'\n",
       "\\end{enumerate*}\n"
      ],
      "text/markdown": [
       "1. 'lastUpdated'\n",
       "2. 'sample.id'\n",
       "3. 'sample.bridgingControl'\n",
       "4. 'sample.sampleKitGuid'\n",
       "5. 'sample.visitName'\n",
       "6. 'sample.drawDate'\n",
       "7. 'sample.daysSinceFirstVisit'\n",
       "8. 'file.id'\n",
       "9. 'file.name'\n",
       "10. 'file.batchID'\n",
       "11. 'file.panel'\n",
       "12. 'file.pool'\n",
       "13. 'file.fileType'\n",
       "14. 'subject.id'\n",
       "15. 'subject.biologicalSex'\n",
       "16. 'subject.birthYear'\n",
       "17. 'subject.ethnicity'\n",
       "18. 'subject.partnerCode'\n",
       "19. 'subject.race'\n",
       "20. 'subject.subjectGuid'\n",
       "21. 'cohort.cohortGuid'\n",
       "\n",
       "\n"
      ],
      "text/plain": [
       " [1] \"lastUpdated\"                \"sample.id\"                 \n",
       " [3] \"sample.bridgingControl\"     \"sample.sampleKitGuid\"      \n",
       " [5] \"sample.visitName\"           \"sample.drawDate\"           \n",
       " [7] \"sample.daysSinceFirstVisit\" \"file.id\"                   \n",
       " [9] \"file.name\"                  \"file.batchID\"              \n",
       "[11] \"file.panel\"                 \"file.pool\"                 \n",
       "[13] \"file.fileType\"              \"subject.id\"                \n",
       "[15] \"subject.biologicalSex\"      \"subject.birthYear\"         \n",
       "[17] \"subject.ethnicity\"          \"subject.partnerCode\"       \n",
       "[19] \"subject.race\"               \"subject.subjectGuid\"       \n",
       "[21] \"cohort.cohortGuid\"         "
      ]
     },
     "metadata": {},
     "output_type": "display_data"
    }
   ],
   "source": [
    "names(desc)"
   ]
  },
  {
   "cell_type": "markdown",
   "metadata": {},
   "source": [
    "`nrow` will tell us how many records were found:"
   ]
  },
  {
   "cell_type": "code",
   "execution_count": 7,
   "metadata": {},
   "outputs": [
    {
     "data": {
      "text/html": [
       "97"
      ],
      "text/latex": [
       "97"
      ],
      "text/markdown": [
       "97"
      ],
      "text/plain": [
       "[1] 97"
      ]
     },
     "metadata": {},
     "output_type": "display_data"
    }
   ],
   "source": [
    "nrow(desc)"
   ]
  },
  {
   "cell_type": "markdown",
   "metadata": {},
   "source": [
    "### Sample and subject summaries\n",
    "\n",
    "To get a better sense of the available datasets, let's select information relevant to samples or subjects using `dplyr`, remove any duplicates from extra files or multiple runs, then summarise some of these metadata:"
   ]
  },
  {
   "cell_type": "code",
   "execution_count": 8,
   "metadata": {},
   "outputs": [],
   "source": [
    "subject_sample_desc <- desc %>%\n",
    "  select(starts_with(\"subject\"), starts_with(\"sample\")) %>%\n",
    "  unique()"
   ]
  },
  {
   "cell_type": "markdown",
   "metadata": {},
   "source": [
    "How many samples to we have for each subject, and which time points? Tabulating with the `table` function over `sample.visitName` and `subject.subjectGuid` will give us a look:"
   ]
  },
  {
   "cell_type": "code",
   "execution_count": 9,
   "metadata": {},
   "outputs": [
    {
     "data": {
      "text/plain": [
       "\n",
       "CU1001 CU1002 CU1003 CU1004 CU1005 CU1006 CU1007 CU1008 CU1009 CU1010 CU1012 \n",
       "     4      6      6      4      4      3      4      4      1      1      1 \n",
       "CU1013 CU1014 CU1016 CU1017 CU1018 CU1019 CU1020 CU1021 CU1022 CU1023 CU1024 \n",
       "     4      1      2      4      4      4      3      4      4      1      1 \n",
       "CU1026 CU1027 CU1028 CU1030 CU1031 CU1032 CU1033 CU1034 SD1003 SD1006 \n",
       "     2      3      3      1      1      2      2      2      3      1 "
      ]
     },
     "metadata": {},
     "output_type": "display_data"
    }
   ],
   "source": [
    "table(subject_sample_desc$subject.subjectGuid)"
   ]
  },
  {
   "cell_type": "code",
   "execution_count": 10,
   "metadata": {},
   "outputs": [
    {
     "data": {
      "text/plain": [
       "\n",
       "      Flu Year 1 Day 0       Flu Year 1 Day 7      Flu Year 1 Day 90 \n",
       "                    20                     17                      5 \n",
       "Flu Year 1 Stand-Alone       Flu Year 2 Day 0       Flu Year 2 Day 7 \n",
       "                    27                      8                      6 \n",
       "Flu Year 2 Stand-Alone \n",
       "                     7 "
      ]
     },
     "metadata": {},
     "output_type": "display_data"
    }
   ],
   "source": [
    "table(subject_sample_desc$sample.visitName)"
   ]
  },
  {
   "cell_type": "code",
   "execution_count": 11,
   "metadata": {},
   "outputs": [
    {
     "data": {
      "text/html": [
       "<table class=\"dataframe\">\n",
       "<caption>A tibble: 32 × 8</caption>\n",
       "<thead>\n",
       "\t<tr><th scope=col>Var1</th><th scope=col>Flu Year 1 Day 0</th><th scope=col>Flu Year 1 Day 7</th><th scope=col>Flu Year 1 Day 90</th><th scope=col>Flu Year 1 Stand-Alone</th><th scope=col>Flu Year 2 Day 0</th><th scope=col>Flu Year 2 Day 7</th><th scope=col>Flu Year 2 Stand-Alone</th></tr>\n",
       "\t<tr><th scope=col>&lt;fct&gt;</th><th scope=col>&lt;int&gt;</th><th scope=col>&lt;int&gt;</th><th scope=col>&lt;int&gt;</th><th scope=col>&lt;int&gt;</th><th scope=col>&lt;int&gt;</th><th scope=col>&lt;int&gt;</th><th scope=col>&lt;int&gt;</th></tr>\n",
       "</thead>\n",
       "<tbody>\n",
       "\t<tr><td>CU1001</td><td>1</td><td>1</td><td>1</td><td>0</td><td>0</td><td>0</td><td>1</td></tr>\n",
       "\t<tr><td>CU1002</td><td>1</td><td>1</td><td>1</td><td>0</td><td>1</td><td>1</td><td>1</td></tr>\n",
       "\t<tr><td>CU1003</td><td>1</td><td>1</td><td>1</td><td>0</td><td>1</td><td>1</td><td>1</td></tr>\n",
       "\t<tr><td>CU1004</td><td>1</td><td>0</td><td>1</td><td>0</td><td>1</td><td>0</td><td>1</td></tr>\n",
       "\t<tr><td>CU1005</td><td>1</td><td>0</td><td>0</td><td>0</td><td>1</td><td>1</td><td>1</td></tr>\n",
       "\t<tr><td>CU1006</td><td>0</td><td>0</td><td>0</td><td>0</td><td>1</td><td>1</td><td>1</td></tr>\n",
       "\t<tr><td>CU1007</td><td>1</td><td>0</td><td>1</td><td>0</td><td>1</td><td>1</td><td>0</td></tr>\n",
       "\t<tr><td>CU1008</td><td>1</td><td>1</td><td>0</td><td>0</td><td>1</td><td>1</td><td>0</td></tr>\n",
       "\t<tr><td>CU1009</td><td>0</td><td>0</td><td>0</td><td>1</td><td>0</td><td>0</td><td>0</td></tr>\n",
       "\t<tr><td>CU1010</td><td>0</td><td>0</td><td>0</td><td>1</td><td>0</td><td>0</td><td>0</td></tr>\n",
       "\t<tr><td>CU1012</td><td>0</td><td>0</td><td>0</td><td>1</td><td>0</td><td>0</td><td>0</td></tr>\n",
       "\t<tr><td>CU1013</td><td>1</td><td>1</td><td>0</td><td>2</td><td>0</td><td>0</td><td>0</td></tr>\n",
       "\t<tr><td>CU1014</td><td>0</td><td>0</td><td>0</td><td>1</td><td>0</td><td>0</td><td>0</td></tr>\n",
       "\t<tr><td>CU1016</td><td>1</td><td>1</td><td>0</td><td>0</td><td>0</td><td>0</td><td>0</td></tr>\n",
       "\t<tr><td>CU1017</td><td>1</td><td>1</td><td>0</td><td>2</td><td>0</td><td>0</td><td>0</td></tr>\n",
       "\t<tr><td>CU1018</td><td>1</td><td>1</td><td>0</td><td>2</td><td>0</td><td>0</td><td>0</td></tr>\n",
       "\t<tr><td>CU1019</td><td>1</td><td>1</td><td>0</td><td>2</td><td>0</td><td>0</td><td>0</td></tr>\n",
       "\t<tr><td>CU1020</td><td>0</td><td>1</td><td>0</td><td>2</td><td>0</td><td>0</td><td>0</td></tr>\n",
       "\t<tr><td>CU1021</td><td>1</td><td>1</td><td>0</td><td>2</td><td>0</td><td>0</td><td>0</td></tr>\n",
       "\t<tr><td>CU1022</td><td>1</td><td>1</td><td>0</td><td>2</td><td>0</td><td>0</td><td>0</td></tr>\n",
       "\t<tr><td>CU1023</td><td>0</td><td>0</td><td>0</td><td>1</td><td>0</td><td>0</td><td>0</td></tr>\n",
       "\t<tr><td>CU1024</td><td>0</td><td>0</td><td>0</td><td>1</td><td>0</td><td>0</td><td>0</td></tr>\n",
       "\t<tr><td>CU1026</td><td>0</td><td>0</td><td>0</td><td>2</td><td>0</td><td>0</td><td>0</td></tr>\n",
       "\t<tr><td>CU1027</td><td>1</td><td>1</td><td>0</td><td>1</td><td>0</td><td>0</td><td>0</td></tr>\n",
       "\t<tr><td>CU1028</td><td>1</td><td>1</td><td>0</td><td>1</td><td>0</td><td>0</td><td>0</td></tr>\n",
       "\t<tr><td>CU1030</td><td>0</td><td>0</td><td>0</td><td>1</td><td>0</td><td>0</td><td>0</td></tr>\n",
       "\t<tr><td>CU1031</td><td>0</td><td>0</td><td>0</td><td>1</td><td>0</td><td>0</td><td>0</td></tr>\n",
       "\t<tr><td>CU1032</td><td>1</td><td>1</td><td>0</td><td>0</td><td>0</td><td>0</td><td>0</td></tr>\n",
       "\t<tr><td>CU1033</td><td>1</td><td>1</td><td>0</td><td>0</td><td>0</td><td>0</td><td>0</td></tr>\n",
       "\t<tr><td>CU1034</td><td>1</td><td>1</td><td>0</td><td>0</td><td>0</td><td>0</td><td>0</td></tr>\n",
       "\t<tr><td>SD1003</td><td>0</td><td>0</td><td>0</td><td>1</td><td>1</td><td>0</td><td>1</td></tr>\n",
       "\t<tr><td>SD1006</td><td>1</td><td>0</td><td>0</td><td>0</td><td>0</td><td>0</td><td>0</td></tr>\n",
       "</tbody>\n",
       "</table>\n"
      ],
      "text/latex": [
       "A tibble: 32 × 8\n",
       "\\begin{tabular}{llllllll}\n",
       " Var1 & Flu Year 1 Day 0 & Flu Year 1 Day 7 & Flu Year 1 Day 90 & Flu Year 1 Stand-Alone & Flu Year 2 Day 0 & Flu Year 2 Day 7 & Flu Year 2 Stand-Alone\\\\\n",
       " <fct> & <int> & <int> & <int> & <int> & <int> & <int> & <int>\\\\\n",
       "\\hline\n",
       "\t CU1001 & 1 & 1 & 1 & 0 & 0 & 0 & 1\\\\\n",
       "\t CU1002 & 1 & 1 & 1 & 0 & 1 & 1 & 1\\\\\n",
       "\t CU1003 & 1 & 1 & 1 & 0 & 1 & 1 & 1\\\\\n",
       "\t CU1004 & 1 & 0 & 1 & 0 & 1 & 0 & 1\\\\\n",
       "\t CU1005 & 1 & 0 & 0 & 0 & 1 & 1 & 1\\\\\n",
       "\t CU1006 & 0 & 0 & 0 & 0 & 1 & 1 & 1\\\\\n",
       "\t CU1007 & 1 & 0 & 1 & 0 & 1 & 1 & 0\\\\\n",
       "\t CU1008 & 1 & 1 & 0 & 0 & 1 & 1 & 0\\\\\n",
       "\t CU1009 & 0 & 0 & 0 & 1 & 0 & 0 & 0\\\\\n",
       "\t CU1010 & 0 & 0 & 0 & 1 & 0 & 0 & 0\\\\\n",
       "\t CU1012 & 0 & 0 & 0 & 1 & 0 & 0 & 0\\\\\n",
       "\t CU1013 & 1 & 1 & 0 & 2 & 0 & 0 & 0\\\\\n",
       "\t CU1014 & 0 & 0 & 0 & 1 & 0 & 0 & 0\\\\\n",
       "\t CU1016 & 1 & 1 & 0 & 0 & 0 & 0 & 0\\\\\n",
       "\t CU1017 & 1 & 1 & 0 & 2 & 0 & 0 & 0\\\\\n",
       "\t CU1018 & 1 & 1 & 0 & 2 & 0 & 0 & 0\\\\\n",
       "\t CU1019 & 1 & 1 & 0 & 2 & 0 & 0 & 0\\\\\n",
       "\t CU1020 & 0 & 1 & 0 & 2 & 0 & 0 & 0\\\\\n",
       "\t CU1021 & 1 & 1 & 0 & 2 & 0 & 0 & 0\\\\\n",
       "\t CU1022 & 1 & 1 & 0 & 2 & 0 & 0 & 0\\\\\n",
       "\t CU1023 & 0 & 0 & 0 & 1 & 0 & 0 & 0\\\\\n",
       "\t CU1024 & 0 & 0 & 0 & 1 & 0 & 0 & 0\\\\\n",
       "\t CU1026 & 0 & 0 & 0 & 2 & 0 & 0 & 0\\\\\n",
       "\t CU1027 & 1 & 1 & 0 & 1 & 0 & 0 & 0\\\\\n",
       "\t CU1028 & 1 & 1 & 0 & 1 & 0 & 0 & 0\\\\\n",
       "\t CU1030 & 0 & 0 & 0 & 1 & 0 & 0 & 0\\\\\n",
       "\t CU1031 & 0 & 0 & 0 & 1 & 0 & 0 & 0\\\\\n",
       "\t CU1032 & 1 & 1 & 0 & 0 & 0 & 0 & 0\\\\\n",
       "\t CU1033 & 1 & 1 & 0 & 0 & 0 & 0 & 0\\\\\n",
       "\t CU1034 & 1 & 1 & 0 & 0 & 0 & 0 & 0\\\\\n",
       "\t SD1003 & 0 & 0 & 0 & 1 & 1 & 0 & 1\\\\\n",
       "\t SD1006 & 1 & 0 & 0 & 0 & 0 & 0 & 0\\\\\n",
       "\\end{tabular}\n"
      ],
      "text/markdown": [
       "\n",
       "A tibble: 32 × 8\n",
       "\n",
       "| Var1 &lt;fct&gt; | Flu Year 1 Day 0 &lt;int&gt; | Flu Year 1 Day 7 &lt;int&gt; | Flu Year 1 Day 90 &lt;int&gt; | Flu Year 1 Stand-Alone &lt;int&gt; | Flu Year 2 Day 0 &lt;int&gt; | Flu Year 2 Day 7 &lt;int&gt; | Flu Year 2 Stand-Alone &lt;int&gt; |\n",
       "|---|---|---|---|---|---|---|---|\n",
       "| CU1001 | 1 | 1 | 1 | 0 | 0 | 0 | 1 |\n",
       "| CU1002 | 1 | 1 | 1 | 0 | 1 | 1 | 1 |\n",
       "| CU1003 | 1 | 1 | 1 | 0 | 1 | 1 | 1 |\n",
       "| CU1004 | 1 | 0 | 1 | 0 | 1 | 0 | 1 |\n",
       "| CU1005 | 1 | 0 | 0 | 0 | 1 | 1 | 1 |\n",
       "| CU1006 | 0 | 0 | 0 | 0 | 1 | 1 | 1 |\n",
       "| CU1007 | 1 | 0 | 1 | 0 | 1 | 1 | 0 |\n",
       "| CU1008 | 1 | 1 | 0 | 0 | 1 | 1 | 0 |\n",
       "| CU1009 | 0 | 0 | 0 | 1 | 0 | 0 | 0 |\n",
       "| CU1010 | 0 | 0 | 0 | 1 | 0 | 0 | 0 |\n",
       "| CU1012 | 0 | 0 | 0 | 1 | 0 | 0 | 0 |\n",
       "| CU1013 | 1 | 1 | 0 | 2 | 0 | 0 | 0 |\n",
       "| CU1014 | 0 | 0 | 0 | 1 | 0 | 0 | 0 |\n",
       "| CU1016 | 1 | 1 | 0 | 0 | 0 | 0 | 0 |\n",
       "| CU1017 | 1 | 1 | 0 | 2 | 0 | 0 | 0 |\n",
       "| CU1018 | 1 | 1 | 0 | 2 | 0 | 0 | 0 |\n",
       "| CU1019 | 1 | 1 | 0 | 2 | 0 | 0 | 0 |\n",
       "| CU1020 | 0 | 1 | 0 | 2 | 0 | 0 | 0 |\n",
       "| CU1021 | 1 | 1 | 0 | 2 | 0 | 0 | 0 |\n",
       "| CU1022 | 1 | 1 | 0 | 2 | 0 | 0 | 0 |\n",
       "| CU1023 | 0 | 0 | 0 | 1 | 0 | 0 | 0 |\n",
       "| CU1024 | 0 | 0 | 0 | 1 | 0 | 0 | 0 |\n",
       "| CU1026 | 0 | 0 | 0 | 2 | 0 | 0 | 0 |\n",
       "| CU1027 | 1 | 1 | 0 | 1 | 0 | 0 | 0 |\n",
       "| CU1028 | 1 | 1 | 0 | 1 | 0 | 0 | 0 |\n",
       "| CU1030 | 0 | 0 | 0 | 1 | 0 | 0 | 0 |\n",
       "| CU1031 | 0 | 0 | 0 | 1 | 0 | 0 | 0 |\n",
       "| CU1032 | 1 | 1 | 0 | 0 | 0 | 0 | 0 |\n",
       "| CU1033 | 1 | 1 | 0 | 0 | 0 | 0 | 0 |\n",
       "| CU1034 | 1 | 1 | 0 | 0 | 0 | 0 | 0 |\n",
       "| SD1003 | 0 | 0 | 0 | 1 | 1 | 0 | 1 |\n",
       "| SD1006 | 1 | 0 | 0 | 0 | 0 | 0 | 0 |\n",
       "\n"
      ],
      "text/plain": [
       "   Var1   Flu Year 1 Day 0 Flu Year 1 Day 7 Flu Year 1 Day 90\n",
       "1  CU1001 1                1                1                \n",
       "2  CU1002 1                1                1                \n",
       "3  CU1003 1                1                1                \n",
       "4  CU1004 1                0                1                \n",
       "5  CU1005 1                0                0                \n",
       "6  CU1006 0                0                0                \n",
       "7  CU1007 1                0                1                \n",
       "8  CU1008 1                1                0                \n",
       "9  CU1009 0                0                0                \n",
       "10 CU1010 0                0                0                \n",
       "11 CU1012 0                0                0                \n",
       "12 CU1013 1                1                0                \n",
       "13 CU1014 0                0                0                \n",
       "14 CU1016 1                1                0                \n",
       "15 CU1017 1                1                0                \n",
       "16 CU1018 1                1                0                \n",
       "17 CU1019 1                1                0                \n",
       "18 CU1020 0                1                0                \n",
       "19 CU1021 1                1                0                \n",
       "20 CU1022 1                1                0                \n",
       "21 CU1023 0                0                0                \n",
       "22 CU1024 0                0                0                \n",
       "23 CU1026 0                0                0                \n",
       "24 CU1027 1                1                0                \n",
       "25 CU1028 1                1                0                \n",
       "26 CU1030 0                0                0                \n",
       "27 CU1031 0                0                0                \n",
       "28 CU1032 1                1                0                \n",
       "29 CU1033 1                1                0                \n",
       "30 CU1034 1                1                0                \n",
       "31 SD1003 0                0                0                \n",
       "32 SD1006 1                0                0                \n",
       "   Flu Year 1 Stand-Alone Flu Year 2 Day 0 Flu Year 2 Day 7\n",
       "1  0                      0                0               \n",
       "2  0                      1                1               \n",
       "3  0                      1                1               \n",
       "4  0                      1                0               \n",
       "5  0                      1                1               \n",
       "6  0                      1                1               \n",
       "7  0                      1                1               \n",
       "8  0                      1                1               \n",
       "9  1                      0                0               \n",
       "10 1                      0                0               \n",
       "11 1                      0                0               \n",
       "12 2                      0                0               \n",
       "13 1                      0                0               \n",
       "14 0                      0                0               \n",
       "15 2                      0                0               \n",
       "16 2                      0                0               \n",
       "17 2                      0                0               \n",
       "18 2                      0                0               \n",
       "19 2                      0                0               \n",
       "20 2                      0                0               \n",
       "21 1                      0                0               \n",
       "22 1                      0                0               \n",
       "23 2                      0                0               \n",
       "24 1                      0                0               \n",
       "25 1                      0                0               \n",
       "26 1                      0                0               \n",
       "27 1                      0                0               \n",
       "28 0                      0                0               \n",
       "29 0                      0                0               \n",
       "30 0                      0                0               \n",
       "31 1                      1                0               \n",
       "32 0                      0                0               \n",
       "   Flu Year 2 Stand-Alone\n",
       "1  1                     \n",
       "2  1                     \n",
       "3  1                     \n",
       "4  1                     \n",
       "5  1                     \n",
       "6  1                     \n",
       "7  0                     \n",
       "8  0                     \n",
       "9  0                     \n",
       "10 0                     \n",
       "11 0                     \n",
       "12 0                     \n",
       "13 0                     \n",
       "14 0                     \n",
       "15 0                     \n",
       "16 0                     \n",
       "17 0                     \n",
       "18 0                     \n",
       "19 0                     \n",
       "20 0                     \n",
       "21 0                     \n",
       "22 0                     \n",
       "23 0                     \n",
       "24 0                     \n",
       "25 0                     \n",
       "26 0                     \n",
       "27 0                     \n",
       "28 0                     \n",
       "29 0                     \n",
       "30 0                     \n",
       "31 1                     \n",
       "32 0                     "
      ]
     },
     "metadata": {},
     "output_type": "display_data"
    }
   ],
   "source": [
    "table(\n",
    "    subject_sample_desc$subject.subjectGuid,\n",
    "    subject_sample_desc$sample.visitName\n",
    ") %>%\n",
    "  as.data.frame() %>%\n",
    "  tidyr::pivot_wider(id_cols = Var1,\n",
    "                     names_from = Var2,\n",
    "                     values_from = Freq)"
   ]
  },
  {
   "cell_type": "code",
   "execution_count": 12,
   "metadata": {},
   "outputs": [
    {
     "data": {
      "text/html": [
       "90"
      ],
      "text/latex": [
       "90"
      ],
      "text/markdown": [
       "90"
      ],
      "text/plain": [
       "[1] 90"
      ]
     },
     "metadata": {},
     "output_type": "display_data"
    }
   ],
   "source": [
    "sample_desc <- desc %>%\n",
    "  select(starts_with(\"sample\")) %>%\n",
    "  unique()\n",
    "\n",
    "nrow(sample_desc)"
   ]
  },
  {
   "cell_type": "markdown",
   "metadata": {},
   "source": [
    "### Sample summaries\n",
    "\n",
    "Next, let's take a look at available samples:"
   ]
  },
  {
   "cell_type": "code",
   "execution_count": 13,
   "metadata": {},
   "outputs": [
    {
     "data": {
      "text/html": [
       "90"
      ],
      "text/latex": [
       "90"
      ],
      "text/markdown": [
       "90"
      ],
      "text/plain": [
       "[1] 90"
      ]
     },
     "metadata": {},
     "output_type": "display_data"
    }
   ],
   "source": [
    "sample_desc <- desc %>%\n",
    "  select(starts_with(\"sample\")) %>%\n",
    "  unique()\n",
    "\n",
    "nrow(sample_desc)"
   ]
  },
  {
   "cell_type": "markdown",
   "metadata": {},
   "source": [
    "For example, we may want to know how many samples we have in the bank for baseline (\"Flu Year 1 Day 0\"), or post-vaccination (\"Flu Year 1 Day 7\"):"
   ]
  },
  {
   "cell_type": "code",
   "execution_count": 14,
   "metadata": {},
   "outputs": [
    {
     "data": {
      "text/html": [
       "<table class=\"dataframe\">\n",
       "<caption>A data.frame: 1 × 2</caption>\n",
       "<thead>\n",
       "\t<tr><th scope=col>n_baseline</th><th scope=col>n_visit2</th></tr>\n",
       "\t<tr><th scope=col>&lt;int&gt;</th><th scope=col>&lt;int&gt;</th></tr>\n",
       "</thead>\n",
       "<tbody>\n",
       "\t<tr><td>20</td><td>17</td></tr>\n",
       "</tbody>\n",
       "</table>\n"
      ],
      "text/latex": [
       "A data.frame: 1 × 2\n",
       "\\begin{tabular}{ll}\n",
       " n\\_baseline & n\\_visit2\\\\\n",
       " <int> & <int>\\\\\n",
       "\\hline\n",
       "\t 20 & 17\\\\\n",
       "\\end{tabular}\n"
      ],
      "text/markdown": [
       "\n",
       "A data.frame: 1 × 2\n",
       "\n",
       "| n_baseline &lt;int&gt; | n_visit2 &lt;int&gt; |\n",
       "|---|---|\n",
       "| 20 | 17 |\n",
       "\n"
      ],
      "text/plain": [
       "  n_baseline n_visit2\n",
       "1 20         17      "
      ]
     },
     "metadata": {},
     "output_type": "display_data"
    }
   ],
   "source": [
    "sample_desc %>%\n",
    "  summarise(\n",
    "      n_baseline = sum(sample.visitName == \"Flu Year 1 Day 0\"),\n",
    "      n_visit2 = sum(sample.visitName == \"Flu Year 1 Day 7\"))"
   ]
  },
  {
   "cell_type": "markdown",
   "metadata": {},
   "source": [
    "### Subject summaries\n",
    "\n",
    "Subject metadata contains several useful demographics. Let's take a look at the composition of our donors:"
   ]
  },
  {
   "cell_type": "code",
   "execution_count": 15,
   "metadata": {},
   "outputs": [],
   "source": [
    "subjects <- desc %>%\n",
    "  select(starts_with(\"subject\")) %>%\n",
    "  unique()"
   ]
  },
  {
   "cell_type": "markdown",
   "metadata": {},
   "source": [
    "How many donors do we have for each race and ethnicity?"
   ]
  },
  {
   "cell_type": "code",
   "execution_count": 16,
   "metadata": {},
   "outputs": [
    {
     "data": {
      "text/plain": [
       "                  \n",
       "                   Hispanic or Latino origin non-Hispanic origin\n",
       "  African American                         0                   3\n",
       "  American Indian                          1                   0\n",
       "  Caucasian                                0                  27\n",
       "  Other                                    1                   0"
      ]
     },
     "metadata": {},
     "output_type": "display_data"
    }
   ],
   "source": [
    "table(subjects$subject.race,\n",
    "      subjects$subject.ethnicity)"
   ]
  },
  {
   "cell_type": "markdown",
   "metadata": {},
   "source": [
    "Or each race and sex?"
   ]
  },
  {
   "cell_type": "code",
   "execution_count": 17,
   "metadata": {},
   "outputs": [
    {
     "data": {
      "text/plain": [
       "                  \n",
       "                   Female Male\n",
       "  African American      3    0\n",
       "  American Indian       1    0\n",
       "  Caucasian            21    6\n",
       "  Other                 1    0"
      ]
     },
     "metadata": {},
     "output_type": "display_data"
    }
   ],
   "source": [
    "table(subjects$subject.race, \n",
    "      subjects$subject.biologicalSex)"
   ]
  },
  {
   "cell_type": "markdown",
   "metadata": {},
   "source": [
    "How about non-count metrics, like the mean age, fraction female, and fraction of donors that are non-hispanic and caucasian?"
   ]
  },
  {
   "cell_type": "code",
   "execution_count": 18,
   "metadata": {},
   "outputs": [
    {
     "data": {
      "text/html": [
       "<table class=\"dataframe\">\n",
       "<caption>A data.frame: 1 × 4</caption>\n",
       "<thead>\n",
       "\t<tr><th scope=col>mean_age</th><th scope=col>median_age</th><th scope=col>fraction_female</th><th scope=col>fraction_nonhisp_caucasian</th></tr>\n",
       "\t<tr><th scope=col>&lt;dbl&gt;</th><th scope=col>&lt;dbl&gt;</th><th scope=col>&lt;dbl&gt;</th><th scope=col>&lt;dbl&gt;</th></tr>\n",
       "</thead>\n",
       "<tbody>\n",
       "\t<tr><td>58.46875</td><td>60.5</td><td>0.8125</td><td>0.84375</td></tr>\n",
       "</tbody>\n",
       "</table>\n"
      ],
      "text/latex": [
       "A data.frame: 1 × 4\n",
       "\\begin{tabular}{llll}\n",
       " mean\\_age & median\\_age & fraction\\_female & fraction\\_nonhisp\\_caucasian\\\\\n",
       " <dbl> & <dbl> & <dbl> & <dbl>\\\\\n",
       "\\hline\n",
       "\t 58.46875 & 60.5 & 0.8125 & 0.84375\\\\\n",
       "\\end{tabular}\n"
      ],
      "text/markdown": [
       "\n",
       "A data.frame: 1 × 4\n",
       "\n",
       "| mean_age &lt;dbl&gt; | median_age &lt;dbl&gt; | fraction_female &lt;dbl&gt; | fraction_nonhisp_caucasian &lt;dbl&gt; |\n",
       "|---|---|---|---|\n",
       "| 58.46875 | 60.5 | 0.8125 | 0.84375 |\n",
       "\n"
      ],
      "text/plain": [
       "  mean_age median_age fraction_female fraction_nonhisp_caucasian\n",
       "1 58.46875 60.5       0.8125          0.84375                   "
      ]
     },
     "metadata": {},
     "output_type": "display_data"
    }
   ],
   "source": [
    "subjects %>%\n",
    "  summarise(\n",
    "      mean_age = mean(2020 - as.numeric(subject.birthYear)),\n",
    "      median_age = median(2020 - as.numeric(subject.birthYear)),\n",
    "      fraction_female = sum(subject.biologicalSex == \"Female\") / n(),\n",
    "      fraction_nonhisp_caucasian = sum(subject.race == \"Caucasian\" & subject.ethnicity == \"non-Hispanic origin\") / n()\n",
    "  )"
   ]
  },
  {
   "cell_type": "markdown",
   "metadata": {},
   "source": [
    "A histogram of ages may give us a more complete picture of the cohort:"
   ]
  },
  {
   "cell_type": "code",
   "execution_count": 19,
   "metadata": {},
   "outputs": [
    {
     "data": {
      "image/png": "[encoded data removed]",
      "text/plain": [
       "Plot with title “Histogram of 2020 - as.numeric(subjects$subject.birthYear)”"
      ]
     },
     "metadata": {
      "image/png": {
       "height": 240,
       "width": 720
      }
     },
     "output_type": "display_data"
    }
   ],
   "source": [
    "options(repr.plot.width = 12, repr.plot.height = 4)\n",
    "\n",
    "hist(2020 - as.numeric(subjects$subject.birthYear), breaks = 10)"
   ]
  },
  {
   "cell_type": "markdown",
   "metadata": {},
   "source": [
    "### Lab results\n",
    "\n",
    "We can also examine lab results from our donors. These are retrieved along with each file descriptor, but not all samples end up with every result which makes them a little tricky to globally joint together.\n",
    "\n",
    "Instead, what we can do is specify some results that we're most interested in, then filter the results to answer our biological questions.\n",
    "\n",
    "First, let's look at one sample to see the results attached to it:"
   ]
  },
  {
   "cell_type": "code",
   "execution_count": 20,
   "metadata": {},
   "outputs": [
    {
     "data": {
      "text/html": [
       "<style>\n",
       ".list-inline {list-style: none; margin:0; padding: 0}\n",
       ".list-inline>li {display: inline-block}\n",
       ".list-inline>li:not(:last-child)::after {content: \"\\00b7\"; padding: 0 .5ex}\n",
       "</style>\n",
       "<ol class=list-inline><li>'% Basophils'</li><li>'% Eosinophils'</li><li>'% Immature Granulocytes'</li><li>'% Lymphocytes'</li><li>'% Monocytes'</li><li>'% Neutrophils'</li><li>'% Nucleated Red Blood Cells (NRBC)'</li><li>'% Segmented Neutrophils'</li><li>'Absolute Basophil Count'</li><li>'Absolute Eosinophil Count (AEC)'</li><li>'Absolute Immature Granulocyte Count'</li><li>'Absolute Lymphocyte Count (ALC)'</li><li>'Absolute Monocyte Count (AMC)'</li><li>'Absolute Neutrophil Count (ANC)'</li><li>'Alanine Transaminase (ALT)'</li><li>'Albumin'</li><li>'Albumin (Serum Protein Electrophoresis)'</li><li>'Alkaline Phosphatase'</li><li>'Alpha 1 (Serum Protein Electrophoresis)'</li><li>'Alpha 2 (Serum Protein Electrophoresis)'</li><li>'Anion Gap'</li><li>'Anti-CCP3'</li><li>'Anti-CCP31'</li><li>'Aspartate Aminotransferase (AST)'</li><li>'Beta (Serum Protein Electrophoresis)'</li><li>'Beta 2 Microglobulin'</li><li>'Bilirubin, Total (T-Bili)'</li><li>'Blood Urea Nitrogen (BUN)'</li><li>'C-Reactive Protein (CRP)'</li><li>'C-Rreactive Protein, High-Sensitivity (HS-CRP)'</li><li>'CMV IgG Serology'</li><li>'Calcium'</li><li>'Carbon Dioxide (CO2)'</li><li>'Chloride (Cl)'</li><li>'Cholesterol, HDL'</li><li>'Cholesterol, LDL'</li><li>'Cholesterol, Non-HDL'</li><li>'Cholesterol, Total'</li><li>'Cholesterol/HDL Ratio'</li><li>'Creatinine'</li><li>'Estimated Glomerular Filtration Rate (eGFR) - African American'</li><li>'Estimated Glomerular Filtration Rate (eGFR) - Non-African American'</li><li>'Gamma (Serum Protein Electrophoresis)'</li><li>'Globin'</li><li>'Glucose'</li><li>'Height'</li><li>'Hematocrit'</li><li>'Hemoglobin'</li><li>'Hip size'</li><li>'Immunofixation'</li><li>'Immunoglobulin A'</li><li>'Immunoglobulin G'</li><li>'Immunoglobulin M'</li><li>'Interpretation (Serum Protein Electrophoresis)'</li><li>'Kappa Free Light Chain'</li><li>'Kappa/Lambda FLC Ratio'</li><li>'Lactate Dehydrogenase'</li><li>'Lambda Free light chain'</li><li>'Magnesium'</li><li>'Mean Corpuscular Hemoglobin (MCH)'</li><li>'Mean Corpuscular Hemoglobin Concentration (MCHC)'</li><li>'Mean Corpuscular Volume (MCV)'</li><li>'Mean Platelet Volume (MPV)'</li><li>'Monoclonal 1 ID, Serum'</li><li>'Monoclonal 1 Quantification, Serum'</li><li>'Nucleated Red Blood Cell (NRBC) Count'</li><li>'Phosphate'</li><li>'Platelet Count'</li><li>'Potassium'</li><li>'Protein, Total'</li><li>'Protein, Total (Serum Protein Electrophoresis)'</li><li>'Red Blood Cell Count'</li><li>'Red Cell Distribution Width (RDW)'</li><li>'Rheumatoid Factor, IgA'</li><li>'Rheumatoid Factor, IgM'</li><li>'SARS-CoV-2 NP Serology Interpretation'</li><li>'SARS-CoV-2 NP Serology Signal-to-Cutoff'</li><li>'SED Rate-Westergren (ESR)'</li><li>'Sodium'</li><li>'Triglycerides'</li><li>'Waist size'</li><li>'Weight'</li><li>'White Blood Cell Count (WBC)'</li></ol>\n"
      ],
      "text/latex": [
       "\\begin{enumerate*}\n",
       "\\item '\\% Basophils'\n",
       "\\item '\\% Eosinophils'\n",
       "\\item '\\% Immature Granulocytes'\n",
       "\\item '\\% Lymphocytes'\n",
       "\\item '\\% Monocytes'\n",
       "\\item '\\% Neutrophils'\n",
       "\\item '\\% Nucleated Red Blood Cells (NRBC)'\n",
       "\\item '\\% Segmented Neutrophils'\n",
       "\\item 'Absolute Basophil Count'\n",
       "\\item 'Absolute Eosinophil Count (AEC)'\n",
       "\\item 'Absolute Immature Granulocyte Count'\n",
       "\\item 'Absolute Lymphocyte Count (ALC)'\n",
       "\\item 'Absolute Monocyte Count (AMC)'\n",
       "\\item 'Absolute Neutrophil Count (ANC)'\n",
       "\\item 'Alanine Transaminase (ALT)'\n",
       "\\item 'Albumin'\n",
       "\\item 'Albumin (Serum Protein Electrophoresis)'\n",
       "\\item 'Alkaline Phosphatase'\n",
       "\\item 'Alpha 1 (Serum Protein Electrophoresis)'\n",
       "\\item 'Alpha 2 (Serum Protein Electrophoresis)'\n",
       "\\item 'Anion Gap'\n",
       "\\item 'Anti-CCP3'\n",
       "\\item 'Anti-CCP31'\n",
       "\\item 'Aspartate Aminotransferase (AST)'\n",
       "\\item 'Beta (Serum Protein Electrophoresis)'\n",
       "\\item 'Beta 2 Microglobulin'\n",
       "\\item 'Bilirubin, Total (T-Bili)'\n",
       "\\item 'Blood Urea Nitrogen (BUN)'\n",
       "\\item 'C-Reactive Protein (CRP)'\n",
       "\\item 'C-Rreactive Protein, High-Sensitivity (HS-CRP)'\n",
       "\\item 'CMV IgG Serology'\n",
       "\\item 'Calcium'\n",
       "\\item 'Carbon Dioxide (CO2)'\n",
       "\\item 'Chloride (Cl)'\n",
       "\\item 'Cholesterol, HDL'\n",
       "\\item 'Cholesterol, LDL'\n",
       "\\item 'Cholesterol, Non-HDL'\n",
       "\\item 'Cholesterol, Total'\n",
       "\\item 'Cholesterol/HDL Ratio'\n",
       "\\item 'Creatinine'\n",
       "\\item 'Estimated Glomerular Filtration Rate (eGFR) - African American'\n",
       "\\item 'Estimated Glomerular Filtration Rate (eGFR) - Non-African American'\n",
       "\\item 'Gamma (Serum Protein Electrophoresis)'\n",
       "\\item 'Globin'\n",
       "\\item 'Glucose'\n",
       "\\item 'Height'\n",
       "\\item 'Hematocrit'\n",
       "\\item 'Hemoglobin'\n",
       "\\item 'Hip size'\n",
       "\\item 'Immunofixation'\n",
       "\\item 'Immunoglobulin A'\n",
       "\\item 'Immunoglobulin G'\n",
       "\\item 'Immunoglobulin M'\n",
       "\\item 'Interpretation (Serum Protein Electrophoresis)'\n",
       "\\item 'Kappa Free Light Chain'\n",
       "\\item 'Kappa/Lambda FLC Ratio'\n",
       "\\item 'Lactate Dehydrogenase'\n",
       "\\item 'Lambda Free light chain'\n",
       "\\item 'Magnesium'\n",
       "\\item 'Mean Corpuscular Hemoglobin (MCH)'\n",
       "\\item 'Mean Corpuscular Hemoglobin Concentration (MCHC)'\n",
       "\\item 'Mean Corpuscular Volume (MCV)'\n",
       "\\item 'Mean Platelet Volume (MPV)'\n",
       "\\item 'Monoclonal 1 ID, Serum'\n",
       "\\item 'Monoclonal 1 Quantification, Serum'\n",
       "\\item 'Nucleated Red Blood Cell (NRBC) Count'\n",
       "\\item 'Phosphate'\n",
       "\\item 'Platelet Count'\n",
       "\\item 'Potassium'\n",
       "\\item 'Protein, Total'\n",
       "\\item 'Protein, Total (Serum Protein Electrophoresis)'\n",
       "\\item 'Red Blood Cell Count'\n",
       "\\item 'Red Cell Distribution Width (RDW)'\n",
       "\\item 'Rheumatoid Factor, IgA'\n",
       "\\item 'Rheumatoid Factor, IgM'\n",
       "\\item 'SARS-CoV-2 NP Serology Interpretation'\n",
       "\\item 'SARS-CoV-2 NP Serology Signal-to-Cutoff'\n",
       "\\item 'SED Rate-Westergren (ESR)'\n",
       "\\item 'Sodium'\n",
       "\\item 'Triglycerides'\n",
       "\\item 'Waist size'\n",
       "\\item 'Weight'\n",
       "\\item 'White Blood Cell Count (WBC)'\n",
       "\\end{enumerate*}\n"
      ],
      "text/markdown": [
       "1. '% Basophils'\n",
       "2. '% Eosinophils'\n",
       "3. '% Immature Granulocytes'\n",
       "4. '% Lymphocytes'\n",
       "5. '% Monocytes'\n",
       "6. '% Neutrophils'\n",
       "7. '% Nucleated Red Blood Cells (NRBC)'\n",
       "8. '% Segmented Neutrophils'\n",
       "9. 'Absolute Basophil Count'\n",
       "10. 'Absolute Eosinophil Count (AEC)'\n",
       "11. 'Absolute Immature Granulocyte Count'\n",
       "12. 'Absolute Lymphocyte Count (ALC)'\n",
       "13. 'Absolute Monocyte Count (AMC)'\n",
       "14. 'Absolute Neutrophil Count (ANC)'\n",
       "15. 'Alanine Transaminase (ALT)'\n",
       "16. 'Albumin'\n",
       "17. 'Albumin (Serum Protein Electrophoresis)'\n",
       "18. 'Alkaline Phosphatase'\n",
       "19. 'Alpha 1 (Serum Protein Electrophoresis)'\n",
       "20. 'Alpha 2 (Serum Protein Electrophoresis)'\n",
       "21. 'Anion Gap'\n",
       "22. 'Anti-CCP3'\n",
       "23. 'Anti-CCP31'\n",
       "24. 'Aspartate Aminotransferase (AST)'\n",
       "25. 'Beta (Serum Protein Electrophoresis)'\n",
       "26. 'Beta 2 Microglobulin'\n",
       "27. 'Bilirubin, Total (T-Bili)'\n",
       "28. 'Blood Urea Nitrogen (BUN)'\n",
       "29. 'C-Reactive Protein (CRP)'\n",
       "30. 'C-Rreactive Protein, High-Sensitivity (HS-CRP)'\n",
       "31. 'CMV IgG Serology'\n",
       "32. 'Calcium'\n",
       "33. 'Carbon Dioxide (CO2)'\n",
       "34. 'Chloride (Cl)'\n",
       "35. 'Cholesterol, HDL'\n",
       "36. 'Cholesterol, LDL'\n",
       "37. 'Cholesterol, Non-HDL'\n",
       "38. 'Cholesterol, Total'\n",
       "39. 'Cholesterol/HDL Ratio'\n",
       "40. 'Creatinine'\n",
       "41. 'Estimated Glomerular Filtration Rate (eGFR) - African American'\n",
       "42. 'Estimated Glomerular Filtration Rate (eGFR) - Non-African American'\n",
       "43. 'Gamma (Serum Protein Electrophoresis)'\n",
       "44. 'Globin'\n",
       "45. 'Glucose'\n",
       "46. 'Height'\n",
       "47. 'Hematocrit'\n",
       "48. 'Hemoglobin'\n",
       "49. 'Hip size'\n",
       "50. 'Immunofixation'\n",
       "51. 'Immunoglobulin A'\n",
       "52. 'Immunoglobulin G'\n",
       "53. 'Immunoglobulin M'\n",
       "54. 'Interpretation (Serum Protein Electrophoresis)'\n",
       "55. 'Kappa Free Light Chain'\n",
       "56. 'Kappa/Lambda FLC Ratio'\n",
       "57. 'Lactate Dehydrogenase'\n",
       "58. 'Lambda Free light chain'\n",
       "59. 'Magnesium'\n",
       "60. 'Mean Corpuscular Hemoglobin (MCH)'\n",
       "61. 'Mean Corpuscular Hemoglobin Concentration (MCHC)'\n",
       "62. 'Mean Corpuscular Volume (MCV)'\n",
       "63. 'Mean Platelet Volume (MPV)'\n",
       "64. 'Monoclonal 1 ID, Serum'\n",
       "65. 'Monoclonal 1 Quantification, Serum'\n",
       "66. 'Nucleated Red Blood Cell (NRBC) Count'\n",
       "67. 'Phosphate'\n",
       "68. 'Platelet Count'\n",
       "69. 'Potassium'\n",
       "70. 'Protein, Total'\n",
       "71. 'Protein, Total (Serum Protein Electrophoresis)'\n",
       "72. 'Red Blood Cell Count'\n",
       "73. 'Red Cell Distribution Width (RDW)'\n",
       "74. 'Rheumatoid Factor, IgA'\n",
       "75. 'Rheumatoid Factor, IgM'\n",
       "76. 'SARS-CoV-2 NP Serology Interpretation'\n",
       "77. 'SARS-CoV-2 NP Serology Signal-to-Cutoff'\n",
       "78. 'SED Rate-Westergren (ESR)'\n",
       "79. 'Sodium'\n",
       "80. 'Triglycerides'\n",
       "81. 'Waist size'\n",
       "82. 'Weight'\n",
       "83. 'White Blood Cell Count (WBC)'\n",
       "\n",
       "\n"
      ],
      "text/plain": [
       " [1] \"% Basophils\"                                                       \n",
       " [2] \"% Eosinophils\"                                                     \n",
       " [3] \"% Immature Granulocytes\"                                           \n",
       " [4] \"% Lymphocytes\"                                                     \n",
       " [5] \"% Monocytes\"                                                       \n",
       " [6] \"% Neutrophils\"                                                     \n",
       " [7] \"% Nucleated Red Blood Cells (NRBC)\"                                \n",
       " [8] \"% Segmented Neutrophils\"                                           \n",
       " [9] \"Absolute Basophil Count\"                                           \n",
       "[10] \"Absolute Eosinophil Count (AEC)\"                                   \n",
       "[11] \"Absolute Immature Granulocyte Count\"                               \n",
       "[12] \"Absolute Lymphocyte Count (ALC)\"                                   \n",
       "[13] \"Absolute Monocyte Count (AMC)\"                                     \n",
       "[14] \"Absolute Neutrophil Count (ANC)\"                                   \n",
       "[15] \"Alanine Transaminase (ALT)\"                                        \n",
       "[16] \"Albumin\"                                                           \n",
       "[17] \"Albumin (Serum Protein Electrophoresis)\"                           \n",
       "[18] \"Alkaline Phosphatase\"                                              \n",
       "[19] \"Alpha 1 (Serum Protein Electrophoresis)\"                           \n",
       "[20] \"Alpha 2 (Serum Protein Electrophoresis)\"                           \n",
       "[21] \"Anion Gap\"                                                         \n",
       "[22] \"Anti-CCP3\"                                                         \n",
       "[23] \"Anti-CCP31\"                                                        \n",
       "[24] \"Aspartate Aminotransferase (AST)\"                                  \n",
       "[25] \"Beta (Serum Protein Electrophoresis)\"                              \n",
       "[26] \"Beta 2 Microglobulin\"                                              \n",
       "[27] \"Bilirubin, Total (T-Bili)\"                                         \n",
       "[28] \"Blood Urea Nitrogen (BUN)\"                                         \n",
       "[29] \"C-Reactive Protein (CRP)\"                                          \n",
       "[30] \"C-Rreactive Protein, High-Sensitivity (HS-CRP)\"                    \n",
       "[31] \"CMV IgG Serology\"                                                  \n",
       "[32] \"Calcium\"                                                           \n",
       "[33] \"Carbon Dioxide (CO2)\"                                              \n",
       "[34] \"Chloride (Cl)\"                                                     \n",
       "[35] \"Cholesterol, HDL\"                                                  \n",
       "[36] \"Cholesterol, LDL\"                                                  \n",
       "[37] \"Cholesterol, Non-HDL\"                                              \n",
       "[38] \"Cholesterol, Total\"                                                \n",
       "[39] \"Cholesterol/HDL Ratio\"                                             \n",
       "[40] \"Creatinine\"                                                        \n",
       "[41] \"Estimated Glomerular Filtration Rate (eGFR) - African American\"    \n",
       "[42] \"Estimated Glomerular Filtration Rate (eGFR) - Non-African American\"\n",
       "[43] \"Gamma (Serum Protein Electrophoresis)\"                             \n",
       "[44] \"Globin\"                                                            \n",
       "[45] \"Glucose\"                                                           \n",
       "[46] \"Height\"                                                            \n",
       "[47] \"Hematocrit\"                                                        \n",
       "[48] \"Hemoglobin\"                                                        \n",
       "[49] \"Hip size\"                                                          \n",
       "[50] \"Immunofixation\"                                                    \n",
       "[51] \"Immunoglobulin A\"                                                  \n",
       "[52] \"Immunoglobulin G\"                                                  \n",
       "[53] \"Immunoglobulin M\"                                                  \n",
       "[54] \"Interpretation (Serum Protein Electrophoresis)\"                    \n",
       "[55] \"Kappa Free Light Chain\"                                            \n",
       "[56] \"Kappa/Lambda FLC Ratio\"                                            \n",
       "[57] \"Lactate Dehydrogenase\"                                             \n",
       "[58] \"Lambda Free light chain\"                                           \n",
       "[59] \"Magnesium\"                                                         \n",
       "[60] \"Mean Corpuscular Hemoglobin (MCH)\"                                 \n",
       "[61] \"Mean Corpuscular Hemoglobin Concentration (MCHC)\"                  \n",
       "[62] \"Mean Corpuscular Volume (MCV)\"                                     \n",
       "[63] \"Mean Platelet Volume (MPV)\"                                        \n",
       "[64] \"Monoclonal 1 ID, Serum\"                                            \n",
       "[65] \"Monoclonal 1 Quantification, Serum\"                                \n",
       "[66] \"Nucleated Red Blood Cell (NRBC) Count\"                             \n",
       "[67] \"Phosphate\"                                                         \n",
       "[68] \"Platelet Count\"                                                    \n",
       "[69] \"Potassium\"                                                         \n",
       "[70] \"Protein, Total\"                                                    \n",
       "[71] \"Protein, Total (Serum Protein Electrophoresis)\"                    \n",
       "[72] \"Red Blood Cell Count\"                                              \n",
       "[73] \"Red Cell Distribution Width (RDW)\"                                 \n",
       "[74] \"Rheumatoid Factor, IgA\"                                            \n",
       "[75] \"Rheumatoid Factor, IgM\"                                            \n",
       "[76] \"SARS-CoV-2 NP Serology Interpretation\"                             \n",
       "[77] \"SARS-CoV-2 NP Serology Signal-to-Cutoff\"                           \n",
       "[78] \"SED Rate-Westergren (ESR)\"                                         \n",
       "[79] \"Sodium\"                                                            \n",
       "[80] \"Triglycerides\"                                                     \n",
       "[81] \"Waist size\"                                                        \n",
       "[82] \"Weight\"                                                            \n",
       "[83] \"White Blood Cell Count (WBC)\"                                      "
      ]
     },
     "metadata": {},
     "output_type": "display_data"
    }
   ],
   "source": [
    "names(cu1_desc[[1]]$lab)"
   ]
  },
  {
   "cell_type": "markdown",
   "metadata": {},
   "source": [
    "For these samples, let's look at lab results related to CCP3 and Rheumatoid factor:"
   ]
  },
  {
   "cell_type": "code",
   "execution_count": 21,
   "metadata": {},
   "outputs": [],
   "source": [
    "get_labs <- c(\"Anti-CCP3\",\"Anti-CCP31\",\"Rheumatoid Factor, IgA\", \"Rheumatoid Factor, IgM\")"
   ]
  },
  {
   "cell_type": "markdown",
   "metadata": {},
   "source": [
    "Then, we can filter the descriptors, and convert to a data.frame as before:"
   ]
  },
  {
   "cell_type": "code",
   "execution_count": 22,
   "metadata": {},
   "outputs": [],
   "source": [
    "cu1_desc_labs <- map(\n",
    "    cu1_desc,\n",
    "    function(desc) {\n",
    "        desc$lab <- desc$lab[get_labs]\n",
    "        desc\n",
    "    }\n",
    ")"
   ]
  },
  {
   "cell_type": "code",
   "execution_count": 23,
   "metadata": {},
   "outputs": [],
   "source": [
    "cu1_desc_labs_df <- fileDescToDataframe(cu1_desc_labs, keep_labs = TRUE)"
   ]
  },
  {
   "cell_type": "code",
   "execution_count": 24,
   "metadata": {},
   "outputs": [],
   "source": [
    "sd1_desc_labs <- map(\n",
    "    sd1_desc,\n",
    "    function(desc) {\n",
    "        desc$lab <- desc$lab[get_labs]\n",
    "        desc\n",
    "    }\n",
    ")"
   ]
  },
  {
   "cell_type": "code",
   "execution_count": 25,
   "metadata": {},
   "outputs": [],
   "source": [
    "sd1_desc_labs_df <- fileDescToDataframe(sd1_desc_labs, keep_labs = TRUE)"
   ]
  },
  {
   "cell_type": "code",
   "execution_count": 26,
   "metadata": {},
   "outputs": [],
   "source": [
    "desc_labs_df <- rbind(cu1_desc_labs_df,\n",
    "                      sd1_desc_labs_df)"
   ]
  },
  {
   "cell_type": "code",
   "execution_count": 27,
   "metadata": {},
   "outputs": [
    {
     "data": {
      "text/html": [
       "97"
      ],
      "text/latex": [
       "97"
      ],
      "text/markdown": [
       "97"
      ],
      "text/plain": [
       "[1] 97"
      ]
     },
     "metadata": {},
     "output_type": "display_data"
    }
   ],
   "source": [
    "nrow(desc_labs_df)"
   ]
  },
  {
   "cell_type": "markdown",
   "metadata": {},
   "source": [
    "Again, we may have a few duplicates, so let's filter these by selecting sample, subject, and lab results:"
   ]
  },
  {
   "cell_type": "code",
   "execution_count": 28,
   "metadata": {},
   "outputs": [],
   "source": [
    "desc_labs_df <- desc_labs_df %>%\n",
    "  select(starts_with(\"sample\"),starts_with(\"subject\"), starts_with(\"lab\")) %>%\n",
    "  unique()"
   ]
  },
  {
   "cell_type": "code",
   "execution_count": 29,
   "metadata": {},
   "outputs": [
    {
     "data": {
      "text/html": [
       "90"
      ],
      "text/latex": [
       "90"
      ],
      "text/markdown": [
       "90"
      ],
      "text/plain": [
       "[1] 90"
      ]
     },
     "metadata": {},
     "output_type": "display_data"
    }
   ],
   "source": [
    "nrow(desc_labs_df)"
   ]
  },
  {
   "cell_type": "code",
   "execution_count": 30,
   "metadata": {},
   "outputs": [
    {
     "data": {
      "text/html": [
       "<table class=\"dataframe\">\n",
       "<caption>A data.frame: 6 × 18</caption>\n",
       "<thead>\n",
       "\t<tr><th></th><th scope=col>sample.id</th><th scope=col>sample.bridgingControl</th><th scope=col>sample.sampleKitGuid</th><th scope=col>sample.visitName</th><th scope=col>sample.drawDate</th><th scope=col>sample.daysSinceFirstVisit</th><th scope=col>subject.id</th><th scope=col>subject.biologicalSex</th><th scope=col>subject.birthYear</th><th scope=col>subject.ethnicity</th><th scope=col>subject.partnerCode</th><th scope=col>subject.race</th><th scope=col>subject.subjectGuid</th><th scope=col>lab.Anti.CCP3</th><th scope=col>lab.Anti.CCP31</th><th scope=col>lab.Rheumatoid.Factor..IgA</th><th scope=col>lab.Rheumatoid.Factor..IgM</th><th scope=col>labDisplay.version</th></tr>\n",
       "\t<tr><th></th><th scope=col>&lt;chr&gt;</th><th scope=col>&lt;chr&gt;</th><th scope=col>&lt;chr&gt;</th><th scope=col>&lt;chr&gt;</th><th scope=col>&lt;chr&gt;</th><th scope=col>&lt;chr&gt;</th><th scope=col>&lt;chr&gt;</th><th scope=col>&lt;chr&gt;</th><th scope=col>&lt;chr&gt;</th><th scope=col>&lt;chr&gt;</th><th scope=col>&lt;chr&gt;</th><th scope=col>&lt;chr&gt;</th><th scope=col>&lt;chr&gt;</th><th scope=col>&lt;chr&gt;</th><th scope=col>&lt;chr&gt;</th><th scope=col>&lt;chr&gt;</th><th scope=col>&lt;chr&gt;</th><th scope=col>&lt;chr&gt;</th></tr>\n",
       "</thead>\n",
       "<tbody>\n",
       "\t<tr><th scope=row>1</th><td>cf1e0551-0a69-4f13-a2b8-c81113d1e3dc</td><td>false</td><td>KT00067</td><td>Flu Year 1 Stand-Alone</td><td>2020-01-01T00:00:00Z</td><td>0</td><td>18ddbec1-5f99-4d03-84e6-3c0c29bbcf75</td><td>Female</td><td>1946</td><td>non-Hispanic origin</td><td>CU</td><td>Caucasian       </td><td>CU1019</td><td>30 </td><td></td><td>0.25 </td><td>0.25 </td><td>1</td></tr>\n",
       "\t<tr><th scope=row>2</th><td>c768b123-ca74-4e6d-aec0-964a0dd8c833</td><td>false</td><td>KT00090</td><td>Flu Year 1 Stand-Alone</td><td>2020-01-01T00:00:00Z</td><td>0</td><td>7bd0931f-ed24-497f-909e-d73ba41712f6</td><td>Female</td><td>1947</td><td>non-Hispanic origin</td><td>CU</td><td>Caucasian       </td><td>CU1024</td><td>47 </td><td></td><td>0.25 </td><td>0.25 </td><td>1</td></tr>\n",
       "\t<tr><th scope=row>3</th><td>748de27e-346b-40f4-aafb-c1a751de73e9</td><td>false</td><td>KT00068</td><td>Flu Year 1 Stand-Alone</td><td>2020-01-01T00:00:00Z</td><td>0</td><td>6fa3e8ca-4307-4f9a-8e53-6ca228c23cb8</td><td>Female</td><td>1965</td><td>non-Hispanic origin</td><td>CU</td><td>Caucasian       </td><td>CU1020</td><td>147</td><td></td><td>0.25 </td><td>3.84 </td><td>1</td></tr>\n",
       "\t<tr><th scope=row>4</th><td>7f751246-562a-4e73-bba5-cdedaf282dc4</td><td>false</td><td>KT00073</td><td>Flu Year 1 Stand-Alone</td><td>2020-01-01T00:00:00Z</td><td>0</td><td>26c16eb3-4ff5-4a8d-ac1f-895e7de84093</td><td>Female</td><td>1949</td><td>non-Hispanic origin</td><td>CU</td><td>Caucasian       </td><td>CU1022</td><td>64 </td><td></td><td>11.41</td><td>3.09 </td><td>1</td></tr>\n",
       "\t<tr><th scope=row>5</th><td>2165e901-5141-4f4a-a553-dbc81af62010</td><td>false</td><td>KT00095</td><td>Flu Year 1 Stand-Alone</td><td>2020-02-01T00:00:00Z</td><td>0</td><td>7a80e45d-f3ca-400d-a4af-e764fc6b282c</td><td>Female</td><td>1970</td><td>non-Hispanic origin</td><td>CU</td><td>African American</td><td>CU1027</td><td>49 </td><td></td><td>0.25 </td><td>26.21</td><td>1</td></tr>\n",
       "\t<tr><th scope=row>6</th><td>ba558f82-05db-4c5d-b6f9-53787f161be1</td><td>false</td><td>KT00087</td><td>Flu Year 1 Stand-Alone</td><td>2020-02-01T00:00:00Z</td><td>0</td><td>3e3bd788-ece3-4a61-b6a6-9464b898361e</td><td>Female</td><td>1948</td><td>non-Hispanic origin</td><td>CU</td><td>Caucasian       </td><td>CU1030</td><td>52 </td><td></td><td>0.35 </td><td>0.25 </td><td>1</td></tr>\n",
       "</tbody>\n",
       "</table>\n"
      ],
      "text/latex": [
       "A data.frame: 6 × 18\n",
       "\\begin{tabular}{r|llllllllllllllllll}\n",
       "  & sample.id & sample.bridgingControl & sample.sampleKitGuid & sample.visitName & sample.drawDate & sample.daysSinceFirstVisit & subject.id & subject.biologicalSex & subject.birthYear & subject.ethnicity & subject.partnerCode & subject.race & subject.subjectGuid & lab.Anti.CCP3 & lab.Anti.CCP31 & lab.Rheumatoid.Factor..IgA & lab.Rheumatoid.Factor..IgM & labDisplay.version\\\\\n",
       "  & <chr> & <chr> & <chr> & <chr> & <chr> & <chr> & <chr> & <chr> & <chr> & <chr> & <chr> & <chr> & <chr> & <chr> & <chr> & <chr> & <chr> & <chr>\\\\\n",
       "\\hline\n",
       "\t1 & cf1e0551-0a69-4f13-a2b8-c81113d1e3dc & false & KT00067 & Flu Year 1 Stand-Alone & 2020-01-01T00:00:00Z & 0 & 18ddbec1-5f99-4d03-84e6-3c0c29bbcf75 & Female & 1946 & non-Hispanic origin & CU & Caucasian        & CU1019 & 30  &  & 0.25  & 0.25  & 1\\\\\n",
       "\t2 & c768b123-ca74-4e6d-aec0-964a0dd8c833 & false & KT00090 & Flu Year 1 Stand-Alone & 2020-01-01T00:00:00Z & 0 & 7bd0931f-ed24-497f-909e-d73ba41712f6 & Female & 1947 & non-Hispanic origin & CU & Caucasian        & CU1024 & 47  &  & 0.25  & 0.25  & 1\\\\\n",
       "\t3 & 748de27e-346b-40f4-aafb-c1a751de73e9 & false & KT00068 & Flu Year 1 Stand-Alone & 2020-01-01T00:00:00Z & 0 & 6fa3e8ca-4307-4f9a-8e53-6ca228c23cb8 & Female & 1965 & non-Hispanic origin & CU & Caucasian        & CU1020 & 147 &  & 0.25  & 3.84  & 1\\\\\n",
       "\t4 & 7f751246-562a-4e73-bba5-cdedaf282dc4 & false & KT00073 & Flu Year 1 Stand-Alone & 2020-01-01T00:00:00Z & 0 & 26c16eb3-4ff5-4a8d-ac1f-895e7de84093 & Female & 1949 & non-Hispanic origin & CU & Caucasian        & CU1022 & 64  &  & 11.41 & 3.09  & 1\\\\\n",
       "\t5 & 2165e901-5141-4f4a-a553-dbc81af62010 & false & KT00095 & Flu Year 1 Stand-Alone & 2020-02-01T00:00:00Z & 0 & 7a80e45d-f3ca-400d-a4af-e764fc6b282c & Female & 1970 & non-Hispanic origin & CU & African American & CU1027 & 49  &  & 0.25  & 26.21 & 1\\\\\n",
       "\t6 & ba558f82-05db-4c5d-b6f9-53787f161be1 & false & KT00087 & Flu Year 1 Stand-Alone & 2020-02-01T00:00:00Z & 0 & 3e3bd788-ece3-4a61-b6a6-9464b898361e & Female & 1948 & non-Hispanic origin & CU & Caucasian        & CU1030 & 52  &  & 0.35  & 0.25  & 1\\\\\n",
       "\\end{tabular}\n"
      ],
      "text/markdown": [
       "\n",
       "A data.frame: 6 × 18\n",
       "\n",
       "| <!--/--> | sample.id &lt;chr&gt; | sample.bridgingControl &lt;chr&gt; | sample.sampleKitGuid &lt;chr&gt; | sample.visitName &lt;chr&gt; | sample.drawDate &lt;chr&gt; | sample.daysSinceFirstVisit &lt;chr&gt; | subject.id &lt;chr&gt; | subject.biologicalSex &lt;chr&gt; | subject.birthYear &lt;chr&gt; | subject.ethnicity &lt;chr&gt; | subject.partnerCode &lt;chr&gt; | subject.race &lt;chr&gt; | subject.subjectGuid &lt;chr&gt; | lab.Anti.CCP3 &lt;chr&gt; | lab.Anti.CCP31 &lt;chr&gt; | lab.Rheumatoid.Factor..IgA &lt;chr&gt; | lab.Rheumatoid.Factor..IgM &lt;chr&gt; | labDisplay.version &lt;chr&gt; |\n",
       "|---|---|---|---|---|---|---|---|---|---|---|---|---|---|---|---|---|---|---|\n",
       "| 1 | cf1e0551-0a69-4f13-a2b8-c81113d1e3dc | false | KT00067 | Flu Year 1 Stand-Alone | 2020-01-01T00:00:00Z | 0 | 18ddbec1-5f99-4d03-84e6-3c0c29bbcf75 | Female | 1946 | non-Hispanic origin | CU | Caucasian        | CU1019 | 30  | <!----> | 0.25  | 0.25  | 1 |\n",
       "| 2 | c768b123-ca74-4e6d-aec0-964a0dd8c833 | false | KT00090 | Flu Year 1 Stand-Alone | 2020-01-01T00:00:00Z | 0 | 7bd0931f-ed24-497f-909e-d73ba41712f6 | Female | 1947 | non-Hispanic origin | CU | Caucasian        | CU1024 | 47  | <!----> | 0.25  | 0.25  | 1 |\n",
       "| 3 | 748de27e-346b-40f4-aafb-c1a751de73e9 | false | KT00068 | Flu Year 1 Stand-Alone | 2020-01-01T00:00:00Z | 0 | 6fa3e8ca-4307-4f9a-8e53-6ca228c23cb8 | Female | 1965 | non-Hispanic origin | CU | Caucasian        | CU1020 | 147 | <!----> | 0.25  | 3.84  | 1 |\n",
       "| 4 | 7f751246-562a-4e73-bba5-cdedaf282dc4 | false | KT00073 | Flu Year 1 Stand-Alone | 2020-01-01T00:00:00Z | 0 | 26c16eb3-4ff5-4a8d-ac1f-895e7de84093 | Female | 1949 | non-Hispanic origin | CU | Caucasian        | CU1022 | 64  | <!----> | 11.41 | 3.09  | 1 |\n",
       "| 5 | 2165e901-5141-4f4a-a553-dbc81af62010 | false | KT00095 | Flu Year 1 Stand-Alone | 2020-02-01T00:00:00Z | 0 | 7a80e45d-f3ca-400d-a4af-e764fc6b282c | Female | 1970 | non-Hispanic origin | CU | African American | CU1027 | 49  | <!----> | 0.25  | 26.21 | 1 |\n",
       "| 6 | ba558f82-05db-4c5d-b6f9-53787f161be1 | false | KT00087 | Flu Year 1 Stand-Alone | 2020-02-01T00:00:00Z | 0 | 3e3bd788-ece3-4a61-b6a6-9464b898361e | Female | 1948 | non-Hispanic origin | CU | Caucasian        | CU1030 | 52  | <!----> | 0.35  | 0.25  | 1 |\n",
       "\n"
      ],
      "text/plain": [
       "  sample.id                            sample.bridgingControl\n",
       "1 cf1e0551-0a69-4f13-a2b8-c81113d1e3dc false                 \n",
       "2 c768b123-ca74-4e6d-aec0-964a0dd8c833 false                 \n",
       "3 748de27e-346b-40f4-aafb-c1a751de73e9 false                 \n",
       "4 7f751246-562a-4e73-bba5-cdedaf282dc4 false                 \n",
       "5 2165e901-5141-4f4a-a553-dbc81af62010 false                 \n",
       "6 ba558f82-05db-4c5d-b6f9-53787f161be1 false                 \n",
       "  sample.sampleKitGuid sample.visitName       sample.drawDate     \n",
       "1 KT00067              Flu Year 1 Stand-Alone 2020-01-01T00:00:00Z\n",
       "2 KT00090              Flu Year 1 Stand-Alone 2020-01-01T00:00:00Z\n",
       "3 KT00068              Flu Year 1 Stand-Alone 2020-01-01T00:00:00Z\n",
       "4 KT00073              Flu Year 1 Stand-Alone 2020-01-01T00:00:00Z\n",
       "5 KT00095              Flu Year 1 Stand-Alone 2020-02-01T00:00:00Z\n",
       "6 KT00087              Flu Year 1 Stand-Alone 2020-02-01T00:00:00Z\n",
       "  sample.daysSinceFirstVisit subject.id                          \n",
       "1 0                          18ddbec1-5f99-4d03-84e6-3c0c29bbcf75\n",
       "2 0                          7bd0931f-ed24-497f-909e-d73ba41712f6\n",
       "3 0                          6fa3e8ca-4307-4f9a-8e53-6ca228c23cb8\n",
       "4 0                          26c16eb3-4ff5-4a8d-ac1f-895e7de84093\n",
       "5 0                          7a80e45d-f3ca-400d-a4af-e764fc6b282c\n",
       "6 0                          3e3bd788-ece3-4a61-b6a6-9464b898361e\n",
       "  subject.biologicalSex subject.birthYear subject.ethnicity  \n",
       "1 Female                1946              non-Hispanic origin\n",
       "2 Female                1947              non-Hispanic origin\n",
       "3 Female                1965              non-Hispanic origin\n",
       "4 Female                1949              non-Hispanic origin\n",
       "5 Female                1970              non-Hispanic origin\n",
       "6 Female                1948              non-Hispanic origin\n",
       "  subject.partnerCode subject.race     subject.subjectGuid lab.Anti.CCP3\n",
       "1 CU                  Caucasian        CU1019              30           \n",
       "2 CU                  Caucasian        CU1024              47           \n",
       "3 CU                  Caucasian        CU1020              147          \n",
       "4 CU                  Caucasian        CU1022              64           \n",
       "5 CU                  African American CU1027              49           \n",
       "6 CU                  Caucasian        CU1030              52           \n",
       "  lab.Anti.CCP31 lab.Rheumatoid.Factor..IgA lab.Rheumatoid.Factor..IgM\n",
       "1                0.25                       0.25                      \n",
       "2                0.25                       0.25                      \n",
       "3                0.25                       3.84                      \n",
       "4                11.41                      3.09                      \n",
       "5                0.25                       26.21                     \n",
       "6                0.35                       0.25                      \n",
       "  labDisplay.version\n",
       "1 1                 \n",
       "2 1                 \n",
       "3 1                 \n",
       "4 1                 \n",
       "5 1                 \n",
       "6 1                 "
      ]
     },
     "metadata": {},
     "output_type": "display_data"
    }
   ],
   "source": [
    "head(desc_labs_df)"
   ]
  },
  {
   "cell_type": "markdown",
   "metadata": {},
   "source": [
    "Now that we have them, we can check out some simple plots for these results:"
   ]
  },
  {
   "cell_type": "code",
   "execution_count": 31,
   "metadata": {},
   "outputs": [
    {
     "data": {
      "image/png": "[encoded data removed]",
      "text/plain": [
       "Plot with title “Histogram of as.numeric(desc_labs_df$lab.Anti.CCP3)”"
      ]
     },
     "metadata": {
      "image/png": {
       "height": 240,
       "width": 720
      }
     },
     "output_type": "display_data"
    }
   ],
   "source": [
    "options(repr.plot.width = 12, repr.plot.height = 4)\n",
    "\n",
    "hist(as.numeric(desc_labs_df$lab.Anti.CCP3), breaks = 10)"
   ]
  },
  {
   "cell_type": "code",
   "execution_count": 32,
   "metadata": {},
   "outputs": [
    {
     "data": {
      "image/png": "[encoded data removed]",
      "text/plain": [
       "Plot with title “Histogram of as.numeric(desc_labs_df$lab.Rheumatoid.Factor..IgA)”"
      ]
     },
     "metadata": {
      "image/png": {
       "height": 240,
       "width": 720
      }
     },
     "output_type": "display_data"
    }
   ],
   "source": [
    "options(repr.plot.width = 12, repr.plot.height = 4)\n",
    "\n",
    "hist(as.numeric(desc_labs_df$lab.Rheumatoid.Factor..IgA), breaks = 10)"
   ]
  },
  {
   "cell_type": "code",
   "execution_count": 33,
   "metadata": {},
   "outputs": [
    {
     "data": {
      "image/png": "[encoded data removed]",
      "text/plain": [
       "Plot with title “Histogram of as.numeric(desc_labs_df$lab.Rheumatoid.Factor..IgM)”"
      ]
     },
     "metadata": {
      "image/png": {
       "height": 240,
       "width": 720
      }
     },
     "output_type": "display_data"
    }
   ],
   "source": [
    "options(repr.plot.width = 12, repr.plot.height = 4)\n",
    "\n",
    "hist(as.numeric(desc_labs_df$lab.Rheumatoid.Factor..IgM), breaks = 10)"
   ]
  },
  {
   "cell_type": "code",
   "execution_count": 37,
   "metadata": {},
   "outputs": [
    {
     "data": {
      "image/png": "[encoded data removed]",
      "text/plain": [
       "plot without title"
      ]
     },
     "metadata": {
      "image/png": {
       "height": 480,
       "width": 480
      }
     },
     "output_type": "display_data"
    }
   ],
   "source": [
    "options(repr.plot.width = 8, repr.plot.height = 8)\n",
    "\n",
    "plot(as.numeric(desc_labs_df$lab.Anti.CCP3),\n",
    "     as.numeric(desc_labs_df$lab.Rheumatoid.Factor..IgM))"
   ]
  },
  {
   "cell_type": "markdown",
   "metadata": {},
   "source": [
    "With `ggplot2`, we can make some more advanced, subset plots:"
   ]
  },
  {
   "cell_type": "code",
   "execution_count": 38,
   "metadata": {},
   "outputs": [
    {
     "name": "stderr",
     "output_type": "stream",
     "text": [
      "Warning message:\n",
      "“Removed 1 rows containing non-finite values (stat_boxplot).”\n",
      "Warning message:\n",
      "“Removed 1 rows containing missing values (geom_point).”\n"
     ]
    },
    {
     "data": {
      "image/png": "[encoded data removed]",
      "text/plain": [
       "plot without title"
      ]
     },
     "metadata": {
      "image/png": {
       "height": 240,
       "width": 720
      }
     },
     "output_type": "display_data"
    }
   ],
   "source": [
    "options(repr.plot.width = 12, repr.plot.height = 4)\n",
    "\n",
    "ggplot() +\n",
    "  geom_boxplot(\n",
    "      data = desc_labs_df,\n",
    "      aes(x = subject.subjectGuid,\n",
    "          y = as.numeric(lab.Anti.CCP3))\n",
    "  ) +\n",
    "  geom_jitter(\n",
    "      data = desc_labs_df,\n",
    "      aes(x = subject.subjectGuid,\n",
    "          y = as.numeric(lab.Anti.CCP3))\n",
    "  ) +\n",
    "  theme(axis.text.x = element_text(angle = 90,\n",
    "                                   hjust = 1,\n",
    "                                   vjust = 0.3))"
   ]
  },
  {
   "cell_type": "code",
   "execution_count": 39,
   "metadata": {},
   "outputs": [
    {
     "data": {
      "text/plain": [
       "R version 4.0.2 (2020-06-22)\n",
       "Platform: x86_64-pc-linux-gnu (64-bit)\n",
       "Running under: Ubuntu 20.04 LTS\n",
       "\n",
       "Matrix products: default\n",
       "BLAS:   /usr/lib/x86_64-linux-gnu/openblas-pthread/libblas.so.3\n",
       "LAPACK: /usr/lib/x86_64-linux-gnu/openblas-pthread/liblapack.so.3\n",
       "\n",
       "locale:\n",
       " [1] LC_CTYPE=C.UTF-8       LC_NUMERIC=C           LC_TIME=C.UTF-8       \n",
       " [4] LC_COLLATE=C.UTF-8     LC_MONETARY=C.UTF-8    LC_MESSAGES=C.UTF-8   \n",
       " [7] LC_PAPER=C.UTF-8       LC_NAME=C              LC_ADDRESS=C          \n",
       "[10] LC_TELEPHONE=C         LC_MEASUREMENT=C.UTF-8 LC_IDENTIFICATION=C   \n",
       "\n",
       "attached base packages:\n",
       "[1] stats     graphics  grDevices utils     datasets  methods   base     \n",
       "\n",
       "other attached packages:\n",
       "[1] ggplot2_3.3.3 purrr_0.3.4   dplyr_1.0.4   hise_1.0.3   \n",
       "\n",
       "loaded via a namespace (and not attached):\n",
       " [1] pillar_1.5.1      compiler_4.0.2    bitops_1.0-6      base64enc_0.1-3  \n",
       " [5] tools_4.0.2       digest_0.6.27     uuid_0.1-4        jsonlite_1.7.2   \n",
       " [9] evaluate_0.14     lifecycle_1.0.0   tibble_3.1.0      gtable_0.3.0     \n",
       "[13] pkgconfig_2.0.3   rlang_0.4.10      IRdisplay_1.0     DBI_1.1.1        \n",
       "[17] curl_4.3          IRkernel_1.1.1    repr_1.1.3        withr_2.4.1      \n",
       "[21] httr_1.4.2        generics_0.1.0    vctrs_0.3.6       grid_4.0.2       \n",
       "[25] tidyselect_1.1.0  glue_1.4.2        R6_2.5.0          fansi_0.4.2      \n",
       "[29] pbdZMQ_0.3-5      farver_2.1.0      tidyr_1.1.2       magrittr_2.0.1   \n",
       "[33] scales_1.1.1      ellipsis_0.3.1    htmltools_0.5.1.1 assertthat_0.2.1 \n",
       "[37] colorspace_2.0-0  labeling_0.4.2    utf8_1.2.1        RCurl_1.98-1.2   \n",
       "[41] munsell_0.5.0     crayon_1.4.1     "
      ]
     },
     "metadata": {},
     "output_type": "display_data"
    }
   ],
   "source": [
    "sessionInfo()"
   ]
  },
  {
   "cell_type": "code",
   "execution_count": null,
   "metadata": {},
   "outputs": [],
   "source": []
  }
 ],
 "metadata": {
  "kernelspec": {
   "display_name": "R",
   "language": "R",
   "name": "ir"
  },
  "language_info": {
   "codemirror_mode": "r",
   "file_extension": ".r",
   "mimetype": "text/x-r-source",
   "name": "R",
   "pygments_lexer": "r",
   "version": "4.0.2"
  }
 },
 "nbformat": 4,
 "nbformat_minor": 4
}
