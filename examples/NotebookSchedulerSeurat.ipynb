{
 "cells": [
  {
   "cell_type": "code",
   "execution_count": null,
   "metadata": {},
   "outputs": [],
   "source": [
    "# First, we ensure we have no other jobs, then declare our outputs and submit. \n",
    "# When running, the scheduler will ignore the 'scheduleNotebook' function\n",
    "hise::clearNotebookJob()\n",
    "list_data <- list(\"Seurat_output.RData\")\n",
    "hise::scheduleNotebook(outputFiles=list_data, platform=\"Seurat\", project=\"aifiDevTest\")"
   ]
  },
  {
   "cell_type": "code",
   "execution_count": null,
   "metadata": {},
   "outputs": [],
   "source": [
    "# Let's ensure SeuratDisk and tidyverse are installed\n",
    "system(\"apt-get update && apt-get install libhdf5-dev -y && PATH=\\\"/usr/local/sbin:/usr/local/bin:/usr/sbin:/usr/bin:/sbin:/bin\\\" Rscript -e \\\"remotes::install_github('mojaveazure/seurat-disk')\\\"\")\n",
    "install.packages('tidyverse')"
   ]
  },
  {
   "cell_type": "code",
   "execution_count": null,
   "metadata": {},
   "outputs": [],
   "source": [
    "library(Seurat)\n",
    "library(SeuratDisk)\n",
    "library(tidyverse)\n",
    "library(scattermore)\n",
    "library(Matrix)"
   ]
  },
  {
   "cell_type": "code",
   "execution_count": null,
   "metadata": {},
   "outputs": [],
   "source": [
    "# Then, we'll read in the h5's we intend to use\n",
    "hise::readFiles(list(\"676faa6b-df1a-45a0-ad91-0320bdb23f00\", \"66c15b4a-c331-4222-b723-51d67f241de6\", \"522c5ac1-1ddd-42fb-a938-09fdaf2cf70f\"))"
   ]
  },
  {
   "cell_type": "code",
   "execution_count": null,
   "metadata": {},
   "outputs": [],
   "source": [
    "# As well as our reference set\n",
    "reference <- LoadH5Seurat(\"/tmp/refs/pbmc_multimodal.h5seurat\")"
   ]
  },
  {
   "cell_type": "code",
   "execution_count": null,
   "metadata": {},
   "outputs": [],
   "source": [
    "# We'll load our h5's from disk into a list\n",
    "h5files<-list.files(pattern=\"h5\",path = \"/home/jupyter/cache\",recursive = T,full.names = T)\n",
    "h5list<-lapply(h5files,function(file){\n",
    "    H5weaver::read_h5_seurat(file,feature_names = \"name\")\n",
    "})"
   ]
  },
  {
   "cell_type": "code",
   "execution_count": null,
   "metadata": {},
   "outputs": [],
   "source": [
    "# And then merge them, and clean up\n",
    "so<-merge(h5list[[1]],h5list[2:length(h5list)])\n",
    "rm(h5list)\n",
    "rm(h5files)\n",
    "gc()"
   ]
  },
  {
   "cell_type": "code",
   "execution_count": null,
   "metadata": {},
   "outputs": [],
   "source": [
    "# We'll run SCTransform\n",
    "options(warn=-1)\n",
    "so <- SCTransform(so, conserve.memory = T)\n",
    "options(warn=0)"
   ]
  },
  {
   "cell_type": "code",
   "execution_count": null,
   "metadata": {},
   "outputs": [],
   "source": [
    "anchors <- FindTransferAnchors(\n",
    "  reference = reference,\n",
    "  query = so,\n",
    "  normalization.method = \"SCT\",\n",
    "  reference.reduction = \"spca\",\n",
    "  dims = 1:50\n",
    ")\n",
    "so <- MapQuery(\n",
    "  anchorset = anchors,\n",
    "  query = so,\n",
    "  reference = reference,\n",
    "  refdata = list(\n",
    "    celltype.l1 = \"celltype.l1\",\n",
    "    celltype.l2 = \"celltype.l2\",\n",
    "    celltype.l3 = \"celltype.l3\",      \n",
    "    predicted_ADT = \"ADT\"\n",
    "  ),\n",
    "  reference.reduction = \"spca\", \n",
    "  reduction.model = \"wnn.umap\"\n",
    ")"
   ]
  },
  {
   "cell_type": "code",
   "execution_count": null,
   "metadata": {},
   "outputs": [],
   "source": [
    "so<-RunPCA(so)\n",
    "so<-RunUMAP(so,dims=1:50)"
   ]
  },
  {
   "cell_type": "code",
   "execution_count": null,
   "metadata": {},
   "outputs": [],
   "source": [
    "# Save as RData? \n",
    "save(so, anchors, file = \"Seurat_output.RData\")"
   ]
  },
  {
   "cell_type": "code",
   "execution_count": null,
   "metadata": {},
   "outputs": [],
   "source": []
  }
 ],
 "metadata": {
  "kernelspec": {
   "display_name": "R 4",
   "language": "R",
   "name": "ir4"
  },
  "language_info": {
   "codemirror_mode": "r",
   "file_extension": ".r",
   "mimetype": "text/x-r-source",
   "name": "R",
   "pygments_lexer": "r",
   "version": "4.0.5"
  }
 },
 "nbformat": 4,
 "nbformat_minor": 4
}
