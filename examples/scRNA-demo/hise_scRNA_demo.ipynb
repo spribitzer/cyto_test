{
 "cells": [
  {
   "cell_type": "markdown",
   "metadata": {},
   "source": [
    "## HISE scRNA-seq API demo\n",
    "\n",
    "Lucas T. Graybuck, PhD (lucasg@alleninstitute.org)\n",
    "\n",
    "Updated 2021-03-18 by Valerie Conklin (valerie.conklin@alleninstitute.org)\n",
    "\n",
    "In this notebook, we'll demonstrate retrieval of scRNA-seq data from HISE using the R API package called (you guessed it) `hise`.\n",
    "\n",
    "The HISE package lets you download files containing the scRNA-seq results from a single PBMC sample (i.e. PBMCs from one patient obtained from a single visit). \n"
   ]
  },
  {
   "cell_type": "markdown",
   "metadata": {},
   "source": [
    "### Load packages\n",
    "\n",
    "`hise` is the only package we'll really need to start pulling data from HISE. However, for this demo we'll also load `Seurat` and `SingleCellExperiment`, which can also be used with HISE query results.\n",
    "\n",
    "Because these packages dump a lot of messages on load, we'll build the `quiet_library()` function just for the sake of cleaner display in this notebook."
   ]
  },
  {
   "cell_type": "code",
   "execution_count": 1,
   "metadata": {},
   "outputs": [],
   "source": [
    "quiet_library <- function(...) {\n",
    "    suppressPackageStartupMessages(library(...))\n",
    "}\n",
    "\n",
    "quiet_library(hise)\n",
    "quiet_library(Seurat)\n",
    "quiet_library(SingleCellExperiment)\n",
    "options(stringsAsFactors = FALSE) # Not necessary if your R version is >= 4.0"
   ]
  },
  {
   "cell_type": "markdown",
   "metadata": {},
   "source": [
    "### Retrieving files\n",
    "\n",
    "The `hise::readFiles` method is used to pull files from HISE into the IDE. It takes a list of file IDs as an argument. A `fileId` is a UUID that looks like this: `29e18e00-67d2-495d-9378-75142720ed2a`. \n",
    "The best way to find a list of file IDs for files you want to download is to use the Advanced Search page on the HISE website to narrow down the files you want, and then click the \"View IDE Script\" button at the bottom of the search results page. This will show the readFiles function with the file IDs automatically populated for the files you selected in the search results. \n", 
    "`hise::readFiles` will download each file to your IDE, as well as return a data frame (or list of data frames) representing the contents of these files. \n",
    "For this demo, we'll use a small test file with this `fileId`:\n",
    "```\n",
    "be011613-e653-4c26-ab00-02953732d2ab\n",
    "```"
   ]
  },
  {
   "cell_type": "code",
   "execution_count": 3,
   "metadata": {},
   "outputs": [],
   "source": [
    "myFile <- \"be011613-e653-4c26-ab00-02953732d2ab\""
   ]
  },
  {
   "cell_type": "markdown",
   "metadata": {},
   "source": [
    "Copying the `readFiles` function from the \"View IDE Script\" button on the Advanced Search results page is the easiest way to get files of any type into the IDE. This function accepts file IDs of any file type, not just scRNA files. \n",
    "\n",
    "However, there are also 4 SCRNA-specific functions to know about that may be useful:  \n",
    "1. `readSCRNAFileSeurat()` converts HISE query results directly to a `Seurat` object, ready for downstream analysis with the Seurat package.  \n",
    "2. `readSCRNAFileSCE()` provides query results as a `SingleCellExperiment`, ready for use with a myriad of `BioConductor` packages.  \n",
    "3. `readSCRNAFileCDS()` converts query results to `cell_data_set`, ready for use with `monocle3`.  \n",
    "4. `readSCRNAFile()` is the parent of the two functions above, and allows more narrowly filtered retrieval of `data.frame` and `Matrix::dgCMatrix` objects.  \n",
    "\n",
    "Let's take a look at the use of these 4 retrieval modes:"
   ]
  },
  {
   "cell_type": "markdown",
   "metadata": {},
   "source": [
    "#### Seurat Results"
   ]
  },
  {
   "cell_type": "code",
   "execution_count": 4,
   "metadata": {},
   "outputs": [
    {
     "data": {
      "text/plain": [
       "An object of class Seurat \n",
       "33538 features across 42 samples within 1 assay \n",
       "Active assay: RNA (33538 features, 0 variable features)"
      ]
     },
     "metadata": {},
     "output_type": "display_data"
    }
   ],
   "source": [
    "fileSeurat <- readSCRNAFileSeurat(fileId = myFile)\n",
    "fileSeurat"
   ]
  },
  {
   "cell_type": "markdown",
   "metadata": {},
   "source": [
    "Here, we have a `Seurat` object, so we can do all of our favorite `Seurat`y things:"
   ]
  },
  {
   "cell_type": "code",
   "execution_count": 5,
   "metadata": {},
   "outputs": [
    {
     "name": "stderr",
     "output_type": "stream",
     "text": [
      "Warning message in simpleLoess(y, x, w, span, degree = degree, parametric = parametric, :\n",
      "“pseudoinverse used at -1.6441”Warning message in simpleLoess(y, x, w, span, degree = degree, parametric = parametric, :\n",
      "“neighborhood radius 0.32186”Warning message in simpleLoess(y, x, w, span, degree = degree, parametric = parametric, :\n",
      "“reciprocal condition number  2.8147e-30”Warning message in simpleLoess(y, x, w, span, degree = degree, parametric = parametric, :\n",
      "“There are other near singularities as well. 0.090619”Centering and scaling data matrix\n",
      "PC_ 1 \n",
      "Positive:  ENSG00000081059, ENSG00000120915, ENSG00000111863, ENSG00000168685, ENSG00000145293, ENSG00000080986, ENSG00000251562, ENSG00000138795, ENSG00000231621, ENSG00000080845 \n",
      "\t   ENSG00000110697, ENSG00000163785, ENSG00000116191, ENSG00000147535, ENSG00000135205, ENSG00000170445, ENSG00000277734, ENSG00000265972, ENSG00000101266, ENSG00000172005 \n",
      "\t   ENSG00000156639, ENSG00000211677, ENSG00000205268, ENSG00000157450, ENSG00000160307, ENSG00000255284, ENSG00000173928, ENSG00000125648, ENSG00000117597, ENSG00000226979 \n",
      "Negative:  ENSG00000149269, ENSG00000177728, ENSG00000158473, ENSG00000198561, ENSG00000185215, ENSG00000158869, ENSG00000110077, ENSG00000114013, ENSG00000059728, ENSG00000102524 \n",
      "\t   ENSG00000115271, ENSG00000168461, ENSG00000135218, ENSG00000156265, ENSG00000127951, ENSG00000103381, ENSG00000163220, ENSG00000182718, ENSG00000156313, ENSG00000101439 \n",
      "\t   ENSG00000100079, ENSG00000090376, ENSG00000090382, ENSG00000007237, ENSG00000146070, ENSG00000197746, ENSG00000197766, ENSG00000119535, ENSG00000143546, ENSG00000118508 \n"
     ]
    }
   ],
   "source": [
    "fileSeurat <- Seurat::NormalizeData(fileSeurat)\n",
    "fileSeurat <- Seurat::FindVariableFeatures(fileSeurat)\n",
    "fileSeurat <- Seurat::ScaleData(fileSeurat)\n",
    "fileSeurat <- Seurat::RunPCA(fileSeurat, \n",
    "                             npcs = 5,\n",
    "                             ndims.print = 1)"
   ]
  },
  {
   "cell_type": "code",
   "execution_count": 6,
   "metadata": {},
   "outputs": [
    {
     "name": "stderr",
     "output_type": "stream",
     "text": [
      "Warning message:\n",
      "“The default method for RunUMAP has changed from calling Python UMAP via reticulate to the R-native UWOT using the cosine metric\n",
      "To use Python UMAP via reticulate, set umap.method to 'umap-learn' and metric to 'correlation'\n",
      "This message will be shown once per session”16:28:05 UMAP embedding parameters a = 0.9922 b = 1.112\n",
      "16:28:05 Read 42 rows and found 5 numeric columns\n",
      "16:28:05 Using Annoy for neighbor search, n_neighbors = 30\n",
      "16:28:05 Building Annoy index with metric = cosine, n_trees = 50\n",
      "0%   10   20   30   40   50   60   70   80   90   100%\n",
      "[----|----|----|----|----|----|----|----|----|----|\n",
      "**************************************************|\n",
      "16:28:06 Writing NN index file to temp file /tmp/RtmpG5dnUk/file582d745a30f0\n",
      "16:28:06 Searching Annoy index using 1 thread, search_k = 3000\n",
      "16:28:06 Annoy recall = 100%\n",
      "16:28:06 Commencing smooth kNN distance calibration using 1 thread\n",
      "16:28:07 Initializing from normalized Laplacian + noise\n",
      "16:28:07 Commencing optimization for 500 epochs, with 1352 positive edges\n",
      "16:28:08 Optimization finished\n"
     ]
    },
    {
     "data": {
      "image/png": "[encoded data removed]",
      "text/plain": [
       "plot without title"
      ]
     },
     "metadata": {},
     "output_type": "display_data"
    }
   ],
   "source": [
    "options(repr.plot.width = 5, repr.plot.height = 3)\n",
    "\n",
    "fileSeurat <- Seurat::RunUMAP(fileSeurat, dims = 1:5)\n",
    "Seurat::DimPlot(fileSeurat, reduction = \"umap\")"
   ]
  },
  {
   "cell_type": "markdown",
   "metadata": {},
   "source": [
    "#### SingleCellExperiment Results"
   ]
  },
  {
   "cell_type": "code",
   "execution_count": 7,
   "metadata": {},
   "outputs": [
    {
     "data": {
      "text/plain": [
       "class: SingleCellExperiment \n",
       "dim: 33538 42 \n",
       "metadata(0):\n",
       "assays(1): counts\n",
       "rownames(33538): ENSG00000243485 ENSG00000237613 ... ENSG00000277475\n",
       "  ENSG00000268674\n",
       "rowData names(4): id name type i\n",
       "colnames(42): 2e9c3e1ca61b11ea80be4640a96b0d6e\n",
       "  2e9c5ca8a61b11ea80be4640a96b0d6e ... f7557d1aa61a11ea845b6abc0c1f7f04\n",
       "  f7558184a61a11ea845b6abc0c1f7f04\n",
       "colData names(18): batch_id cell_name ... umap_2 well_id\n",
       "reducedDimNames(0):\n",
       "spikeNames(0):\n",
       "altExpNames(0):"
      ]
     },
     "metadata": {},
     "output_type": "display_data"
    }
   ],
   "source": [
    "fileSCE <- readSCRNAFileSCE(fileId = myFile)\n",
    "fileSCE"
   ]
  },
  {
   "cell_type": "markdown",
   "metadata": {},
   "source": [
    "Here, we've got a `SingleCellExperiment` that we can use for BioConductor analyses"
   ]
  },
  {
   "cell_type": "code",
   "execution_count": 8,
   "metadata": {},
   "outputs": [
    {
     "data": {
      "image/png": "[encoded data removed]",
      "text/plain": [
       "plot without title"
      ]
     },
     "metadata": {},
     "output_type": "display_data"
    }
   ],
   "source": [
    "options(repr.plot.width = 5, repr.plot.height = 3)\n",
    "\n",
    "fileSCE <- scater::logNormCounts(fileSCE)\n",
    "fileSCE <- scater::runPCA(fileSCE, ncomponents = 5)\n",
    "fileSCE <- scater::runTSNE(fileSCE, dimred=\"PCA\")\n",
    "scater::plotReducedDim(fileSCE, dimred=\"TSNE\")"
   ]
  },
  {
   "cell_type": "markdown",
   "metadata": {},
   "source": [
    "### cell_data_set Objects"
   ]
  },
  {
   "cell_type": "code",
   "execution_count": 9,
   "metadata": {},
   "outputs": [
    {
     "name": "stderr",
     "output_type": "stream",
     "text": [
      "Loading required namespace: monocle3\n",
      "\n",
      "Attaching package: ‘monocle3’\n",
      "\n",
      "The following objects are masked from ‘package:Biobase’:\n",
      "\n",
      "    exprs, fData, fData<-, pData, pData<-\n",
      "\n"
     ]
    },
    {
     "data": {
      "text/plain": [
       "class: cell_data_set \n",
       "dim: 33538 42 \n",
       "metadata(1): cds_version\n",
       "assays(1): counts\n",
       "rownames(33538): ENSG00000243485 ENSG00000237613 ... ENSG00000277475\n",
       "  ENSG00000268674\n",
       "rowData names(4): id gene_short_name type i\n",
       "colnames(42): 2e9c3e1ca61b11ea80be4640a96b0d6e\n",
       "  2e9c5ca8a61b11ea80be4640a96b0d6e ... f7557d1aa61a11ea845b6abc0c1f7f04\n",
       "  f7558184a61a11ea845b6abc0c1f7f04\n",
       "colData names(19): batch_id cell_name ... well_id Size_Factor\n",
       "reducedDimNames(0):\n",
       "spikeNames(0):\n",
       "altExpNames(0):"
      ]
     },
     "metadata": {},
     "output_type": "display_data"
    }
   ],
   "source": [
    "fileCDS <- readSCRNAFileCDS(fileId = myFile)\n",
    "fileCDS"
   ]
  },
  {
   "cell_type": "markdown",
   "metadata": {},
   "source": [
    "### Custom results\n",
    "\n",
    "For other packages and analyses, you can retrieve results from HISE as `data.frame` and `Matrix::dgCMatrix` objects with `readSCRNAFile()`.\n",
    "\n",
    "Different parts of the dataset are retrieved based on the `format` parameter:\n",
    "1. `values` retrieves a `Matrix::dgCMatrix`, which is a column-indexed sparse matrix representation of scRNA-seq count values. Cells are columns, and genes are rows in this representation.\n",
    "2. `observations` retrieves metadata related to cells as a `data.frame`. The `cell_uuid` column of the resulting data.frame correspond to the column names of the `values` matrix.\n",
    "3. `features` retrieves metadata related to genes as a `data.frame`. The `id` column of this data.frame correspond to the row names of `values` matrix.\n",
    "\n",
    "**Note:** `features` retrieved from the server currently return only those features that have values in the specified file. To retrieve all 10x 3' features, we provide a second function, `getSCRNAFeatures()`, that will supply all available features."
   ]
  },
  {
   "cell_type": "code",
   "execution_count": 10,
   "metadata": {},
   "outputs": [
    {
     "name": "stdout",
     "output_type": "stream",
     "text": [
      "Formal class 'dgCMatrix' [package \"Matrix\"] with 6 slots\n",
      "  ..@ i       : int [1:74481] 14 15 18 20 24 46 63 70 72 115 ...\n",
      "  ..@ p       : int [1:43] 0 1313 2272 3335 6560 8406 9867 13827 14901 15994 ...\n",
      "  ..@ Dim     : int [1:2] 10867 42\n",
      "  ..@ Dimnames:List of 2\n",
      "  .. ..$ : chr [1:10867] \"ENSG00000000003\" \"ENSG00000000419\" \"ENSG00000000457\" \"ENSG00000000460\" ...\n",
      "  .. ..$ : chr [1:42] \"2e9c3e1ca61b11ea80be4640a96b0d6e\" \"2e9c5ca8a61b11ea80be4640a96b0d6e\" \"2e9cbd06a61b11ea80be4640a96b0d6e\" \"2e9cd99ea61b11ea80be4640a96b0d6e\" ...\n",
      "  ..@ x       : num [1:74481] 1 1 1 1 1 1 1 1 1 1 ...\n",
      "  ..@ factors : list()\n"
     ]
    }
   ],
   "source": [
    "fileValues <- readSCRNAFile(fileId = myFile,\n",
    "                           format = \"values\")\n",
    "str(fileValues)"
   ]
  },
  {
   "cell_type": "code",
   "execution_count": 11,
   "metadata": {},
   "outputs": [
    {
     "name": "stdout",
     "output_type": "stream",
     "text": [
      "'data.frame':\t42 obs. of  18 variables:\n",
      " $ batch_id              : chr  \"X002\" \"X002\" \"X002\" \"X002\" ...\n",
      " $ cell_name             : chr  \"idealistic_threadbare_hamadryad\" \"babyish_seaborne_xenopus\" \"isinglass_crusty_clam\" \"hick_betrothed_chipmunk\" ...\n",
      " $ cell_uuid             : chr  \"2e9c3e1ca61b11ea80be4640a96b0d6e\" \"2e9c5ca8a61b11ea80be4640a96b0d6e\" \"2e9cbd06a61b11ea80be4640a96b0d6e\" \"2e9cd99ea61b11ea80be4640a96b0d6e\" ...\n",
      " $ chip_id               : chr  \"X002-P1C1\" \"X002-P1C1\" \"X002-P1C1\" \"X002-P1C1\" ...\n",
      " $ hto_barcode           : chr  \"TTCCGCCTCTCTTTG\" \"TTCCGCCTCTCTTTG\" \"TTCCGCCTCTCTTTG\" \"TTCCGCCTCTCTTTG\" ...\n",
      " $ hto_category          : chr  \"singlet\" \"singlet\" \"singlet\" \"singlet\" ...\n",
      " $ n_genes               : int  1313 959 1063 3225 1846 1461 3960 1074 1093 3281 ...\n",
      " $ n_mito_umis           : int  62 79 93 430 131 77 754 186 59 397 ...\n",
      " $ n_reads               : int  17010 8579 13808 42169 21648 20103 61166 14925 12331 53016 ...\n",
      " $ n_umis                : int  4575 2334 3967 12146 6041 5582 17342 4236 3605 15430 ...\n",
      " $ original_barcodes     : chr  \"AAAGGGCCAGTGTACT\" \"ACACAGTCAGAGAAAG\" \"AGGAAATAGAGCATCG\" \"ATCCATTAGTAGCTCT\" ...\n",
      " $ pbmc_sample_id        : chr  \"TPB5206W3\" \"TPB5206W3\" \"TPB5206W3\" \"TPB5206W3\" ...\n",
      " $ pool_id               : chr  \"X002-P1\" \"X002-P1\" \"X002-P1\" \"X002-P1\" ...\n",
      " $ seurat_pbmc_type      : chr  \"CD4 Memory\" \"CD8 effector\" \"CD4 Naive\" \"NK cell\" ...\n",
      " $ seurat_pbmc_type_score: num  0.935 0.872 1 0.59 0.959 ...\n",
      " $ umap_1                : num  -0.472 -0.789 1.847 -1.738 -1.256 ...\n",
      " $ umap_2                : num  -0.0291 -0.8195 -0.1523 -0.677 0.1152 ...\n",
      " $ well_id               : chr  \"X002-P1C1W5\" \"X002-P1C1W5\" \"X002-P1C1W5\" \"X002-P1C1W5\" ...\n"
     ]
    }
   ],
   "source": [
    "fileObs <- readSCRNAFile(fileId = myFile,\n",
    "                         format = \"observations\")\n",
    "str(fileObs)"
   ]
  },
  {
   "cell_type": "code",
   "execution_count": 12,
   "metadata": {},
   "outputs": [
    {
     "name": "stdout",
     "output_type": "stream",
     "text": [
      "'data.frame':\t10867 obs. of  4 variables:\n",
      " $ feature_type: chr  \"Gene Expression\" \"Gene Expression\" \"Gene Expression\" \"Gene Expression\" ...\n",
      " $ genome      : chr  \"GRCh38\" \"GRCh38\" \"GRCh38\" \"GRCh38\" ...\n",
      " $ id          : chr  \"ENSG00000000003\" \"ENSG00000000419\" \"ENSG00000000457\" \"ENSG00000000460\" ...\n",
      " $ name        : chr  \"TSPAN6\" \"DPM1\" \"SCYL3\" \"C1orf112\" ...\n"
     ]
    }
   ],
   "source": [
    "fileFeat <- readSCRNAFile(fileId = myFile,\n",
    "                          format = \"features\")\n",
    "str(fileFeat)"
   ]
  },
  {
   "cell_type": "code",
   "execution_count": 13,
   "metadata": {},
   "outputs": [
    {
     "name": "stdout",
     "output_type": "stream",
     "text": [
      "'data.frame':\t33538 obs. of  4 variables:\n",
      " $ id  : chr  \"ENSG00000243485\" \"ENSG00000237613\" \"ENSG00000186092\" \"ENSG00000238009\" ...\n",
      " $ name: chr  \"MIR1302-2HG\" \"FAM138A\" \"OR4F5\" \"AL627309.1\" ...\n",
      " $ type: chr  \"Gene Expression\" \"Gene Expression\" \"Gene Expression\" \"Gene Expression\" ...\n",
      " $ i   : int  0 1 2 3 4 5 6 7 8 9 ...\n"
     ]
    }
   ],
   "source": [
    "featAll <- getSCRNAFeatures()\n",
    "\n",
    "str(featAll)"
   ]
  },
  {
   "cell_type": "markdown",
   "metadata": {},
   "source": [
    "### Retrieving results\n",
    "\n",
    "We can get data for a combined set of files that we've defined as a \"Result set\" in HISE using similar patterns. For this demo, I've made a Result set consisting of 3 small files:\n",
    "```\n",
    "7448cb78-980e-4a15-ac6f-5499536ef48b\n",
    "```"
   ]
  },
  {
   "cell_type": "code",
   "execution_count": 14,
   "metadata": {},
   "outputs": [],
   "source": [
    "myResult <- \"7448cb78-980e-4a15-ac6f-5499536ef48b\""
   ]
  },
  {
   "cell_type": "markdown",
   "metadata": {},
   "source": [
    "For `resultId`s, we have the same 4 read functions with `Result` instead of `File` in their names:  \n",
    "1. `readSCRNAResultSeurat()` converts HISE query results directly to a `Seurat` object, ready for downstream analysis with the Seurat package.  \n",
    "2. `readSCRNAResultSCE()` provides query results as a `SingleCellExperiment`, ready for use with a myriad of `BioConductor` packages.   \n",
    "3. `readSCRNAResultCDS()` returns results as a `cell_data_set` for use with `monocle3`.   \n",
    "4. `readSCRNAResult()` is the parent of the two functions above, and allows more flexible retrieval of `data.frame` and `Matrix::dgCMatrix` objects.  \n",
    "\n",
    "By default, the results from all of the files in the Result set are combined into a single resulting object."
   ]
  },
  {
   "cell_type": "code",
   "execution_count": 15,
   "metadata": {},
   "outputs": [
    {
     "data": {
      "text/plain": [
       "An object of class Seurat \n",
       "33538 features across 84 samples within 1 assay \n",
       "Active assay: RNA (33538 features, 0 variable features)"
      ]
     },
     "metadata": {},
     "output_type": "display_data"
    }
   ],
   "source": [
    "resultSeurat <- readSCRNAResultSeurat(resultId = myResult)\n",
    "resultSeurat"
   ]
  },
  {
   "cell_type": "markdown",
   "metadata": {},
   "source": [
    "If you'd like a list of separate data for each file in your `Result` set, this can be obtained using `combine = FALSE`:"
   ]
  },
  {
   "cell_type": "code",
   "execution_count": 16,
   "metadata": {},
   "outputs": [
    {
     "name": "stdout",
     "output_type": "stream",
     "text": [
      "An object of class Seurat \n",
      "33538 features across 42 samples within 1 assay \n",
      "Active assay: RNA (33538 features, 0 variable features)\n",
      "An object of class Seurat \n",
      "33538 features across 42 samples within 1 assay \n",
      "Active assay: RNA (33538 features, 0 variable features)\n"
     ]
    },
    {
     "data": {
      "text/plain": [
       "[[1]]\n",
       "An object of class Seurat \n",
       "33538 features across 42 samples within 1 assay \n",
       "Active assay: RNA (33538 features, 0 variable features)\n",
       "\n",
       "[[2]]\n",
       "An object of class Seurat \n",
       "33538 features across 42 samples within 1 assay \n",
       "Active assay: RNA (33538 features, 0 variable features)\n"
      ]
     },
     "metadata": {},
     "output_type": "display_data"
    }
   ],
   "source": [
    "resultSeuratSeparate <- readSCRNAResultSeurat(resultId = myResult,\n",
    "                                              combine = FALSE)\n",
    "lapply(resultSeuratSeparate, print)"
   ]
  },
  {
   "cell_type": "markdown",
   "metadata": {},
   "source": [
    "The other `Result`-centric functions work similarly to the `File`-centric functions demonstrated above."
   ]
  },
  {
   "cell_type": "markdown",
   "metadata": {},
   "source": [
    "### Session Info"
   ]
  },
  {
   "cell_type": "code",
   "execution_count": 17,
   "metadata": {},
   "outputs": [
    {
     "data": {
      "text/plain": [
       "R version 3.6.1 (2019-07-05)\n",
       "Platform: x86_64-pc-linux-gnu (64-bit)\n",
       "Running under: Debian GNU/Linux 9 (stretch)\n",
       "\n",
       "Matrix products: default\n",
       "BLAS:   /usr/lib/openblas-base/libblas.so.3\n",
       "LAPACK: /usr/lib/libopenblasp-r0.2.19.so\n",
       "\n",
       "locale:\n",
       " [1] LC_CTYPE=en_US.UTF-8       LC_NUMERIC=C              \n",
       " [3] LC_TIME=en_US.UTF-8        LC_COLLATE=en_US.UTF-8    \n",
       " [5] LC_MONETARY=en_US.UTF-8    LC_MESSAGES=en_US.UTF-8   \n",
       " [7] LC_PAPER=en_US.UTF-8       LC_NAME=C                 \n",
       " [9] LC_ADDRESS=C               LC_TELEPHONE=C            \n",
       "[11] LC_MEASUREMENT=en_US.UTF-8 LC_IDENTIFICATION=C       \n",
       "\n",
       "attached base packages:\n",
       "[1] parallel  stats4    stats     graphics  grDevices utils     datasets \n",
       "[8] methods   base     \n",
       "\n",
       "other attached packages:\n",
       " [1] monocle3_0.2.2              SingleCellExperiment_1.8.0 \n",
       " [3] SummarizedExperiment_1.16.1 DelayedArray_0.12.3        \n",
       " [5] BiocParallel_1.20.1         matrixStats_0.56.0         \n",
       " [7] Biobase_2.46.0              GenomicRanges_1.38.0       \n",
       " [9] GenomeInfoDb_1.22.1         IRanges_2.20.2             \n",
       "[11] S4Vectors_0.24.4            BiocGenerics_0.32.0        \n",
       "[13] Seurat_3.1.5                hise_0.0.2                 \n",
       "[15] repr_1.0.1                 \n",
       "\n",
       "loaded via a namespace (and not attached):\n",
       "  [1] Rtsne_0.15               ggbeeswarm_0.6.0         colorspace_1.4-1        \n",
       "  [4] ellipsis_0.3.1           ggridges_0.5.2           IRdisplay_0.7.0         \n",
       "  [7] XVector_0.26.0           base64enc_0.1-3          BiocNeighbors_1.4.2     \n",
       " [10] leiden_0.3.3             listenv_0.8.0            farver_2.0.3            \n",
       " [13] npsurv_0.4-0             ggrepel_0.8.2            RSpectra_0.16-0         \n",
       " [16] codetools_0.2-16         splines_3.6.1            lsei_1.2-0              \n",
       " [19] scater_1.14.6            IRkernel_1.0.2           jsonlite_1.6.1          \n",
       " [22] Cairo_1.5-12             ica_1.0-2                cluster_2.1.0           \n",
       " [25] png_0.1-7                uwot_0.1.8               sctransform_0.2.1       \n",
       " [28] compiler_3.6.1           httr_1.4.1               assertthat_0.2.1        \n",
       " [31] Matrix_1.2-17            lazyeval_0.2.2           BiocSingular_1.2.2      \n",
       " [34] htmltools_0.4.0          tools_3.6.1              rsvd_1.0.3              \n",
       " [37] igraph_1.2.5             gtable_0.3.0             glue_1.4.1              \n",
       " [40] GenomeInfoDbData_1.2.2   RANN_2.6.1               reshape2_1.4.4          \n",
       " [43] dplyr_0.8.5              rappdirs_0.3.1           Rcpp_1.0.4.6            \n",
       " [46] vctrs_0.3.0              ape_5.3                  nlme_3.1-140            \n",
       " [49] DelayedMatrixStats_1.8.0 lmtest_0.9-37            stringr_1.4.0           \n",
       " [52] globals_0.12.5           lifecycle_0.2.0          irlba_2.3.3             \n",
       " [55] future_1.17.0            MASS_7.3-51.4            zlibbioc_1.32.0         \n",
       " [58] zoo_1.8-8                scales_1.1.1             RColorBrewer_1.1-2      \n",
       " [61] curl_4.3                 reticulate_1.15          pbapply_1.4-2           \n",
       " [64] gridExtra_2.3            ggplot2_3.3.0            stringi_1.4.6           \n",
       " [67] rlang_0.4.6              pkgconfig_2.0.3          bitops_1.0-6            \n",
       " [70] evaluate_0.14            lattice_0.20-38          ROCR_1.0-11             \n",
       " [73] purrr_0.3.4              patchwork_1.0.0          htmlwidgets_1.5.1       \n",
       " [76] labeling_0.3             cowplot_1.0.0            tidyselect_1.1.0        \n",
       " [79] RcppAnnoy_0.0.16         plyr_1.8.6               magrittr_1.5            \n",
       " [82] R6_2.4.1                 pbdZMQ_0.3-3             pillar_1.4.4            \n",
       " [85] fitdistrplus_1.0-14      survival_3.1-12          RCurl_1.98-1.2          \n",
       " [88] tibble_3.0.1             future.apply_1.5.0       tsne_0.1-3              \n",
       " [91] crayon_1.3.4             uuid_0.1-4               KernSmooth_2.23-15      \n",
       " [94] plotly_4.9.2.1           viridis_0.5.1            grid_3.6.1              \n",
       " [97] data.table_1.12.8        digest_0.6.25            tidyr_1.1.0             \n",
       "[100] munsell_0.5.0            beeswarm_0.2.3           viridisLite_0.3.0       \n",
       "[103] vipor_0.4.5             "
      ]
     },
     "metadata": {},
     "output_type": "display_data"
    }
   ],
   "source": [
    "sessionInfo()"
   ]
  },
  {
   "cell_type": "code",
   "execution_count": null,
   "metadata": {},
   "outputs": [],
   "source": []
  }
 ],
 "metadata": {
  "kernelspec": {
   "display_name": "R",
   "language": "R",
   "name": "ir"
  },
  "language_info": {
   "codemirror_mode": "r",
   "file_extension": ".r",
   "mimetype": "text/x-r-source",
   "name": "R",
   "pygments_lexer": "r",
   "version": "3.6.1"
  }
 },
 "nbformat": 4,
 "nbformat_minor": 4
}