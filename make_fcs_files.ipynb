{
 "cells": [
  {
   "cell_type": "code",
   "execution_count": 1,
   "id": "9d77a7bc",
   "metadata": {},
   "outputs": [],
   "source": [
    "library(flowCore)"
   ]
  },
  {
   "cell_type": "code",
   "execution_count": 3,
   "id": "58625e00",
   "metadata": {},
   "outputs": [],
   "source": [
    "rdsDirectory = \"./compensate_fcs/final_fcs\"\n",
    "fcsDirectory = \"./fcs_files\"\n",
    "\n",
    "rdsFiles = list.files(path = rdsDirectory, pattern = \"\\\\.rds$\")\n",
    "\n",
    "for (iFile in rdsFiles) {\n",
    "  file2load = file.path(rdsDirectory,iFile)\n",
    "  file2write = file.path(fcsDirectory,paste0(substr(iFile,1,nchar(iFile)-3),\"fcs\"))\n",
    "  x = readRDS(file2load)\n",
    "  write.FCS(x, file2write)\n",
    "}"
   ]
  }
 ],
 "metadata": {
  "kernelspec": {
   "display_name": "R 4",
   "language": "R",
   "name": "ir"
  },
  "language_info": {
   "codemirror_mode": "r",
   "file_extension": ".r",
   "mimetype": "text/x-r-source",
   "name": "R",
   "pygments_lexer": "r",
   "version": "4.1.1"
  }
 },
 "nbformat": 4,
 "nbformat_minor": 5
}
