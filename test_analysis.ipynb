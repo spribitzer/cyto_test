{
 "cells": [
  {
   "cell_type": "code",
   "execution_count": 1,
   "id": "ec4e27ea",
   "metadata": {},
   "outputs": [
    {
     "name": "stderr",
     "output_type": "stream",
     "text": [
      "Loading required package: flowCore\n",
      "\n",
      "Loading required package: flowWorkspace\n",
      "\n",
      "As part of improvements to flowWorkspace, some behavior of\n",
      "GatingSet objects has changed. For details, please read the section\n",
      "titled \"The cytoframe and cytoset classes\" in the package vignette:\n",
      "\n",
      "  vignette(\"flowWorkspace-Introduction\", \"flowWorkspace\")\n",
      "\n",
      "Loading required package: openCyto\n",
      "\n"
     ]
    }
   ],
   "source": [
    "library(CytoExploreR)\n",
    "library(CytoExploreRData)"
   ]
  },
  {
   "cell_type": "code",
   "execution_count": 2,
   "id": "491ae11f",
   "metadata": {},
   "outputs": [
    {
     "name": "stderr",
     "output_type": "stream",
     "text": [
      "Loading FCS files into a GatingSet...\n",
      "\n",
      "Setting gatingTemplate.csv as the active gatingTemplate...\n",
      "\n",
      "Creating gatingTemplate.csv ...\n",
      "\n",
      "Done!\n",
      "\n"
     ]
    }
   ],
   "source": [
    "gs <- cyto_setup(\"test\",\n",
    "                 gatingTemplate = \"gatingTemplate.csv\", markers = FALSE, details = FALSE)"
   ]
  },
  {
   "cell_type": "code",
   "execution_count": null,
   "id": "3b2d4432",
   "metadata": {},
   "outputs": [],
   "source": [
    "gs <- cyto_transform(gs)"
   ]
  }
 ],
 "metadata": {
  "kernelspec": {
   "display_name": "R 4",
   "language": "R",
   "name": "ir"
  },
  "language_info": {
   "codemirror_mode": "r",
   "file_extension": ".r",
   "mimetype": "text/x-r-source",
   "name": "R",
   "pygments_lexer": "r",
   "version": "4.1.1"
  }
 },
 "nbformat": 4,
 "nbformat_minor": 5
}
